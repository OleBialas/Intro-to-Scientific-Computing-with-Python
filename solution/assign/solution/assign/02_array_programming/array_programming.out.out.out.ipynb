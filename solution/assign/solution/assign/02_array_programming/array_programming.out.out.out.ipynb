{
  "cells": [
    {
      "cell_type": "markdown",
      "metadata": {},
      "source": [
        "# Array Programming in Numpy\n",
        "\n",
        "## Indexing and Slicing\n",
        "\n",
        "Often, we want to access specific values stored inside an array. This\n",
        "can be done by slicing and indexing. Indexing simply means getting the\n",
        "element at a specific position. Python starts counting at 0, so `x[0]`\n",
        "will get the **1st** element of `x`. Slicing means getting all values\n",
        "within a certain range by providing a start and stop position. When we\n",
        "index and slice multi-dimensional arrays, we must provide multiple\n",
        "coordinates - one per dimension. We can also omitt a value to indicate\n",
        "that we want to get **all** values along that dimension\n",
        "\n",
        "| Code | Description |\n",
        "|------------------------------------|------------------------------------|\n",
        "| `x[0]` | Get the 1st element of `x` |\n",
        "| `x[-1]` | Get the last element of `x` |\n",
        "| `x[2:5]` | Get the 3rd 4th and 5th element of `x` |\n",
        "| `x[:5]` | Get everything up to and including the 5th element of `x` |\n",
        "| `x[2, 1]` | Get the element in the 3rd row and 2nd column of the 2-dimensional array `x` |\n",
        "| `x[0, :]` | Get the whole first row of `x` |\n",
        "| `x[1:5, 2]` | Get the values from rows 2 trough 5 in the 3rd column of `x` |\n",
        "\n",
        "------------------------------------------------------------------------\n",
        "\n",
        "<span class=\"theorem-title\">**Exercise 1**</span> Execute the cell below\n",
        "to import numpy and create the array `x`."
      ],
      "id": "7a54c888-0fa3-49f2-a217-140a0ce6fc7a"
    },
    {
      "cell_type": "code",
      "execution_count": 1,
      "metadata": {},
      "outputs": [],
      "source": [
        "import numpy as np\n",
        "\n",
        "x = np.array([1,2,3,4,5,6,7,8,9])"
      ],
      "id": "9bcfcd12"
    },
    {
      "cell_type": "markdown",
      "metadata": {},
      "source": [
        "<span class=\"theorem-title\">**Exercise 2**</span> Get the second element\n",
        "of `x`"
      ],
      "id": "37961997-9228-4e12-aa88-c12811d37eaf"
    },
    {
      "cell_type": "code",
      "execution_count": 3,
      "metadata": {},
      "outputs": [
        {
          "output_type": "stream",
          "name": "stdout",
          "text": [
            "​"
          ]
        }
      ],
      "source": [],
      "id": "caf44e07"
    },
    {
      "cell_type": "markdown",
      "metadata": {},
      "source": [
        "<span class=\"theorem-title\">**Exercise 3**</span> Get the element with\n",
        "the value `5` from x"
      ],
      "id": "07af4e33-82ac-471b-949c-a3ed3d740b1e"
    },
    {
      "cell_type": "code",
      "execution_count": 5,
      "metadata": {},
      "outputs": [
        {
          "output_type": "stream",
          "name": "stdout",
          "text": [
            "​"
          ]
        }
      ],
      "source": [],
      "id": "80b5fb51"
    },
    {
      "cell_type": "markdown",
      "metadata": {},
      "source": [
        "<span class=\"theorem-title\">**Exercise 4**</span> Get all the elements\n",
        "of `x` except for the first two"
      ],
      "id": "23d7a78e-2abc-413d-8a18-fca72a9e9c53"
    },
    {
      "cell_type": "code",
      "execution_count": 7,
      "metadata": {},
      "outputs": [
        {
          "output_type": "stream",
          "name": "stdout",
          "text": [
            "​"
          ]
        }
      ],
      "source": [],
      "id": "0c76598e"
    },
    {
      "cell_type": "markdown",
      "metadata": {},
      "source": [
        "<span class=\"theorem-title\">**Exercise 5**</span> Get all elements of\n",
        "`x` except for the first and last"
      ],
      "id": "d99fc9fb-026c-4dfa-96e1-c8655be57b8a"
    },
    {
      "cell_type": "code",
      "execution_count": 9,
      "metadata": {},
      "outputs": [
        {
          "output_type": "stream",
          "name": "stdout",
          "text": [
            "​"
          ]
        }
      ],
      "source": [],
      "id": "87a44e27"
    },
    {
      "cell_type": "markdown",
      "metadata": {},
      "source": [
        "<span class=\"theorem-title\">**Exercise 6**</span> Execute the cell below\n",
        "to define the 2-dimensional array `x`"
      ],
      "id": "db1d0d9d-3e3d-40b0-9383-6c99713ffa62"
    },
    {
      "cell_type": "code",
      "execution_count": 10,
      "metadata": {},
      "outputs": [],
      "source": [
        "x = np.array([\n",
        "    [1,2,3],\n",
        "    [4,5,6],\n",
        "    [7,8,9]\n",
        "])"
      ],
      "id": "95aa2d52"
    },
    {
      "cell_type": "markdown",
      "metadata": {},
      "source": [
        "<span class=\"theorem-title\">**Exercise 7**</span> Get the first row of\n",
        "`x` with the values `[1, 2, 3]`"
      ],
      "id": "1d34de7b-53d3-4e91-8022-79304dbafb05"
    },
    {
      "cell_type": "code",
      "execution_count": 12,
      "metadata": {},
      "outputs": [
        {
          "output_type": "stream",
          "name": "stdout",
          "text": [
            "​"
          ]
        }
      ],
      "source": [],
      "id": "fbb40d6d"
    },
    {
      "cell_type": "markdown",
      "metadata": {},
      "source": [
        "<span class=\"theorem-title\">**Exercise 8**</span> Get the second column\n",
        "of `x` with the values `[2, 5, 8]`"
      ],
      "id": "7660fa4d-3a0d-44fa-ad06-2e750ec0073d"
    },
    {
      "cell_type": "code",
      "execution_count": 14,
      "metadata": {},
      "outputs": [
        {
          "output_type": "stream",
          "name": "stdout",
          "text": [
            "​"
          ]
        }
      ],
      "source": [],
      "id": "57b86017"
    },
    {
      "cell_type": "markdown",
      "metadata": {},
      "source": [
        "<span class=\"theorem-title\">**Exercise 9**</span> Get every value of `x`\n",
        "except for the bottom row"
      ],
      "id": "41fbdf1c-992a-4ae6-9557-d875cbbe00e2"
    },
    {
      "cell_type": "code",
      "execution_count": 16,
      "metadata": {},
      "outputs": [
        {
          "output_type": "stream",
          "name": "stdout",
          "text": [
            "​"
          ]
        }
      ],
      "source": [],
      "id": "2ca82bd8"
    },
    {
      "cell_type": "markdown",
      "metadata": {},
      "source": [
        "<span class=\"theorem-title\">**Exercise 10**</span> Get every value of\n",
        "`x` except for the rightmost column"
      ],
      "id": "2b918eb4-911f-4372-9560-ef711dc728ce"
    },
    {
      "cell_type": "code",
      "execution_count": 18,
      "metadata": {},
      "outputs": [
        {
          "output_type": "stream",
          "name": "stdout",
          "text": [
            "​"
          ]
        }
      ],
      "source": [],
      "id": "120afc58"
    },
    {
      "cell_type": "markdown",
      "metadata": {},
      "source": [
        "## Filtering\n",
        "\n",
        "Another way to get specific values from arrays is by filtering. By\n",
        "filtering, we can extract values from an array based on a specific\n",
        "condition. For example, we can get all values that are greater than 0.\n",
        "Filtering can be divided into two steps: 1. Create a mask that specifies\n",
        "which elements meet the condition. 2. Apply the mask to the array to\n",
        "filter it. By creating different masks we can vary the criteria for\n",
        "selecting data from an array.\n",
        "\n",
        "| Code | Description |\n",
        "|------------------------------------|------------------------------------|\n",
        "| `mask = x>1` | Create a `mask` that is `True` where `x` is greater than `1` and `False` otherwise |\n",
        "| `mask = x==\"k\"` | Create a `mask` that is `True` where `x` is equal to `\"k\"` and `False` otherwise |\n",
        "| `mask = x<=1` | Create a `mask` that is `True` where `x` is smaller or equal to `1` and `False` otherwise |\n",
        "| `x[mask]` | Get all elements of `x` where the `mask` is `True` |\n",
        "| `np.sum(mask)` | Sum all elements of the `mask` (`True` counts as 1, `False` as 0) |\n",
        "| `np.size(mask)` | Get the number of elements in `x` |\n",
        "\n",
        "------------------------------------------------------------------------\n",
        "\n",
        "<span class=\"theorem-title\">**Example 1**</span> The array `x` contains\n",
        "100 random integers between 0 and (not inculding) 10. Get all values of\n",
        "x that are smaller than 5.\n",
        "\n",
        "``` python\n",
        "x = np.random.randint(10, size=100)\n",
        "```\n",
        "\n",
        "``` python\n",
        "mask = x<5\n",
        "x[mask]\n",
        "```\n",
        "\n",
        "    array([0, 2, 0, 3, 1, 2, 4, 3, 0, 2, 2, 0, 3, 1, 0, 4, 2, 0, 2, 1, 1, 4,\n",
        "           2, 1, 0, 0, 3, 3, 0, 1, 3, 2, 4, 0, 3, 4, 2, 3, 2, 0, 4, 4, 1, 3])\n",
        "\n",
        "<span class=\"theorem-title\">**Exercise 11**</span> Get all values of `x`\n",
        "that are greater than 3"
      ],
      "id": "d4bd510a-f701-4ddf-99d0-c1a23ac87bae"
    },
    {
      "cell_type": "code",
      "execution_count": 22,
      "metadata": {},
      "outputs": [
        {
          "output_type": "stream",
          "name": "stdout",
          "text": [
            "​"
          ]
        }
      ],
      "source": [],
      "id": "ec837acf"
    },
    {
      "cell_type": "markdown",
      "metadata": {},
      "source": [
        "<span class=\"theorem-title\">**Exercise 12**</span> Get all values of `x`\n",
        "that are smaller or equal to 2"
      ],
      "id": "c741f77f-7f6a-4234-9caf-9de80dbf9175"
    },
    {
      "cell_type": "code",
      "execution_count": 24,
      "metadata": {},
      "outputs": [
        {
          "output_type": "stream",
          "name": "stdout",
          "text": [
            "​"
          ]
        }
      ],
      "source": [],
      "id": "28579349"
    },
    {
      "cell_type": "markdown",
      "metadata": {},
      "source": [
        "<span class=\"theorem-title\">**Exercise 13**</span> The cell below\n",
        "defines an array containing a gene sequence. Get all adenine (`\"A\"`)\n",
        "nucleotides from this array.\n",
        "\n",
        "``` python\n",
        "seq = np.array([\"A\", \"T\", \"G\", \"C\", \"G\", \"T\", \"A\", \"C\", \"G\", \"T\", \"T\", \"A\", \"G\", \"C\", \"T\", \"A\", \"G\", \"G\", \"C\", \"T\", \"T\", \"A\", \"C\", \"G\", \"A\", \"T\", \"C\", \"G\", \"T\", \"A\"])\n",
        "```"
      ],
      "id": "72a27c50-9ad2-4fd2-888a-801d056733b4"
    },
    {
      "cell_type": "code",
      "execution_count": 27,
      "metadata": {},
      "outputs": [
        {
          "output_type": "stream",
          "name": "stdout",
          "text": [
            "​"
          ]
        }
      ],
      "source": [],
      "id": "4466b3ab"
    },
    {
      "cell_type": "markdown",
      "metadata": {},
      "source": [
        "<span class=\"theorem-title\">**Exercise 14**</span> Is there more\n",
        "cytosine (`\"C\"`) or guanine (`\"G\"`) in the sequence?\n",
        "\n",
        "<span class=\"theorem-title\">**Exercise 15**</span> What fraction of the\n",
        "sequence is made up by thymine (`\"T\"`)?"
      ],
      "id": "809add60-f67b-44bf-b8f0-778ea65dec87"
    },
    {
      "cell_type": "code",
      "execution_count": 30,
      "metadata": {},
      "outputs": [
        {
          "output_type": "stream",
          "name": "stdout",
          "text": [
            "​"
          ]
        }
      ],
      "source": [],
      "id": "11686a63"
    },
    {
      "cell_type": "markdown",
      "metadata": {},
      "source": [
        "## Analyzing Multi-Dimensional Data\n",
        "\n",
        "Now that we learned about indexing, slicing and filtering, we have the\n",
        "tools for analyzing mutli-dimensional data! In this section we are going\n",
        "to analyze electroencephalography (EEG) recordings of brain responses to\n",
        "pure tones. The data are stored in a 3-dimensional array, where the\n",
        "dimensions represent: 1. The number of trials or epochs\n",
        "(i.e. repetitions of the same stimulus) 2. The number of EEG channels 3.\n",
        "The number of time points in the recording\n",
        "\n",
        "When we use numpy fuctions to compute properties like mean or standard\n",
        "deviation on a multidimensioal array, we can use the `axis` argument to\n",
        "select a specific dimension.\n",
        "\n",
        "| Code | Description |\n",
        "|------------------------------------|------------------------------------|\n",
        "| `x=np.load(\"myfile.npy\")` | Load the data stored in `myfile.npy` and assign the them to the variable `x` |\n",
        "| `np.shape(x)` | Get the shape of `x` (i.e. the size of all dimensions of `x`) |\n",
        "| `x[0, :, :]` | Select the 1st element along the 1st dimension of the 3D array `x` |\n",
        "| `x[:, 4:10, :]` | Select the elements 5 to 10 along the 2nd dimension of the 3D array `x` |\n",
        "| `x[1, :, :3]` | Select the 1st element along the 1st dimension and the first 3 elements along the 3rd dimension of the 3D array `x` |\n",
        "| `np.mean(x, axis=0)` | Compute the mean across the 1st dimension of `x` |\n",
        "| `np.std(x, axis=2)` | Compute the standard deviation across the 3rd dimension of `x` |\n",
        "| `np.max(x)` | Get the maximum value of `x` |\n",
        "\n",
        "------------------------------------------------------------------------\n",
        "\n",
        "<span class=\"theorem-title\">**Exercise 16**</span> Load the data stored\n",
        "in the file `eeg_epochs.npy` and assign it to a variable called `eeg`.\n",
        "\n",
        "<span class=\"theorem-title\">**Exercise 17**</span> How many epochs,\n",
        "channels and time points are there in the `eeg` data?"
      ],
      "id": "b8a83935-2661-4dbd-8b91-3b66d504c599"
    },
    {
      "cell_type": "code",
      "execution_count": 33,
      "metadata": {},
      "outputs": [
        {
          "output_type": "stream",
          "name": "stdout",
          "text": [
            "​"
          ]
        }
      ],
      "source": [],
      "id": "e85f4dd8"
    },
    {
      "cell_type": "markdown",
      "metadata": {},
      "source": [
        "<span class=\"theorem-title\">**Exercise 18**</span> Select the first EEG\n",
        "channel"
      ],
      "id": "6befb201-33c5-4d32-96ff-f221043a4517"
    },
    {
      "cell_type": "code",
      "execution_count": 35,
      "metadata": {},
      "outputs": [
        {
          "output_type": "stream",
          "name": "stdout",
          "text": [
            "​"
          ]
        }
      ],
      "source": [],
      "id": "63fa2251"
    },
    {
      "cell_type": "markdown",
      "metadata": {},
      "source": [
        "<span class=\"theorem-title\">**Exercise 19**</span> Select the first 10\n",
        "epochs for the 5th EEG channel"
      ],
      "id": "80cd35ca-b464-4049-955c-f09cf36b5ccd"
    },
    {
      "cell_type": "code",
      "execution_count": 37,
      "metadata": {},
      "outputs": [
        {
          "output_type": "stream",
          "name": "stdout",
          "text": [
            "​"
          ]
        }
      ],
      "source": [],
      "id": "09a3b774"
    },
    {
      "cell_type": "markdown",
      "metadata": {},
      "source": [
        "<span class=\"theorem-title\">**Exercise 20**</span> Select the first half\n",
        "of all time points for EEG channels 10 to 20"
      ],
      "id": "b84fbfb2-2603-42a0-bed9-3633891763dc"
    },
    {
      "cell_type": "code",
      "execution_count": 39,
      "metadata": {},
      "outputs": [
        {
          "output_type": "stream",
          "name": "stdout",
          "text": [
            "​"
          ]
        }
      ],
      "source": [],
      "id": "4430f3d0"
    },
    {
      "cell_type": "markdown",
      "metadata": {},
      "source": [
        "<span class=\"theorem-title\">**Exercise 21**</span> Compute the standard\n",
        "deviation across all EEG channels which is called the global field\n",
        "potential (GFP) and assign it to a new variable called `gfp`. What is\n",
        "the shape of this array?"
      ],
      "id": "b1fe0da0-3080-45a9-bbaf-27ba22cf9279"
    },
    {
      "cell_type": "code",
      "execution_count": 41,
      "metadata": {},
      "outputs": [
        {
          "output_type": "stream",
          "name": "stdout",
          "text": [
            "​"
          ]
        }
      ],
      "source": [],
      "id": "70829199"
    },
    {
      "cell_type": "markdown",
      "metadata": {},
      "source": [
        "<span class=\"theorem-title\">**Exercise 22**</span> Average the GFP\n",
        "across all epochs and find the peak value of this average GFP"
      ],
      "id": "9944a27b-361f-4ffb-b4d0-ec941a6c4685"
    },
    {
      "cell_type": "code",
      "execution_count": 43,
      "metadata": {},
      "outputs": [
        {
          "output_type": "stream",
          "name": "stdout",
          "text": [
            "​"
          ]
        }
      ],
      "source": [],
      "id": "0110f0e1"
    },
    {
      "cell_type": "markdown",
      "metadata": {},
      "source": [
        "<span class=\"theorem-title\">**Exercise 23**</span> Average the GFP\n",
        "across time and epochs (so that the result is a single scalar value).\n",
        "Compute this value separately for the first and second half of epochs -\n",
        "which one is larger?"
      ],
      "id": "629633b1-d859-43f8-939a-728402e2195a"
    },
    {
      "cell_type": "code",
      "execution_count": 45,
      "metadata": {},
      "outputs": [
        {
          "output_type": "stream",
          "name": "stdout",
          "text": [
            "​"
          ]
        }
      ],
      "source": [],
      "id": "5db71abe"
    },
    {
      "cell_type": "markdown",
      "metadata": {},
      "source": [
        "## Linking Arrays with Filtering\n",
        "\n",
        "Filtering can also be used to used to link to different arrays. In this\n",
        "section we are going to load an array that contains the time points for\n",
        "the epochs from the previous array. We can use that array to define a\n",
        "mask and then apply that mask to the array of epoch. This way, we can\n",
        "select specific time intervals from the data!\n",
        "\n",
        "<span class=\"theorem-title\">**Exercise 24**</span> Load the data stored\n",
        "in the file `epoch_times.npy` and assign it to a varibale called `times`"
      ],
      "id": "b5f56d57-f88c-4879-a0de-50e76ddc93a9"
    },
    {
      "cell_type": "code",
      "execution_count": 47,
      "metadata": {},
      "outputs": [
        {
          "output_type": "stream",
          "name": "stdout",
          "text": [
            "​"
          ]
        }
      ],
      "source": [],
      "id": "a7cd3802"
    },
    {
      "cell_type": "markdown",
      "metadata": {},
      "source": [
        "<span class=\"theorem-title\">**Exercise 25**</span> How many time points\n",
        "are there? What’s the start and stop time?"
      ],
      "id": "2b2d7dc6-3851-4871-a396-3fae5b968b43"
    },
    {
      "cell_type": "code",
      "execution_count": 49,
      "metadata": {},
      "outputs": [
        {
          "output_type": "stream",
          "name": "stdout",
          "text": [
            "​"
          ]
        }
      ],
      "source": [],
      "id": "912ece30"
    },
    {
      "cell_type": "markdown",
      "metadata": {},
      "source": [
        "<span class=\"theorem-title\">**Exercise 26**</span> Create a mask that is\n",
        "`True` for all `times` greater than `0.05` (i.e. 50 milliseconds) and\n",
        "apply that to the array of epochs to get the `eeg` recording at those\n",
        "times"
      ],
      "id": "fd3ec93d-c5e1-4c9c-8e4d-b541c530dc5d"
    },
    {
      "cell_type": "code",
      "execution_count": 51,
      "metadata": {},
      "outputs": [
        {
          "output_type": "stream",
          "name": "stdout",
          "text": [
            "​"
          ]
        }
      ],
      "source": [],
      "id": "cb4f8743"
    },
    {
      "cell_type": "markdown",
      "metadata": {},
      "source": [
        "<span class=\"theorem-title\">**Exercise 27**</span> In\n",
        "<a href=\"#exr-avggfp\" class=\"quarto-xref\">Exercise 22</a>, you computed\n",
        "the average global field power (GFP). Use `times` to create a mask and\n",
        "extract the GFP values between `0.085` and `0.115` seconds and average\n",
        "those values - this is the amplitude of the so called N1 response."
      ],
      "id": "29e951eb-b482-4428-b460-0b367e7896dc"
    },
    {
      "cell_type": "code",
      "execution_count": 53,
      "metadata": {},
      "outputs": [
        {
          "output_type": "stream",
          "name": "stdout",
          "text": [
            "​"
          ]
        }
      ],
      "source": [],
      "id": "8485a567"
    },
    {
      "cell_type": "markdown",
      "metadata": {},
      "source": [
        "<span class=\"theorem-title\">**Exercise 28**</span> What is the time\n",
        "point where the average GFP is the largest?"
      ],
      "id": "3f2ec4a7-2e06-4cc9-8b39-c7a40973da18"
    },
    {
      "cell_type": "code",
      "execution_count": 55,
      "metadata": {},
      "outputs": [
        {
          "output_type": "stream",
          "name": "stdout",
          "text": [
            "​"
          ]
        }
      ],
      "source": [],
      "id": "4ea15ad5"
    }
  ],
  "nbformat": 4,
  "nbformat_minor": 5,
  "metadata": {
    "kernelspec": {
      "name": "python3",
      "display_name": "Python 3 (ipykernel)",
      "language": "python",
      "path": "/home/obi/projects/courses/Intro-to-Scientific-Computing-with-Python/.venv/share/jupyter/kernels/python3"
    },
    "language_info": {
      "name": "python",
      "codemirror_mode": {
        "name": "ipython",
        "version": "3"
      },
      "file_extension": ".py",
      "mimetype": "text/x-python",
      "nbconvert_exporter": "python",
      "pygments_lexer": "ipython3",
      "version": "3.10.15"
    }
  }
}