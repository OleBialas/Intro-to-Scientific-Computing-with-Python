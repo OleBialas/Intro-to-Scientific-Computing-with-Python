{
  "cells": [
    {
      "cell_type": "markdown",
      "metadata": {},
      "source": [
        "# Array Programming in Numpy\n",
        "\n",
        "## 1 Indexing and Slicing\n",
        "\n",
        "Often, we want to access specific values stored inside an array. This\n",
        "can be done by slicing and indexing. Indexing simply means getting the\n",
        "element at a specific position. Python starts counting at 0, so `x[0]`\n",
        "will get the **1st** element of `x`. Slicing means getting all values\n",
        "within a certain range by providing a start and stop position. When we\n",
        "index and slice multi-dimensional arrays, we must provide multiple\n",
        "coordinates - one per dimension. We can also omitt a value to indicate\n",
        "that we want to get **all** values along that dimension\n",
        "\n",
        "Execute the cell below to install the packages required for this\n",
        "notebook."
      ],
      "id": "88a29a16-101c-4841-ba21-ab4b4c2dfd5c"
    },
    {
      "cell_type": "code",
      "execution_count": 1,
      "metadata": {},
      "outputs": [],
      "source": [
        "%pip install numpy"
      ],
      "id": "63bf22cb"
    },
    {
      "cell_type": "markdown",
      "metadata": {},
      "source": [
        "| Code | Description |\n",
        "|------------------------------------|------------------------------------|\n",
        "| `import numpy as np` | Import the module `numpy` under the alias `np` |\n",
        "| `x = np.arange(2,7)` | Create an array with all integers between 2 and (not inculding) 7 and assign it to the variable `x` |\n",
        "| `x[0]` | Get the 1st element of `x` |\n",
        "| `x[-1]` | Get the last element of `x` |\n",
        "| `x[2:5]` | Get the 3rd 4th and 5th element of `x` |\n",
        "| `x[:5]` | Get everything up to and including the 5th element of `x` |\n",
        "| `x[2, 1]` | Get the element in the 3rd row and 2nd column of the 2-dimensional array `x` |\n",
        "| `x[0, :]` | Get the whole first row of `x` |\n",
        "| `x[1:5, 2]` | Get the values from rows 2 trough 5 in the 3rd column of `x` |\n",
        "\n",
        "------------------------------------------------------------------------\n",
        "\n",
        "<span class=\"theorem-title\">**Exercise 1**</span> Import the Numpy\n",
        "module under the alias `np`."
      ],
      "id": "76f3de9e-f00c-4f15-b4cd-f65d6fb63ab9"
    },
    {
      "cell_type": "code",
      "execution_count": 3,
      "metadata": {},
      "outputs": [
        {
          "output_type": "stream",
          "name": "stdout",
          "text": [
            "​"
          ]
        }
      ],
      "source": [],
      "id": "5040b38a"
    },
    {
      "cell_type": "markdown",
      "metadata": {},
      "source": [
        "<span class=\"theorem-title\">**Exercise 2**</span> Create an array with\n",
        "the integers between 1 and 10 and assign it to a variable `x`."
      ],
      "id": "f077371c-f9fe-4cb9-bf42-fe02bafef5f2"
    },
    {
      "cell_type": "code",
      "execution_count": 5,
      "metadata": {},
      "outputs": [
        {
          "output_type": "stream",
          "name": "stdout",
          "text": [
            "​"
          ]
        }
      ],
      "source": [],
      "id": "76dda68e"
    },
    {
      "cell_type": "markdown",
      "metadata": {},
      "source": [
        "<span class=\"theorem-title\">**Exercise 3**</span> Get the second element\n",
        "of `x`."
      ],
      "id": "af89d2c0-e239-4118-ac3e-71b124faeeca"
    },
    {
      "cell_type": "code",
      "execution_count": 7,
      "metadata": {},
      "outputs": [
        {
          "output_type": "stream",
          "name": "stdout",
          "text": [
            "​"
          ]
        }
      ],
      "source": [],
      "id": "0628129c"
    },
    {
      "cell_type": "markdown",
      "metadata": {},
      "source": [
        "<span class=\"theorem-title\">**Exercise 4**</span> Get the second-to-last\n",
        "element of `x`."
      ],
      "id": "6f494985-93bb-4ca3-85c3-44f992fe151c"
    },
    {
      "cell_type": "code",
      "execution_count": 9,
      "metadata": {},
      "outputs": [
        {
          "output_type": "stream",
          "name": "stdout",
          "text": [
            "​"
          ]
        }
      ],
      "source": [],
      "id": "6c0d7475"
    },
    {
      "cell_type": "markdown",
      "metadata": {},
      "source": [
        "<span class=\"theorem-title\">**Exercise 5**</span> Get all the elements\n",
        "of `x` except for the first two."
      ],
      "id": "7bfdf736-c0ac-4b47-be91-ff7dc6dc5a23"
    },
    {
      "cell_type": "code",
      "execution_count": 11,
      "metadata": {},
      "outputs": [
        {
          "output_type": "stream",
          "name": "stdout",
          "text": [
            "​"
          ]
        }
      ],
      "source": [],
      "id": "c627f782"
    },
    {
      "cell_type": "markdown",
      "metadata": {},
      "source": [
        "<span class=\"theorem-title\">**Exercise 6**</span> Get all elements of\n",
        "`x` except for the first and last."
      ],
      "id": "138a504b-2bae-4d88-bee1-1a5b15b9cabd"
    },
    {
      "cell_type": "code",
      "execution_count": 13,
      "metadata": {},
      "outputs": [
        {
          "output_type": "stream",
          "name": "stdout",
          "text": [
            "​"
          ]
        }
      ],
      "source": [],
      "id": "9d4f9adb"
    },
    {
      "cell_type": "markdown",
      "metadata": {},
      "source": [
        "<span class=\"theorem-title\">**Exercise 7**</span> Execute the cell below\n",
        "to define the 2-dimensional array `x`."
      ],
      "id": "7b827936-52c6-482d-ab8a-5e8f54d6c3f8"
    },
    {
      "cell_type": "code",
      "execution_count": 14,
      "metadata": {},
      "outputs": [],
      "source": [
        "x = np.array([\n",
        "    [1,2,3],\n",
        "    [4,5,6],\n",
        "    [7,8,9]\n",
        "])"
      ],
      "id": "78c9b0cd"
    },
    {
      "cell_type": "markdown",
      "metadata": {},
      "source": [
        "<span class=\"theorem-title\">**Exercise 8**</span> Get the first row of\n",
        "`x` with the values `[1, 2, 3]`."
      ],
      "id": "078f6f3d-89cf-4c5d-aa41-6781800469d0"
    },
    {
      "cell_type": "code",
      "execution_count": 16,
      "metadata": {},
      "outputs": [
        {
          "output_type": "stream",
          "name": "stdout",
          "text": [
            "​"
          ]
        }
      ],
      "source": [],
      "id": "ab2a48f4"
    },
    {
      "cell_type": "markdown",
      "metadata": {},
      "source": [
        "<span class=\"theorem-title\">**Exercise 9**</span> Get the second column\n",
        "of `x` with the values `[2, 5, 8]`."
      ],
      "id": "f9d0d3df-82c7-4d34-850c-1c925ae4c20c"
    },
    {
      "cell_type": "code",
      "execution_count": 18,
      "metadata": {},
      "outputs": [
        {
          "output_type": "stream",
          "name": "stdout",
          "text": [
            "​"
          ]
        }
      ],
      "source": [],
      "id": "6bde29b5"
    },
    {
      "cell_type": "markdown",
      "metadata": {},
      "source": [
        "<span class=\"theorem-title\">**Exercise 10**</span> Get every value of\n",
        "`x` except for the bottom row."
      ],
      "id": "91a0e3d1-86a5-4b52-8ec6-2735511ecea9"
    },
    {
      "cell_type": "code",
      "execution_count": 20,
      "metadata": {},
      "outputs": [
        {
          "output_type": "stream",
          "name": "stdout",
          "text": [
            "​"
          ]
        }
      ],
      "source": [],
      "id": "b1034010"
    },
    {
      "cell_type": "markdown",
      "metadata": {},
      "source": [
        "<span class=\"theorem-title\">**Exercise 11**</span> Get every value of\n",
        "`x` except for the rightmost column."
      ],
      "id": "9478032e-387a-46a3-8221-2fbc6a629505"
    },
    {
      "cell_type": "code",
      "execution_count": 22,
      "metadata": {},
      "outputs": [
        {
          "output_type": "stream",
          "name": "stdout",
          "text": [
            "​"
          ]
        }
      ],
      "source": [],
      "id": "841e3838"
    },
    {
      "cell_type": "markdown",
      "metadata": {},
      "source": [
        "## 2 Filtering\n",
        "\n",
        "Another way to get specific values from arrays is by filtering. By\n",
        "filtering, we can extract values from an array based on a specific\n",
        "condition. For example, we can get all values that are greater than 0.\n",
        "Filtering can be divided into two steps: 1. Create a mask that specifies\n",
        "which elements meet the condition. 2. Apply the mask to the array to\n",
        "filter it. By creating different masks we can vary the criteria for\n",
        "selecting data from an array.\n",
        "\n",
        "| Code | Description |\n",
        "|------------------------------------|------------------------------------|\n",
        "| `mask = x>1` | Create a `mask` that is `True` where `x` is greater than `1` and `False` otherwise |\n",
        "| `mask = x==\"k\"` | Create a `mask` that is `True` where `x` is equal to `\"k\"` and `False` otherwise |\n",
        "| `mask = x<=1` | Create a `mask` that is `True` where `x` is smaller or equal to `1` and `False` otherwise |\n",
        "| `x[mask]` | Get all elements of `x` where the `mask` is `True` |\n",
        "| `np.sum(mask)` | Sum all elements of the `mask` (`True` counts as 1, `False` as 0) |\n",
        "| `np.size(mask)` | Get the number of elements in `x` |\n",
        "| `x = np.random.randint(5, size=20)` | Create an array with `20` random integers between 0 and `5` and assign it to the variable `x` |\n",
        "\n",
        "------------------------------------------------------------------------\n",
        "\n",
        "<span class=\"theorem-title\">**Exercise 12**</span> Create an array with\n",
        "100 random integers between 0 and 10 and assign it to the variable `x`."
      ],
      "id": "19944bdd-8065-488b-974d-37ef4fc121e4"
    },
    {
      "cell_type": "code",
      "execution_count": 24,
      "metadata": {},
      "outputs": [
        {
          "output_type": "stream",
          "name": "stdout",
          "text": [
            "​"
          ]
        }
      ],
      "source": [],
      "id": "75a93d56"
    },
    {
      "cell_type": "markdown",
      "metadata": {},
      "source": [
        "<span class=\"theorem-title\">**Example 1**</span> Get all values of x\n",
        "that are smaller than 5."
      ],
      "id": "2d1eb4b4-68bc-419e-85f4-e3604645714e"
    },
    {
      "cell_type": "code",
      "execution_count": 25,
      "metadata": {},
      "outputs": [
        {
          "output_type": "display_data",
          "metadata": {},
          "data": {
            "text/plain": [
              "array([3, 1, 4, 2, 1, 3, 1, 2, 1, 0, 4, 4, 2, 0, 4, 1, 4, 0, 0, 2, 0, 3,\n",
              "       2, 3, 2, 2, 3, 3, 1, 3, 0, 4, 2, 3, 4, 2, 3, 0, 2, 0, 4, 3, 0, 3,\n",
              "       0, 0, 1, 4, 2, 3, 1, 0, 1, 2, 0, 1, 4])"
            ]
          }
        }
      ],
      "source": [
        "mask = x<5\n",
        "x[mask]"
      ],
      "id": "0ce5096f"
    },
    {
      "cell_type": "markdown",
      "metadata": {},
      "source": [
        "<span class=\"theorem-title\">**Exercise 13**</span> Get all values of `x`\n",
        "that are greater than 3."
      ],
      "id": "be01d60c-5f2c-492d-8d0e-03735908baad"
    },
    {
      "cell_type": "code",
      "execution_count": 27,
      "metadata": {},
      "outputs": [
        {
          "output_type": "stream",
          "name": "stdout",
          "text": [
            "​"
          ]
        }
      ],
      "source": [],
      "id": "194cf798"
    },
    {
      "cell_type": "markdown",
      "metadata": {},
      "source": [
        "<span class=\"theorem-title\">**Exercise 14**</span> Get all values of `x`\n",
        "that are smaller or equal to 2."
      ],
      "id": "a65aae48-cb92-458e-9790-0dc7c49fab50"
    },
    {
      "cell_type": "code",
      "execution_count": 29,
      "metadata": {},
      "outputs": [
        {
          "output_type": "stream",
          "name": "stdout",
          "text": [
            "​"
          ]
        }
      ],
      "source": [],
      "id": "2e6db8a4"
    },
    {
      "cell_type": "markdown",
      "metadata": {},
      "source": [
        "<span class=\"theorem-title\">**Exercise 15**</span> Execute the cell\n",
        "below to define an array containing a gene sequence. Then, get all\n",
        "adenine (`\"A\"`) nucleotides from this array."
      ],
      "id": "2fb40b2b-02d1-4fdd-83a0-c6550fbc4624"
    },
    {
      "cell_type": "code",
      "execution_count": 30,
      "metadata": {},
      "outputs": [],
      "source": [
        "seq = np.array([\"A\", \"T\", \"G\", \"C\", \"G\", \"T\", \"A\", \"C\", \"G\", \"T\", \"T\", \"A\", \"G\", \"C\", \"T\", \"A\", \"G\", \"G\", \"C\", \"T\", \"T\", \"A\", \"C\", \"G\", \"A\", \"T\", \"C\", \"G\", \"T\", \"A\"])"
      ],
      "id": "c3229042"
    },
    {
      "cell_type": "code",
      "execution_count": 32,
      "metadata": {},
      "outputs": [
        {
          "output_type": "stream",
          "name": "stdout",
          "text": [
            "​"
          ]
        }
      ],
      "source": [],
      "id": "2bd9eb14"
    },
    {
      "cell_type": "markdown",
      "metadata": {},
      "source": [
        "<span class=\"theorem-title\">**Exercise 16**</span> Is there more\n",
        "cytosine (`\"C\"`) or guanine (`\"G\"`) in the sequence?"
      ],
      "id": "4b969cf3-0f71-4647-aaeb-436de929782e"
    },
    {
      "cell_type": "code",
      "execution_count": 34,
      "metadata": {},
      "outputs": [
        {
          "output_type": "stream",
          "name": "stdout",
          "text": [
            "​"
          ]
        }
      ],
      "source": [],
      "id": "14995b0e"
    },
    {
      "cell_type": "markdown",
      "metadata": {},
      "source": [
        "<span class=\"theorem-title\">**Exercise 17**</span> What fraction of the\n",
        "sequence is made up by thymine (`\"T\"`)?"
      ],
      "id": "33e2c747-9249-4689-b691-6ae119400aa9"
    },
    {
      "cell_type": "code",
      "execution_count": 36,
      "metadata": {},
      "outputs": [
        {
          "output_type": "stream",
          "name": "stdout",
          "text": [
            "​"
          ]
        }
      ],
      "source": [],
      "id": "0d1d18a0"
    },
    {
      "cell_type": "markdown",
      "metadata": {},
      "source": [
        "## 3 Analyzing Multi-Dimensional Data\n",
        "\n",
        "Now that we learned about indexing, slicing and filtering, we have the\n",
        "tools for analyzing multidimensional data! In this section we are going\n",
        "to analyze electroencephalography (EEG) recordings of brain responses to\n",
        "pure tones. The data are stored in a 3-dimensional array, where the\n",
        "dimensions represent: 1. The number of trials or epochs\n",
        "(i.e. repetitions of the same stimulus) 2. The number of EEG channels 3.\n",
        "The number of time points in the recording When we use Numpy functions\n",
        "to compute properties like mean or standard deviation on a\n",
        "multidimensional array, we can use the `axis` argument to select a\n",
        "specific dimension.\n",
        "\n",
        "| Code | Description |\n",
        "|------------------------------------|------------------------------------|\n",
        "| `x=np.load(\"myfile.npy\")` | Load the data stored in `\"myfile.npy\"` and assign the them to the variable `x` |\n",
        "| `np.save(\"newfile.npy\", x)` | Save the array `x` to a file called `\"newfile.npy\"` |\n",
        "| `np.shape(x)` | Get the shape of `x` (i.e. the size of all dimensions of `x`) |\n",
        "| `x[0, :, :]` | Select the 1st element along the 1st dimension of the 3D array `x` |\n",
        "| `x[:, 4:10, :]` | Select the elements 5 to 10 along the 2nd dimension of the 3D array `x` |\n",
        "| `x[1, :, :3]` | Select the 1st element along the 1st dimension and the first 3 elements along the 3rd dimension of the 3D array `x` |\n",
        "| `np.mean(x, axis=0)` | Compute the mean across the 1st dimension of `x` |\n",
        "| `np.std(x, axis=2)` | Compute the standard deviation across the 3rd dimension of `x` |\n",
        "| `np.max(x)` | Get the maximum value of `x` |\n",
        "\n",
        "------------------------------------------------------------------------\n",
        "\n",
        "<span class=\"theorem-title\">**Exercise 18**</span> Load the data stored\n",
        "in the file `eeg_epochs.npy` and assign it to a variable called `eeg`."
      ],
      "id": "2ddd9104-38b2-41de-b160-591d5ce71c87"
    },
    {
      "cell_type": "code",
      "execution_count": 38,
      "metadata": {},
      "outputs": [
        {
          "output_type": "stream",
          "name": "stdout",
          "text": [
            "​"
          ]
        }
      ],
      "source": [],
      "id": "1110988d"
    },
    {
      "cell_type": "markdown",
      "metadata": {},
      "source": [
        "<span class=\"theorem-title\">**Exercise 19**</span> How many epochs,\n",
        "channels and time points are there in the `eeg` data?"
      ],
      "id": "dc699e01-e35f-4a3d-a63b-e65b3d33e590"
    },
    {
      "cell_type": "code",
      "execution_count": 40,
      "metadata": {},
      "outputs": [
        {
          "output_type": "stream",
          "name": "stdout",
          "text": [
            "​"
          ]
        }
      ],
      "source": [],
      "id": "177d9cde"
    },
    {
      "cell_type": "markdown",
      "metadata": {},
      "source": [
        "<span class=\"theorem-title\">**Exercise 20**</span> Select the data from\n",
        "the first EEG channel."
      ],
      "id": "d2ea8242-baae-4d67-8c3e-c46474cb36ea"
    },
    {
      "cell_type": "code",
      "execution_count": 42,
      "metadata": {},
      "outputs": [
        {
          "output_type": "stream",
          "name": "stdout",
          "text": [
            "​"
          ]
        }
      ],
      "source": [],
      "id": "5a66518e"
    },
    {
      "cell_type": "markdown",
      "metadata": {},
      "source": [
        "<span class=\"theorem-title\">**Exercise 21**</span> Select the data from\n",
        "the first 10 epochs for the 5th EEG channel."
      ],
      "id": "f03d5a3b-39e6-4593-9c04-2b52a72731b9"
    },
    {
      "cell_type": "code",
      "execution_count": 44,
      "metadata": {},
      "outputs": [
        {
          "output_type": "stream",
          "name": "stdout",
          "text": [
            "​"
          ]
        }
      ],
      "source": [],
      "id": "63323cf9"
    },
    {
      "cell_type": "markdown",
      "metadata": {},
      "source": [
        "<span class=\"theorem-title\">**Exercise 22**</span> Select the from the\n",
        "first half of all time points for EEG channels 10 to 20."
      ],
      "id": "77964e1e-33e6-4763-b863-f8671e5f5408"
    },
    {
      "cell_type": "code",
      "execution_count": 46,
      "metadata": {},
      "outputs": [
        {
          "output_type": "stream",
          "name": "stdout",
          "text": [
            "​"
          ]
        }
      ],
      "source": [],
      "id": "73166929"
    },
    {
      "cell_type": "markdown",
      "metadata": {},
      "source": [
        "<span class=\"theorem-title\">**Exercise 23**</span> Compute the standard\n",
        "deviation across all EEG channels which is called the global field\n",
        "potential (GFP) and assign it to a new variable called `gfp`. What is\n",
        "the shape of this array?"
      ],
      "id": "d9b122a1-aea3-494f-a468-ef0e38ac413c"
    },
    {
      "cell_type": "code",
      "execution_count": 48,
      "metadata": {},
      "outputs": [
        {
          "output_type": "stream",
          "name": "stdout",
          "text": [
            "​"
          ]
        }
      ],
      "source": [],
      "id": "b7437ae7"
    },
    {
      "cell_type": "markdown",
      "metadata": {},
      "source": [
        "<span class=\"theorem-title\">**Exercise 24**</span> Save the GFP to a\n",
        "file called `\"gfp.npy\"`. Then load the file again to make sure it was\n",
        "stored."
      ],
      "id": "fc25212a-bcb1-40a0-9416-9d7d9017a186"
    },
    {
      "cell_type": "code",
      "execution_count": 50,
      "metadata": {},
      "outputs": [
        {
          "output_type": "stream",
          "name": "stdout",
          "text": [
            "​"
          ]
        }
      ],
      "source": [],
      "id": "191ab4c1"
    },
    {
      "cell_type": "markdown",
      "metadata": {},
      "source": [
        "<span class=\"theorem-title\">**Exercise 25**</span> Average the GFP\n",
        "across all epochs and find the peak value of this average GFP."
      ],
      "id": "f5b2eead-02a0-4301-81fc-2606bfe48143"
    },
    {
      "cell_type": "code",
      "execution_count": 52,
      "metadata": {},
      "outputs": [
        {
          "output_type": "stream",
          "name": "stdout",
          "text": [
            "​"
          ]
        }
      ],
      "source": [],
      "id": "e0f430c7"
    },
    {
      "cell_type": "markdown",
      "metadata": {},
      "source": [
        "<span class=\"theorem-title\">**Exercise 26**</span> Average the GFP\n",
        "across time and epochs (so that the result is a single scalar value).\n",
        "Compute this value separately for the first and second half of epochs -\n",
        "which one is larger?"
      ],
      "id": "a888bc0b-5979-41a1-bdff-68f5c2eff22f"
    },
    {
      "cell_type": "code",
      "execution_count": 54,
      "metadata": {},
      "outputs": [
        {
          "output_type": "stream",
          "name": "stdout",
          "text": [
            "​"
          ]
        }
      ],
      "source": [],
      "id": "99ae295d"
    },
    {
      "cell_type": "markdown",
      "metadata": {},
      "source": [
        "## 4 Linking Arrays with Filtering\n",
        "\n",
        "Filtering can also be used to used to link to different arrays. In this\n",
        "section we are going to load an array that contains the time points for\n",
        "the epochs from the previous array. We can use that array to define a\n",
        "mask and then apply that mask to the array of epoch. Numpy also allow us\n",
        "to combine multiple masks using the and/or operators `&` and `|`.\n",
        "Combining two Boolean arrays with `&` results in an array that is only\n",
        "`True` when both arrays are `True`. Combining them with `|` results in\n",
        "an array that is `True` when either array is `True`. In this section we\n",
        "are going to use filtering to link the EEG data with the array\n",
        "containing the time points at which the data were recorded (time point 0\n",
        "represents the stimulus onset).\n",
        "\n",
        "<span class=\"theorem-title\">**Exercise 27**</span> Load the data stored\n",
        "in the file `epoch_times.npy` and assign it to a variable called\n",
        "`times`."
      ],
      "id": "99cb37e7-92b9-4ea7-a6af-e746f4d5d83a"
    },
    {
      "cell_type": "code",
      "execution_count": 56,
      "metadata": {},
      "outputs": [
        {
          "output_type": "stream",
          "name": "stdout",
          "text": [
            "​"
          ]
        }
      ],
      "source": [],
      "id": "8f3f88a9"
    },
    {
      "cell_type": "markdown",
      "metadata": {},
      "source": [
        "<span class=\"theorem-title\">**Exercise 28**</span> How many time points\n",
        "are there? What’s the start and stop time?"
      ],
      "id": "cfd17d10-83e0-4539-9595-3be6b57ba4db"
    },
    {
      "cell_type": "code",
      "execution_count": 58,
      "metadata": {},
      "outputs": [
        {
          "output_type": "stream",
          "name": "stdout",
          "text": [
            "​"
          ]
        }
      ],
      "source": [],
      "id": "03420098"
    },
    {
      "cell_type": "markdown",
      "metadata": {},
      "source": [
        "<span class=\"theorem-title\">**Example 2**</span> Get all of the `eeg`\n",
        "data that was recorded in the first 0.2 seconds after stimulus onset and\n",
        "print the shape of the resulting array."
      ],
      "id": "6f3fdfc3-df0e-4982-a681-b88ccb660749"
    },
    {
      "cell_type": "code",
      "execution_count": 59,
      "metadata": {},
      "outputs": [
        {
          "output_type": "display_data",
          "metadata": {},
          "data": {
            "text/plain": [
              "(70, 59, 31)"
            ]
          }
        }
      ],
      "source": [
        "mask = times < 0.2\n",
        "np.shape(eeg[:,:,mask])"
      ],
      "id": "cb5a0c3b"
    },
    {
      "cell_type": "markdown",
      "metadata": {},
      "source": [
        "<span class=\"theorem-title\">**Exercise 29**</span> Get all of the `eeg`\n",
        "data that was recorded in the first 0.05 seconds after stimulus onset\n",
        "and print the shape of the resulting array."
      ],
      "id": "0e76ecf5-f5d2-4d27-b2df-69d627be1ac9"
    },
    {
      "cell_type": "code",
      "execution_count": 61,
      "metadata": {},
      "outputs": [
        {
          "output_type": "stream",
          "name": "stdout",
          "text": [
            "​"
          ]
        }
      ],
      "source": [],
      "id": "43eba6dc"
    },
    {
      "cell_type": "markdown",
      "metadata": {},
      "source": [
        "<span class=\"theorem-title\">**Example 3**</span> Get all of the `eeg`\n",
        "data that was recorded between 0.1 and 0.2 seconds after stimulus onset\n",
        "and print the shape of the resulting array."
      ],
      "id": "5ceadacc-a5b3-4258-b5d4-a9faaaa185fb"
    },
    {
      "cell_type": "code",
      "execution_count": 62,
      "metadata": {},
      "outputs": [
        {
          "output_type": "display_data",
          "metadata": {},
          "data": {
            "text/plain": [
              "(70, 59, 15)"
            ]
          }
        }
      ],
      "source": [
        "mask = (times>=0.1) & (times<=0.2)\n",
        "np.shape(eeg[:,:,mask])"
      ],
      "id": "4aaa7f12"
    },
    {
      "cell_type": "markdown",
      "metadata": {},
      "source": [
        "<span class=\"theorem-title\">**Exercise 30**</span> Get all of the `eeg`\n",
        "data that was recorded before 0.1 and after 0.2 seconds and print the\n",
        "shape of the resulting array."
      ],
      "id": "7cb3c87f-0169-4cbe-ad07-53e7a5713f76"
    },
    {
      "cell_type": "code",
      "execution_count": 64,
      "metadata": {},
      "outputs": [
        {
          "output_type": "stream",
          "name": "stdout",
          "text": [
            "​"
          ]
        }
      ],
      "source": [],
      "id": "ae233ad0"
    },
    {
      "cell_type": "markdown",
      "metadata": {},
      "source": [
        "<span class=\"theorem-title\">**Exercise 31**</span> Take the average GFP\n",
        "from <a href=\"#exr-avggfp\" class=\"quarto-xref\">Exercise 25</a>, get the\n",
        "values between 0.085 and 0.115 seconds after stimulus onset and average\n",
        "them. This is the amplitude of the so called N1 response."
      ],
      "id": "dcbe22a5-bef7-40ae-8043-3897f3abeebd"
    },
    {
      "cell_type": "code",
      "execution_count": 66,
      "metadata": {},
      "outputs": [
        {
          "output_type": "stream",
          "name": "stdout",
          "text": [
            "​"
          ]
        }
      ],
      "source": [],
      "id": "84b1b216"
    },
    {
      "cell_type": "markdown",
      "metadata": {},
      "source": [
        "<span class=\"theorem-title\">**Exercise 32**</span> What is the time\n",
        "point where the average GFP is the largest?"
      ],
      "id": "2f8636fd-bbcd-4c4e-b1a9-e650da6dd272"
    },
    {
      "cell_type": "code",
      "execution_count": 68,
      "metadata": {},
      "outputs": [
        {
          "output_type": "stream",
          "name": "stdout",
          "text": [
            "​"
          ]
        }
      ],
      "source": [],
      "id": "2237f66e"
    }
  ],
  "nbformat": 4,
  "nbformat_minor": 5,
  "metadata": {
    "kernelspec": {
      "name": "python3",
      "display_name": "Python 3 (ipykernel)",
      "language": "python",
      "path": "/home/obi/projects/courses/Intro-to-Scientific-Computing-with-Python/.venv/share/jupyter/kernels/python3"
    },
    "language_info": {
      "name": "python",
      "codemirror_mode": {
        "name": "ipython",
        "version": "3"
      },
      "file_extension": ".py",
      "mimetype": "text/x-python",
      "nbconvert_exporter": "python",
      "pygments_lexer": "ipython3",
      "version": "3.10.15"
    }
  }
}