{
  "cells": [
    {
      "cell_type": "markdown",
      "metadata": {},
      "source": [
        "# Introduction to Scientific Computing with Python\n",
        "\n",
        "## Schedule\n",
        "\n",
        "(9:30 - 9:50): Welcome / Motivation Discussion Session 1 (15 min) Break:\n",
        "Session 2: Lunch: 12:30 - 13:45 (80 mins) Session 3: (15 min) Break: (80\n",
        "mins) Session 4: 16:40 - 17: 00 (20 min) Evaluation\n",
        "\n",
        "## Notebooks\n",
        "\n",
        "-   Session 1: [Introduction to\n",
        "    Python](./01_intro_to_python/intro_to_python.html)\n",
        "-   Session 2: [Array programming with\n",
        "    Numpy](./02_working_with_matrices/)\n",
        "-   Session 3: [Exploratory Data Analysis with Pandas and\n",
        "    Pingouin](./03_analyzing_tabular_data/exploratory_data_analysis_with_pandas_and_pingouin.html)\n",
        "-   Session 4: [Data Visualization with Seaborn and\n",
        "    Matplotlib](./04_data_visualization/data_visualization.html)"
      ],
      "id": "dcb07b49-bc11-4349-b611-bca88b13ba3c"
    }
  ],
  "nbformat": 4,
  "nbformat_minor": 5,
  "metadata": {
    "kernelspec": {
      "name": "python3",
      "display_name": "Python 3",
      "language": "python"
    }
  }
}