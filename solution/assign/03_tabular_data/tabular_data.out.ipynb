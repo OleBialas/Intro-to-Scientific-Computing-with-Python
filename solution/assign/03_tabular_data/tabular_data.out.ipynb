{
  "cells": [
    {
      "cell_type": "markdown",
      "metadata": {},
      "source": [
        "# Analyzing Tabular Data with Pandas\n",
        "\n",
        "In many analyses, it is useful to organize data in a tabular format.\n",
        "Tables are great because they allow us to store heterogeneous data and\n",
        "assign names to columns which makes exploration more intuitive. The most\n",
        "popular library for working with tabular data in Python is called\n",
        "`pandas` which derives from **pan**el **da**ta. In this section we are\n",
        "going to learn how to use `pandas` and how it interfaces with other\n",
        "tools to create a powerful ecosystem for data analysis. At the core of\n",
        "pandas is the `DataFrame` - an object that stores two-dimensional\n",
        "tabular data. Variables that store data frames are commonly called `df`.\n",
        "Most of pandas functionalities come as so called methods of the data\n",
        "frame object. Methods are called by typing the variable name and the\n",
        "method name separated by a dot. For example: `df.head()` will call the\n",
        "`.head()` method of the data frame `df`. If you are not used to this\n",
        "syntax, don’t worry - all sections contain examples for how the\n",
        "respective methods are used.\n",
        "\n",
        "Execute the cell below to install the packages required for this\n",
        "notebook."
      ],
      "id": "932c4fbc-ff16-4dc1-8c12-3b2ffd6fe0b3"
    },
    {
      "cell_type": "code",
      "execution_count": 1,
      "metadata": {},
      "outputs": [],
      "source": [
        "%pip install pandas seaborn pingouin"
      ],
      "id": "27593158"
    },
    {
      "cell_type": "markdown",
      "metadata": {},
      "source": [
        "## 1 Reading and Writing Tabular Data\n",
        "\n",
        "There are many different file formats for tabular data that pandas\n",
        "supports (for a full list, see [this\n",
        "website](https://pandas.pydata.org/docs/user_guide/io.html)). One of the\n",
        "most commonly used formats is CSV which stands for comma-separated\n",
        "values. A CSV file contains plain text where items are separated by\n",
        "commas. Because it is plain text, CSV is independent of the programming\n",
        "language which makes it a useful interoperable standard. In this\n",
        "section, we are going to learn how to read data from a CSV file into\n",
        "`pandas` and how to write it back to the CSV format.\n",
        "\n",
        "| Code | Description |\n",
        "|------------------------------------|------------------------------------|\n",
        "| `import pandas as pd` | Import the `pandas` module under the alias `pd` |\n",
        "| `df = pd.read_csv(\"mydata.csv\")` | Read the file `\"mydata.csv\"` into a pandas data frame and assign it to the variable `df` |\n",
        "| `df.head(5)` | Print the first 5 rows of `df` |\n",
        "| `df.to_csv(\"mydata.csv\")` | Read the file `\"mydata.csv\"` into a pandas data frame and assign it to the variable `df` |\n",
        "\n",
        "<span class=\"theorem-title\">**Exercise 1**</span> Import the `pandas`\n",
        "library under the alias `pd`."
      ],
      "id": "d3af06f9-6882-4aba-a37f-e80c5176c81a"
    },
    {
      "cell_type": "code",
      "execution_count": 3,
      "metadata": {},
      "outputs": [
        {
          "output_type": "stream",
          "name": "stdout",
          "text": [
            "​"
          ]
        }
      ],
      "source": [],
      "id": "abbcf829"
    },
    {
      "cell_type": "markdown",
      "metadata": {},
      "source": [
        "<span class=\"theorem-title\">**Exercise 2**</span> Read the file\n",
        "`salaries.csv` into a data frame and assign it to a variable called\n",
        "`df`."
      ],
      "id": "1f3c2028-2045-4fa7-96d1-1d18f1da5c20"
    },
    {
      "cell_type": "code",
      "execution_count": 5,
      "metadata": {},
      "outputs": [
        {
          "output_type": "stream",
          "name": "stdout",
          "text": [
            "​"
          ]
        }
      ],
      "source": [],
      "id": "e5826f58"
    },
    {
      "cell_type": "markdown",
      "metadata": {},
      "source": [
        "<span class=\"theorem-title\">**Exercise 3**</span> Print the first 3 rows\n",
        "of the data frame `df`."
      ],
      "id": "978d40f0-f4b8-44a7-a191-40e099495694"
    },
    {
      "cell_type": "code",
      "execution_count": 7,
      "metadata": {},
      "outputs": [
        {
          "output_type": "stream",
          "name": "stdout",
          "text": [
            "​"
          ]
        }
      ],
      "source": [],
      "id": "298195dc"
    },
    {
      "cell_type": "markdown",
      "metadata": {},
      "source": [
        "<span class=\"theorem-title\">**Exercise 4**</span> Get the first 3 rows\n",
        "of `df` and assign them to another variable called `new_df`. Write\n",
        "`new_df` to a file called `new_salaries.csv`."
      ],
      "id": "42fe1c5f-79de-49ed-96b8-afb3e799855d"
    },
    {
      "cell_type": "code",
      "execution_count": 9,
      "metadata": {},
      "outputs": [
        {
          "output_type": "stream",
          "name": "stdout",
          "text": [
            "​"
          ]
        }
      ],
      "source": [],
      "id": "f836600f"
    },
    {
      "cell_type": "markdown",
      "metadata": {},
      "source": [
        "<span class=\"theorem-title\">**Exercise 5**</span> Open\n",
        "`new_salaries.csv` in your editor (simply click on it in the file\n",
        "explorer) and manually edit the file to append a new individual with\n",
        "name `Jim` age `32` city `Kansas`, salary `72000` and Department `HR`.\n",
        "Save the edited file, then load `new_salaries.csv` and print it to make\n",
        "sure your edit was stored."
      ],
      "id": "2276738b-3e28-46f8-9e4c-a866aa4badaf"
    },
    {
      "cell_type": "code",
      "execution_count": 11,
      "metadata": {},
      "outputs": [
        {
          "output_type": "stream",
          "name": "stdout",
          "text": [
            "​"
          ]
        }
      ],
      "source": [],
      "id": "8c4de352"
    },
    {
      "cell_type": "markdown",
      "metadata": {},
      "source": [
        "## 2 Exploring a Data Set in Pandas\n",
        "\n",
        "Now that we know how to read CSV files, we can start working with some\n",
        "actual data! In this section, we are going to analyze demographic data\n",
        "from passengers of the Titanic which are stored in the file\n",
        "`titanic.csv`. Once we loaded the data into a data frame, we can access\n",
        "a given column by providing its name as a string inside square brackets.\n",
        "For example, `df[\"age\"]` will return the column `\"age\"` in the data\n",
        "frame `df`. By extracting individual columns and using methods like\n",
        "`.max()` or `.mean()`, one can quickly get an overview of the data\n",
        "stored in a table.\n",
        "\n",
        "| Code | Description |\n",
        "|------------------------------------|------------------------------------|\n",
        "| `df[\"var1\"]` | Access the column with the name `\"var1\"` in `df` |\n",
        "| `df[\"var1\"].min()` | Get the minimum value of column `\"var1\"` |\n",
        "| `df[\"var1\"].max()` | Get the maximum value of column `\"var1\"` |\n",
        "| `df[\"var1\"].mean()` | Compute the mean value of column `\"var1\"` |\n",
        "| `df[\"var1\"].unique()` | Get all unique values of column `\"var1\"` |\n",
        "| `df[\"var1\"].value_counts()` | Get all unique values of column `\"var1\"` |\n",
        "\n",
        "------------------------------------------------------------------------\n",
        "\n",
        "<span class=\"theorem-title\">**Exercise 6**</span> Read the file\n",
        "`titanic.csv` into a pandas data frame and assign it to the variable\n",
        "`df`."
      ],
      "id": "22446a01-b9bc-44e5-9f53-9ffec2e976d1"
    },
    {
      "cell_type": "code",
      "execution_count": 13,
      "metadata": {},
      "outputs": [
        {
          "output_type": "stream",
          "name": "stdout",
          "text": [
            "​"
          ]
        }
      ],
      "source": [],
      "id": "1115234e"
    },
    {
      "cell_type": "markdown",
      "metadata": {},
      "source": [
        "<span class=\"theorem-title\">**Exercise 7**</span> Get the column\n",
        "`\"survived\"` from `df`."
      ],
      "id": "ff4629b2-726c-42b4-abb2-7e1268bfcada"
    },
    {
      "cell_type": "code",
      "execution_count": 15,
      "metadata": {},
      "outputs": [
        {
          "output_type": "stream",
          "name": "stdout",
          "text": [
            "​"
          ]
        }
      ],
      "source": [],
      "id": "0302a1f0"
    },
    {
      "cell_type": "markdown",
      "metadata": {},
      "source": [
        "<span class=\"theorem-title\">**Exercise 8**</span> What is the mean\n",
        "`\"fare\"` that passengers on the Titanic paid?"
      ],
      "id": "e3853063-09f7-47aa-9f16-879ba6eda2e0"
    },
    {
      "cell_type": "code",
      "execution_count": 17,
      "metadata": {},
      "outputs": [
        {
          "output_type": "stream",
          "name": "stdout",
          "text": [
            "​"
          ]
        }
      ],
      "source": [],
      "id": "845c72aa"
    },
    {
      "cell_type": "markdown",
      "metadata": {},
      "source": [
        "<span class=\"theorem-title\">**Exercise 9**</span> What is the mean\n",
        "`\"age\"` of passengers on the Titanic ?"
      ],
      "id": "506cf131-b72c-47e3-bac2-b3a316b4d9ee"
    },
    {
      "cell_type": "code",
      "execution_count": 19,
      "metadata": {},
      "outputs": [
        {
          "output_type": "stream",
          "name": "stdout",
          "text": [
            "​"
          ]
        }
      ],
      "source": [],
      "id": "401c6007"
    },
    {
      "cell_type": "markdown",
      "metadata": {},
      "source": [
        "<span class=\"theorem-title\">**Exercise 10**</span> What is the minimum\n",
        "and maximum `\"age\"` of the Titanic’s passengers?"
      ],
      "id": "4a442663-a61b-4a7c-b6a8-7334dcba8bbb"
    },
    {
      "cell_type": "code",
      "execution_count": 21,
      "metadata": {},
      "outputs": [
        {
          "output_type": "stream",
          "name": "stdout",
          "text": [
            "​"
          ]
        }
      ],
      "source": [],
      "id": "6a410fab"
    },
    {
      "cell_type": "markdown",
      "metadata": {},
      "source": [
        "<span class=\"theorem-title\">**Exercise 11**</span> What are the\n",
        "different `\"deck\"`s on the Titanic?"
      ],
      "id": "354e2a3a-3aa9-4686-a2be-94d3f9b05877"
    },
    {
      "cell_type": "code",
      "execution_count": 23,
      "metadata": {},
      "outputs": [
        {
          "output_type": "stream",
          "name": "stdout",
          "text": [
            "​"
          ]
        }
      ],
      "source": [],
      "id": "517cd8a1"
    },
    {
      "cell_type": "markdown",
      "metadata": {},
      "source": [
        "<span class=\"theorem-title\">**Exercise 12**</span> What is the most\n",
        "common `\"embark_town\"` for passengers of the Titanic?"
      ],
      "id": "f91389fc-8564-46dc-8c3d-a4dc452f16aa"
    },
    {
      "cell_type": "code",
      "execution_count": 25,
      "metadata": {},
      "outputs": [
        {
          "output_type": "stream",
          "name": "stdout",
          "text": [
            "​"
          ]
        }
      ],
      "source": [],
      "id": "6e938cb1"
    },
    {
      "cell_type": "markdown",
      "metadata": {},
      "source": [
        "## 3 Indexing and Filtering a Data Frame\n",
        "\n",
        "Sometimes, we want to access elements in specific elements in a data\n",
        "frame. This can be done by using the `df.loc` attribute which gets the\n",
        "data located at a specific index. The index of a data frame is the\n",
        "unnamed column you see on the very left. By combining indices and column\n",
        "names, `df.loc` can get the value stored at a specifc index, in a\n",
        "specific column. Also, just like arrays, a data frame can be filtered\n",
        "using Boolean masks. The process is exactly the same: you create a mask\n",
        "of `True` and `False` values by applying a logical condition to a data\n",
        "frame. Then, you apply it to the data frame to extract the values where\n",
        "the mask equals `True`. Once can also combine indexing and filtering by\n",
        "using the mask as an input for `df.loc`. In this section, we will use\n",
        "indexing and filtering to do simple statistical analyses of the Titanic\n",
        "data.\n",
        "\n",
        "| Code | Description |\n",
        "|------------------------------------|------------------------------------|\n",
        "| `mask = df[\"var2\"]==\"a\"` | Create a `mask` of Boolean values that is `True` where the value of column `\"var1\"` is `\"a\"` and `False` otherwise |\n",
        "| `mask = df[\"var1\"]>=0` | Create a `mask` of Boolean values that is `True` where the value of column `\"var1\"` is greater or equal to `0` and `False` otherwise |\n",
        "| `mask = df[\"var1\"].isin([1,2,3])` | Create a `mask` of Boolean values that is `True` where the value of column `\"var1\"` is contained in the list `[1,2,3]` and `False` otherwise |\n",
        "| `~mask` | Invert the Boolean `mask` (i.e. turn all values that are `True` to `False` and vice versa) |\n",
        "| `df.loc[2]` | Get the row at the index `2` in the data frame `df` |\n",
        "| `df.loc[1:10, \"var1\"]` | Get the value stored in rows 1 to 10 in the column `\"var1\"` in `df` |\n",
        "| `df.loc[mask, \"var1\"]` | Get the values in the column `\"var1\"` for all rows where the `mask` is `True` |\n",
        "\n",
        "<span class=\"theorem-title\">**Exercise 13**</span> Get the row at the\n",
        "index 4 in `df`"
      ],
      "id": "24dc45af-ec5c-4be1-8f1a-e9b30d024b02"
    },
    {
      "cell_type": "code",
      "execution_count": 27,
      "metadata": {},
      "outputs": [
        {
          "output_type": "stream",
          "name": "stdout",
          "text": [
            "​"
          ]
        }
      ],
      "source": [],
      "id": "a305d682"
    },
    {
      "cell_type": "markdown",
      "metadata": {},
      "source": [
        "<span class=\"theorem-title\">**Exercise 14**</span> Get the rows at\n",
        "indices 10 to 15 in `df`"
      ],
      "id": "acde5044-3e77-4990-a12b-f6e872b1a65d"
    },
    {
      "cell_type": "code",
      "execution_count": 29,
      "metadata": {},
      "outputs": [
        {
          "output_type": "stream",
          "name": "stdout",
          "text": [
            "​"
          ]
        }
      ],
      "source": [],
      "id": "a507ac6b"
    },
    {
      "cell_type": "markdown",
      "metadata": {},
      "source": [
        "<span class=\"theorem-title\">**Exercise 15**</span> Get the `\"sex\"` of\n",
        "the first 6 passengers in `df`"
      ],
      "id": "540e5f7d-e6a5-42e0-9b43-c8fe38f69cd2"
    },
    {
      "cell_type": "code",
      "execution_count": 31,
      "metadata": {},
      "outputs": [
        {
          "output_type": "stream",
          "name": "stdout",
          "text": [
            "​"
          ]
        }
      ],
      "source": [],
      "id": "afa5aaa7"
    },
    {
      "cell_type": "markdown",
      "metadata": {},
      "source": [
        "<span class=\"theorem-title\">**Exercise 16**</span> Get the data from all\n",
        "passengers on `deck` E."
      ],
      "id": "7dbb71d5-7a0b-45f4-9d03-6b94741d2380"
    },
    {
      "cell_type": "code",
      "execution_count": 33,
      "metadata": {},
      "outputs": [
        {
          "output_type": "stream",
          "name": "stdout",
          "text": [
            "​"
          ]
        }
      ],
      "source": [],
      "id": "61895f21"
    },
    {
      "cell_type": "markdown",
      "metadata": {},
      "source": [
        "<span class=\"theorem-title\">**Exercise 17**</span> Is the survival rate\n",
        "higher for male or female passengers?"
      ],
      "id": "36b2585d-5165-4e2a-88b3-6a8bfb497e5a"
    },
    {
      "cell_type": "code",
      "execution_count": 35,
      "metadata": {},
      "outputs": [
        {
          "output_type": "stream",
          "name": "stdout",
          "text": [
            "​"
          ]
        }
      ],
      "source": [],
      "id": "4635cfe9"
    },
    {
      "cell_type": "markdown",
      "metadata": {},
      "source": [
        "<span class=\"theorem-title\">**Exercise 18**</span> Is the survival rate\n",
        "higher for passengers below or above the age of 40?"
      ],
      "id": "c00b889e-184f-4b56-bebe-48f3bd84dbac"
    },
    {
      "cell_type": "code",
      "execution_count": 37,
      "metadata": {},
      "outputs": [
        {
          "output_type": "stream",
          "name": "stdout",
          "text": [
            "​"
          ]
        }
      ],
      "source": [],
      "id": "a860a462"
    },
    {
      "cell_type": "markdown",
      "metadata": {},
      "source": [
        "<span class=\"theorem-title\">**Exercise 19**</span> What was the average\n",
        "`fare` paid by passengers that survived and those that didn’t?"
      ],
      "id": "e4297708-d4e0-4dc4-aee4-8c158cdff26d"
    },
    {
      "cell_type": "code",
      "execution_count": 39,
      "metadata": {},
      "outputs": [
        {
          "output_type": "stream",
          "name": "stdout",
          "text": [
            "​"
          ]
        }
      ],
      "source": [],
      "id": "99eccbcb"
    },
    {
      "cell_type": "markdown",
      "metadata": {},
      "source": [
        "<span class=\"theorem-title\">**Exercise 20**</span> What was the average\n",
        "`fare` paid by passengers in `\"pclass\"` 1 and `\"pclass\"` 3?"
      ],
      "id": "54d77731-b443-41cb-8c01-f97f69ceaae9"
    },
    {
      "cell_type": "code",
      "execution_count": 41,
      "metadata": {},
      "outputs": [
        {
          "output_type": "stream",
          "name": "stdout",
          "text": [
            "​"
          ]
        }
      ],
      "source": [],
      "id": "b8f0db4f"
    },
    {
      "cell_type": "markdown",
      "metadata": {},
      "source": [
        "<span class=\"theorem-title\">**Exercise 21**</span> What is the most\n",
        "common `embark_town` for passengers in `\"pclass\"` 1 and `\"pclass\"` 3?"
      ],
      "id": "d7259a90-33cf-4911-a8dc-3d25535d5658"
    },
    {
      "cell_type": "code",
      "execution_count": 43,
      "metadata": {},
      "outputs": [
        {
          "output_type": "stream",
          "name": "stdout",
          "text": [
            "​"
          ]
        }
      ],
      "source": [],
      "id": "80ca3455"
    },
    {
      "cell_type": "markdown",
      "metadata": {},
      "source": [
        "## 4 The Pandas Ecosystem\n",
        "\n",
        "Another advantage of `pandas` is its integration with other software\n",
        "which creates a powerful ecosystem for data analysis. In this section we\n",
        "are going to explore two such libraries: `seaborn`, a tool for\n",
        "visualizations and `pingouin`, a package for statistical analysis. Both\n",
        "libraries provide a similar interface where you pass a data frame as\n",
        "`data` and specify variables based on their column name. This\n",
        "homogeneous interface makes data analysis within the pandas framework\n",
        "very convenient.\n",
        "\n",
        "### 4.1 Visualization with Seaborn\n",
        "\n",
        "The Seaborn library allows us to create detailed visualizations with\n",
        "little effort. We just have to specify the data that we want to\n",
        "visualize and the software will take care of the details like adding\n",
        "colors and labeling axes. In this section, we are going to use the\n",
        "`sns.catplot()` function which is for plotting categorical data. This\n",
        "function takes in a `data` frame and the labels of columns we wish to\n",
        "plot on the `x` and `y` axis. It also takes other arguments to further\n",
        "configure the plot such as `hue` or `kind` (for a full list of\n",
        "parameters, see the\n",
        "[documentation](https://seaborn.pydata.org/generated/seaborn.catplot.html)).\n",
        "\n",
        "| Code | Description |\n",
        "|------------------------------------|------------------------------------|\n",
        "| `import seaborn as sns` | Import the seaborn library under the alias `sns` |\n",
        "| `sns.catplot(data=df, x='var1', y='var2')` | Create a `cat`egorical plot for the data frame `df` with `\"var1\"` on the x-axis and `\"var2\"` on the y-axis |\n",
        "| `sns.catplot(data=df, x='var1', y='var2', kind=\"bar\")` | Plot the same data but as a bar plot |\n",
        "| `sns.catplot(data=df, x='var1', y='var2', hue=\"var3\")` | Plot the same data but add color or `hue` to encode `\"var3\"` |\n",
        "\n",
        "<span class=\"theorem-title\">**Exercise 22**</span> Import the `seaborn`\n",
        "library under the alias `sns`."
      ],
      "id": "1d387427-cf43-48b2-a321-5442566866dc"
    },
    {
      "cell_type": "code",
      "execution_count": 45,
      "metadata": {},
      "outputs": [
        {
          "output_type": "stream",
          "name": "stdout",
          "text": [
            "​"
          ]
        }
      ],
      "source": [],
      "id": "34e9b2d6"
    },
    {
      "cell_type": "markdown",
      "metadata": {},
      "source": [
        "<span class=\"theorem-title\">**Exercise 23**</span> Create a `catplot` to\n",
        "visualize the distribution of `\"fare\"` across the different classes\n",
        "(`\"pclass\"`)."
      ],
      "id": "bfd87c76-c06a-4868-ac58-b7b2a8a0a91c"
    },
    {
      "cell_type": "code",
      "execution_count": 47,
      "metadata": {},
      "outputs": [
        {
          "output_type": "stream",
          "name": "stdout",
          "text": [
            "​"
          ]
        }
      ],
      "source": [],
      "id": "ac092d20"
    },
    {
      "cell_type": "markdown",
      "metadata": {},
      "source": [
        "<span class=\"theorem-title\">**Exercise 24**</span> Create a bar plot for\n",
        "the same data by."
      ],
      "id": "43f9fb9b-d6fc-4f31-8101-75b2520dcccc"
    },
    {
      "cell_type": "code",
      "execution_count": 49,
      "metadata": {},
      "outputs": [
        {
          "output_type": "stream",
          "name": "stdout",
          "text": [
            "​"
          ]
        }
      ],
      "source": [],
      "id": "69a97612"
    },
    {
      "cell_type": "markdown",
      "metadata": {},
      "source": [
        "<span class=\"theorem-title\">**Exercise 25**</span> Add a color or `hue`\n",
        "to the bar plot to encode passenger `sex`."
      ],
      "id": "0b4d1e22-b421-4701-9534-a7f47336e733"
    },
    {
      "cell_type": "code",
      "execution_count": 51,
      "metadata": {},
      "outputs": [
        {
          "output_type": "stream",
          "name": "stdout",
          "text": [
            "​"
          ]
        }
      ],
      "source": [],
      "id": "b7738dc2"
    },
    {
      "cell_type": "markdown",
      "metadata": {},
      "source": [
        "<span class=\"theorem-title\">**Exercise 26**</span> Create a bar plot to\n",
        "show differences in survival rates (`\"survived\"`) between the different\n",
        "passenger classes (`\"pclass\"`) and add a `hue` to encode `\"sex\"`."
      ],
      "id": "e4356f84-89b5-4e7d-87f3-78a3667f6ac8"
    },
    {
      "cell_type": "code",
      "execution_count": 53,
      "metadata": {},
      "outputs": [
        {
          "output_type": "stream",
          "name": "stdout",
          "text": [
            "​"
          ]
        }
      ],
      "source": [],
      "id": "68e0ee91"
    },
    {
      "cell_type": "markdown",
      "metadata": {},
      "source": [
        "### 4.2 Statistical Analysis with Pingouin\n",
        "\n",
        "Pingouin is a library for performing statistical tests that is neatly\n",
        "integrated with pandas. In this section we are going to use Pingouin to\n",
        "perform an analysis of variance (ANOVA) which is a test that compares\n",
        "the variance between groups to the variance within groups with respect\n",
        "to a specific variable. This allows us to estimate if the difference\n",
        "between groups exceeds the “background noise” in the data. We are also\n",
        "going to compute pairwise correlations for all variables in the data\n",
        "set. By checking which variables are correlated, we can identify\n",
        "possible confounds in our analysis.\n",
        "\n",
        "| Code | Description |\n",
        "|------------------------------------|------------------------------------|\n",
        "| `import pingouin as pg` | Import the `pingouin` library under the alias `pg` |\n",
        "| `pg.anova(data=df, dv=\"var1\", between=\"var2\")` | Perfom an analysis of variance (ANOVA) to check if the difference in `\"var1\"` between groups in `\"var2\"` exceeds the variance within each group of `\"var2\"` |\n",
        "| `pg.pariwise_corr(data=df)` | Compute pairwise correlations for alll |\n",
        "\n",
        "<span class=\"theorem-title\">**Exercise 27**</span> Import the `pingouin`\n",
        "library under the alias `pg`."
      ],
      "id": "6d5b1193-3da7-4721-8986-21604bdf9277"
    },
    {
      "cell_type": "code",
      "execution_count": 55,
      "metadata": {},
      "outputs": [
        {
          "output_type": "stream",
          "name": "stdout",
          "text": [
            "​"
          ]
        }
      ],
      "source": [],
      "id": "57ec03fe"
    },
    {
      "cell_type": "markdown",
      "metadata": {},
      "source": [
        "<span class=\"theorem-title\">**Exercise 28**</span> Perform an analysis\n",
        "of variance (ANOVA) to check if the variance in `\"fare\"` between\n",
        "`\"embark_town\"`s exceeds the variance within each `\"embark_town\"`."
      ],
      "id": "27c62161-241f-4cdb-a419-0106d64dc699"
    },
    {
      "cell_type": "code",
      "execution_count": 57,
      "metadata": {},
      "outputs": [
        {
          "output_type": "stream",
          "name": "stdout",
          "text": [
            "​"
          ]
        }
      ],
      "source": [],
      "id": "c3a2e5df"
    },
    {
      "cell_type": "markdown",
      "metadata": {},
      "source": [
        "<span class=\"theorem-title\">**Exercise 29**</span> Perform an analysis\n",
        "of variance (ANOVA) to check if the variance in `\"age\"` between\n",
        "`\"pclass\"`es exceeds the variance within each `\"pclass\"`."
      ],
      "id": "6434af09-6e07-4159-9edd-8bf401c811d3"
    },
    {
      "cell_type": "code",
      "execution_count": 59,
      "metadata": {},
      "outputs": [
        {
          "output_type": "stream",
          "name": "stdout",
          "text": [
            "​"
          ]
        }
      ],
      "source": [],
      "id": "048c690e"
    },
    {
      "cell_type": "markdown",
      "metadata": {},
      "source": [
        "<span class=\"theorem-title\">**Exercise 30**</span> Calculate the\n",
        "pairwise correlations for all columns in `df`. Assign the data frame\n",
        "returned by `pg.pariwise_corr` to a new variable called `df_corr` and\n",
        "print it"
      ],
      "id": "e8626336-1906-4a3e-a840-d6258f61a952"
    },
    {
      "cell_type": "code",
      "execution_count": 61,
      "metadata": {},
      "outputs": [
        {
          "output_type": "stream",
          "name": "stdout",
          "text": [
            "​"
          ]
        }
      ],
      "source": [],
      "id": "7026f488"
    },
    {
      "cell_type": "markdown",
      "metadata": {},
      "source": [
        "<span class=\"theorem-title\">**Exercise 31**</span> Get all rows of\n",
        "`df_corr` where `\"p-unc\"` is smaller than 0.001 and print the columns\n",
        "`\"X\"`, `\"Y\"` and `\"r\"` (Tip: to select multiple columns use a lists,\n",
        "e.g. `df.loc[mask, [\"var1\", \"var2\"]]`)."
      ],
      "id": "fc17e0fe-13fa-4d2e-aeb5-a491559034f9"
    },
    {
      "cell_type": "code",
      "execution_count": 63,
      "metadata": {},
      "outputs": [
        {
          "output_type": "stream",
          "name": "stdout",
          "text": [
            "​"
          ]
        }
      ],
      "source": [],
      "id": "20743ec4"
    }
  ],
  "nbformat": 4,
  "nbformat_minor": 5,
  "metadata": {
    "kernelspec": {
      "name": "python3",
      "display_name": "Python 3 (ipykernel)",
      "language": "python",
      "path": "/home/obi/projects/courses/Intro-to-Scientific-Computing-with-Python/.venv/share/jupyter/kernels/python3"
    },
    "language_info": {
      "name": "python",
      "codemirror_mode": {
        "name": "ipython",
        "version": "3"
      },
      "file_extension": ".py",
      "mimetype": "text/x-python",
      "nbconvert_exporter": "python",
      "pygments_lexer": "ipython3",
      "version": "3.10.15"
    }
  }
}