{
  "cells": [
    {
      "cell_type": "markdown",
      "metadata": {},
      "source": [
        "# Analyzing Tabular Data with Pandas\n",
        "\n",
        "In many analyses, it is useful to organize data in a tabular format.\n",
        "Tables are great because they allow us to store heterogeneous data and\n",
        "assign names to columns which makes exploration more intuitive. The most\n",
        "popular library for working with tabular data in Python is called\n",
        "`pandas` which derives from **pan**el **da**ta. In this section we are\n",
        "going to learn how to use `pandas` and how it interfaces with other\n",
        "tools to create a powerful ecosystem for data analysis. At the core of\n",
        "pandas is the `DataFrame` - an object that stores two-dimensional\n",
        "tabular data. Variables that store data frames are commonly called `df`.\n",
        "Most of pandas functionalities come as so called methods of the data\n",
        "frame object. Methods are called by typing the variable name and the\n",
        "method name separated by a dot. For example: `df.head()` will call the\n",
        "`.head()` method of the data frame `df`. If you are not used to this\n",
        "syntax, don’t worry - all sections contain examples for how the\n",
        "respective methods are used.\n",
        "\n",
        "To install the packages required for this session, execute the cell\n",
        "below."
      ],
      "id": "7395702b-ab5b-48d0-ada8-fd538b37696e"
    },
    {
      "cell_type": "code",
      "execution_count": 1,
      "metadata": {},
      "outputs": [
        {
          "output_type": "stream",
          "name": "stdout",
          "text": [
            "error: externally-managed-environment\n",
            "\n",
            "× This environment is externally managed\n",
            "╰─> To install Python packages system-wide, try apt install\n",
            "    python3-xyz, where xyz is the package you are trying to\n",
            "    install.\n",
            "    \n",
            "    If you wish to install a non-Debian-packaged Python package,\n",
            "    create a virtual environment using python3 -m venv path/to/venv.\n",
            "    Then use path/to/venv/bin/python and path/to/venv/bin/pip. Make\n",
            "    sure you have python3-full installed.\n",
            "    \n",
            "    If you wish to install a non-Debian packaged Python application,\n",
            "    it may be easiest to use pipx install xyz, which will manage a\n",
            "    virtual environment for you. Make sure you have pipx installed.\n",
            "    \n",
            "    See /usr/share/doc/python3.11/README.venv for more information.\n",
            "\n",
            "note: If you believe this is a mistake, please contact your Python installation or OS distribution provider. You can override this, at the risk of breaking your Python installation or OS, by passing --break-system-packages.\n",
            "hint: See PEP 668 for the detailed specification."
          ]
        }
      ],
      "source": [
        "!pip install pandas seaborn pingouin"
      ],
      "id": "4e765aa3"
    },
    {
      "cell_type": "markdown",
      "metadata": {},
      "source": [
        "## Reading and Writing Tabular Data\n",
        "\n",
        "There are many different file formats for tabular data that pandas\n",
        "supports (for a full list, see [this\n",
        "website](https://pandas.pydata.org/docs/user_guide/io.html)). One of the\n",
        "most commonly used formats is CSV which stands for comma-separated\n",
        "values. A CSV file contains plain text where items are separated by\n",
        "commas. Because it is plain text, CSV is independent of the programming\n",
        "language which makes it a useful interoperable standard. In this\n",
        "section, we are going to learn how to read data from a CSV file into\n",
        "`pandas` and how to write it back to the CSV format.\n",
        "\n",
        "| Code | Description |\n",
        "|------------------------------------|------------------------------------|\n",
        "| `import pandas as pd` | Import the `pandas` module under the alias `pd` |\n",
        "| `df = pd.read_csv(\"mydata.csv\")` | Read the file `\"mydata.csv\"` into a pandas data frame and assign it to the variable `df` |\n",
        "| `df.head(5)` | Print the first 5 rows of `df` |\n",
        "| `df.to_csv(\"mydata.csv\")` | Read the file `\"mydata.csv\"` into a pandas data frame and assign it to the variable `df` |\n",
        "\n",
        "<span class=\"theorem-title\">**Exercise 1**</span> Import the `pandas`\n",
        "library under the alias `pd`.\n",
        "\n",
        "*Solution.*"
      ],
      "id": "00209bf7-3f4e-4db4-be8c-04a096b3b2e2"
    },
    {
      "cell_type": "code",
      "execution_count": 2,
      "metadata": {},
      "outputs": [],
      "source": [
        "import pandas as pd"
      ],
      "id": "d45a22ea"
    },
    {
      "cell_type": "markdown",
      "metadata": {},
      "source": [
        "<span class=\"theorem-title\">**Exercise 2**</span> Read the file\n",
        "`salaries.csv` into a data frame and assign it to a variable called\n",
        "`df`.\n",
        "\n",
        "*Solution.*"
      ],
      "id": "e4df2311-f753-4d71-b6c1-6a921f15fd10"
    },
    {
      "cell_type": "code",
      "execution_count": 4,
      "metadata": {},
      "outputs": [],
      "source": [
        "df = pd.read_csv(\"salaries.csv\")"
      ],
      "id": "ae81bea9"
    },
    {
      "cell_type": "markdown",
      "metadata": {},
      "source": [
        "<span class=\"theorem-title\">**Exercise 3**</span> Print the first 3 rows\n",
        "of the data frame `df`.\n",
        "\n",
        "*Solution.*"
      ],
      "id": "aa5fe507-ca88-4a6a-9b26-cf6fbd7317d4"
    },
    {
      "cell_type": "code",
      "execution_count": 6,
      "metadata": {},
      "outputs": [
        {
          "output_type": "display_data",
          "metadata": {},
          "data": {
            "text/html": [
              "\n",
              "</div>"
            ]
          }
        }
      ],
      "source": [
        "df.head(3)"
      ],
      "id": "d453064a"
    },
    {
      "cell_type": "markdown",
      "metadata": {},
      "source": [
        "<span class=\"theorem-title\">**Exercise 4**</span> Get the first 3 rows\n",
        "of `df` and assign them to another variable called `new_df`. Write\n",
        "`new_df` to a file called `new_salaries.csv`.\n",
        "\n",
        "*Solution.*"
      ],
      "id": "28ad49ee-6650-4499-af04-3fae0096684c"
    },
    {
      "cell_type": "code",
      "execution_count": 8,
      "metadata": {},
      "outputs": [],
      "source": [
        "new_df = df.head(3)\n",
        "new_df.to_csv(\"new_salaries.csv\")"
      ],
      "id": "39431208"
    },
    {
      "cell_type": "markdown",
      "metadata": {},
      "source": [
        "<span class=\"theorem-title\">**Exercise 5**</span> Open\n",
        "`new_salaries.csv` in your editor (simply click on it in the file\n",
        "explorer) and manually edit the file to append a new individual with\n",
        "name `Jim` age `32` city `Kansas`, salary `72000` and Department `HR`.\n",
        "Save the edited file, then load `new_salaries.csv` and print it to make\n",
        "sure your edit was stored.\n",
        "\n",
        "*Solution.*"
      ],
      "id": "fb6c681c-73f9-40f1-8933-b74fe55c7dfd"
    },
    {
      "cell_type": "code",
      "execution_count": 9,
      "metadata": {},
      "outputs": [
        {
          "output_type": "display_data",
          "metadata": {},
          "data": {
            "text/html": [
              "\n",
              "</div>"
            ]
          }
        }
      ],
      "source": [
        "pd.read_csv(\"new_salaries.csv\")"
      ],
      "id": "83e36ff6"
    },
    {
      "cell_type": "markdown",
      "metadata": {},
      "source": [
        "## Exploring a Data Set in Pandas\n",
        "\n",
        "Now that we know how to read CSV files, we can start working with some\n",
        "actual data! In this section, we are going to analyze demographic data\n",
        "from passengers of the Titanic which are stored in the file\n",
        "`titanic.csv`. Once we loaded the data into a data frame, we can access\n",
        "a given column by providing its name as a string inside square brackets.\n",
        "For example, `df[\"age\"]` will return the column `\"age\"` in the data\n",
        "frame `df`. By extracting individual columns and using methods like\n",
        "`.max()` or `.mean()`, one can quickly get an overview of the data\n",
        "stored in a table.\n",
        "\n",
        "| Code | Description |\n",
        "|------------------------------------|------------------------------------|\n",
        "| `df[\"var1\"]` | Access the column with the name `\"var1\"` in `df` |\n",
        "| `df[\"var1\"].min()` | Get the minimum value of column `\"var1\"` |\n",
        "| `df[\"var1\"].max()` | Get the maximum value of column `\"var1\"` |\n",
        "| `df[\"var1\"].mean()` | Compute the mean value of column `\"var1\"` |\n",
        "| `df[\"var1\"].unique()` | Get all unique values of column `\"var1\"` |\n",
        "| `df[\"var1\"].value_counts()` | Get all unique values of column `\"var1\"` |\n",
        "\n",
        "------------------------------------------------------------------------\n",
        "\n",
        "<span class=\"theorem-title\">**Exercise 6**</span> Read the file\n",
        "`titanic.csv` into a pandas data frame and assign it to the variable\n",
        "`df`.\n",
        "\n",
        "*Solution.*"
      ],
      "id": "9e58cdff-f457-4d66-805f-4ca633249fe9"
    },
    {
      "cell_type": "code",
      "execution_count": 10,
      "metadata": {},
      "outputs": [],
      "source": [
        "df = pd.read_csv(\"titanic.csv\")"
      ],
      "id": "f202f72c"
    },
    {
      "cell_type": "markdown",
      "metadata": {},
      "source": [
        "<span class=\"theorem-title\">**Exercise 7**</span> Get the column\n",
        "`\"survived\"` from `df`.\n",
        "\n",
        "*Solution.*"
      ],
      "id": "e02f7224-6e3a-44ef-8def-8244d622752d"
    },
    {
      "cell_type": "code",
      "execution_count": 12,
      "metadata": {},
      "outputs": [
        {
          "output_type": "display_data",
          "metadata": {},
          "data": {
            "text/plain": [
              "0      0\n",
              "1      1\n",
              "2      1\n",
              "3      1\n",
              "4      0\n",
              "      ..\n",
              "886    0\n",
              "887    1\n",
              "888    0\n",
              "889    1\n",
              "890    0\n",
              "Name: survived, Length: 891, dtype: int64"
            ]
          }
        }
      ],
      "source": [
        "df[\"survived\"]"
      ],
      "id": "3a83585b"
    },
    {
      "cell_type": "markdown",
      "metadata": {},
      "source": [
        "<span class=\"theorem-title\">**Exercise 8**</span> What is the mean fare\n",
        "that passengers on the Titanic paid?\n",
        "\n",
        "*Solution.*"
      ],
      "id": "44a68165-38c5-4f31-97cc-e88efcb67948"
    },
    {
      "cell_type": "code",
      "execution_count": 14,
      "metadata": {},
      "outputs": [
        {
          "output_type": "display_data",
          "metadata": {},
          "data": {
            "text/plain": [
              "np.float64(32.204207968574636)"
            ]
          }
        }
      ],
      "source": [
        "df[\"fare\"].mean()"
      ],
      "id": "5af4a4e1"
    },
    {
      "cell_type": "markdown",
      "metadata": {},
      "source": [
        "<span class=\"theorem-title\">**Exercise 9**</span> What is the minimum\n",
        "and maximum `\"age\"` of the Titanic’s passengers?\n",
        "\n",
        "*Solution.*"
      ],
      "id": "6338339e-5e99-4eea-9d79-1710d2049a76"
    },
    {
      "cell_type": "code",
      "execution_count": 16,
      "metadata": {},
      "outputs": [
        {
          "output_type": "stream",
          "name": "stdout",
          "text": [
            "0.42\n",
            "80.0"
          ]
        }
      ],
      "source": [
        "print(df[\"age\"].min())\n",
        "print(df[\"age\"].max())"
      ],
      "id": "25075c42"
    },
    {
      "cell_type": "markdown",
      "metadata": {},
      "source": [
        "<span class=\"theorem-title\">**Exercise 10**</span> What are the\n",
        "different `\"deck\"`s on the Titanic?\n",
        "\n",
        "*Solution.*"
      ],
      "id": "1deec86d-6f16-4853-a3f8-9562973c7d07"
    },
    {
      "cell_type": "code",
      "execution_count": 18,
      "metadata": {},
      "outputs": [
        {
          "output_type": "display_data",
          "metadata": {},
          "data": {
            "text/plain": [
              "array([nan, 'C', 'E', 'G', 'D', 'A', 'B', 'F'], dtype=object)"
            ]
          }
        }
      ],
      "source": [
        "df[\"deck\"].unique()"
      ],
      "id": "74a5eba6"
    },
    {
      "cell_type": "markdown",
      "metadata": {},
      "source": [
        "<span class=\"theorem-title\">**Exercise 11**</span> What is the most\n",
        "common `\"embark_town\"` for passengers of the Titanic?\n",
        "\n",
        "*Solution.*"
      ],
      "id": "4494c606-c848-4a08-89cd-34f0a3fcfa5b"
    },
    {
      "cell_type": "code",
      "execution_count": 20,
      "metadata": {},
      "outputs": [
        {
          "output_type": "display_data",
          "metadata": {},
          "data": {
            "text/plain": [
              "embark_town\n",
              "Southampton    644\n",
              "Cherbourg      168\n",
              "Queenstown      77\n",
              "Name: count, dtype: int64"
            ]
          }
        }
      ],
      "source": [
        "df[\"embark_town\"].value_counts()"
      ],
      "id": "32503c45"
    },
    {
      "cell_type": "markdown",
      "metadata": {},
      "source": [
        "## Filtering a Data Frame\n",
        "\n",
        "Just like arrays, a data frame can be filtered using Boolean masks. The\n",
        "process is exactly the same: you create a mask of `True` and `False`\n",
        "values by applying a logical condition to a data frame. Then, you apply\n",
        "it to the data frame to extract the values where the mask equals `True`.\n",
        "This is very useful for statistical analysis. For example, we could\n",
        "check whether the average age of passengers differs between sexes by\n",
        "extracting the values where `df[\"sex\"]==\"male\"` and\n",
        "`df[\"sex\"]==\"female\"` and computing their respective means.\n",
        "\n",
        "| Code | Description |\n",
        "|------------------------------------|------------------------------------|\n",
        "| `mask = df[\"var2\"]==\"a\"` | Create a `mask` of Boolean values that is `True` where the value of column `\"var1\"` is `\"a\"` and `False` otherwise |\n",
        "| `mask = df[\"var1\"]>=0` | \\<;Create a `mask` of Boolean values that is `True` where the value of column `\"var1\"` is greater or equal to `0` and `False` otherwise |\n",
        "| `mask = df[\"var1\"].isin([1,2,3])` | Create a `mask` of Boolean values that is `True` where the value of column `\"var1\"` is contained in the list `[1,2,3]` and `False` otherwise |\n",
        "| `df_filtered = df[mask]` | Get the rows of `df` where the `mask` is `True` and assign this new, filtered, data frame to a variable `df_filtered` |\n",
        "\n",
        "<span class=\"theorem-title\">**Exercise 12**</span> Get the data from all\n",
        "passengers on `deck` E.\n",
        "\n",
        "*Solution.*"
      ],
      "id": "94b9968c-a3f3-456b-ab12-04b666231214"
    },
    {
      "cell_type": "code",
      "execution_count": 22,
      "metadata": {},
      "outputs": [
        {
          "output_type": "display_data",
          "metadata": {},
          "data": {
            "text/html": [
              "\n",
              "</div>"
            ]
          }
        }
      ],
      "source": [
        "mask = df[\"deck\"] == \"E\"\n",
        "df[mask]"
      ],
      "id": "047f5a67"
    },
    {
      "cell_type": "markdown",
      "metadata": {},
      "source": [
        "<span class=\"theorem-title\">**Exercise 13**</span> Is the survival rate\n",
        "higher for male or female passengers?\n",
        "\n",
        "*Solution.*"
      ],
      "id": "7c70febf-5293-43f9-ac9a-ad643a8b518f"
    },
    {
      "cell_type": "code",
      "execution_count": 24,
      "metadata": {},
      "outputs": [
        {
          "output_type": "stream",
          "name": "stdout",
          "text": [
            "0.18890814558058924\n",
            "0.7420382165605095"
          ]
        }
      ],
      "source": [
        "mask = df[\"sex\"] == \"male\"\n",
        "print(df[mask][\"survived\"].mean())\n",
        "print(df[~mask][\"survived\"].mean())"
      ],
      "id": "0b910d56"
    },
    {
      "cell_type": "markdown",
      "metadata": {},
      "source": [
        "<span class=\"theorem-title\">**Exercise 14**</span> What was the average\n",
        "`fare` paid by passengers that survived and those that didn’t?\n",
        "\n",
        "*Solution.*"
      ],
      "id": "26997d86-8d11-4fe3-b5eb-cb83cdaae0b9"
    },
    {
      "cell_type": "code",
      "execution_count": 26,
      "metadata": {},
      "outputs": [
        {
          "output_type": "stream",
          "name": "stdout",
          "text": [
            "48.39540760233918\n",
            "22.117886885245902"
          ]
        }
      ],
      "source": [
        "mask = df[\"survived\"]==1\n",
        "print(df[mask][\"fare\"].mean())\n",
        "print(df[~mask][\"fare\"].mean())"
      ],
      "id": "f9cb9941"
    },
    {
      "cell_type": "markdown",
      "metadata": {},
      "source": [
        "<span class=\"theorem-title\">**Exercise 15**</span> How are the\n",
        "passengers in `\"pclass\"` 1 distributed across the `\"embark_town\"`s\n",
        "compared to those in `\"pclass\"` 3?\n",
        "\n",
        "*Solution.*"
      ],
      "id": "29a1b6cd-ff0a-4893-9e82-2c650cdae0fc"
    },
    {
      "cell_type": "code",
      "execution_count": 28,
      "metadata": {},
      "outputs": [
        {
          "output_type": "stream",
          "name": "stdout",
          "text": [
            "embark_town\n",
            "Southampton    127\n",
            "Cherbourg       85\n",
            "Queenstown       2\n",
            "Name: count, dtype: int64\n",
            "embark_town\n",
            "Southampton    353\n",
            "Queenstown      72\n",
            "Cherbourg       66\n",
            "Name: count, dtype: int64"
          ]
        }
      ],
      "source": [
        "mask = df[\"pclass\"]==1\n",
        "print(df[mask][\"embark_town\"].value_counts())\n",
        "mask = df[\"pclass\"]==3\n",
        "print(df[mask][\"embark_town\"].value_counts())"
      ],
      "id": "6a0a57fd"
    },
    {
      "cell_type": "markdown",
      "metadata": {},
      "source": [
        "## The Pandas Ecosystem\n",
        "\n",
        "Another advantage of `pandas` is its integration with other software\n",
        "which creates a powerful ecosystem for data analysis. In this section we\n",
        "are going to explore two such libraries: `seaborn`, a tool for\n",
        "visualizations and `pingouin`, a package for statistical analysis. Both\n",
        "libraries provide a similar interface where you pass a data frame as\n",
        "`data` and specify variables based on their column name. This\n",
        "homogeneous interface makes data analysis within the pandas framework\n",
        "very convenient.\n",
        "\n",
        "### Visualization with Seaborn\n",
        "\n",
        "| Code | Description |\n",
        "|------------------------------------|------------------------------------|\n",
        "| `import seaborn as sns` | Import the seaborn library under the alias `sns` |\n",
        "| `sns.catplot(data=df, x='var1', y='var2')` | Create a `cat`egorical plot for the data frame `df` with `\"var1\"` on the x-axis and `\"var2\"` on the y-axis |\n",
        "| `sns.catplot(data=df, x='var1', y='var2', kind=\"violin\")` | Plot the same data but as a violin plot |\n",
        "| `sns.catplot(data=df, x='var1', y='var2', hue=\"var3\")` | Plot the same data but add color or `hue` to encode `\"var3\"` |\n",
        "\n",
        "<span class=\"theorem-title\">**Exercise 16**</span> Import the `seaborn`\n",
        "library under the alias `sns`.\n",
        "\n",
        "*Solution.*"
      ],
      "id": "ccf52fce-35e8-40ca-be93-20f94b03edf6"
    },
    {
      "cell_type": "code",
      "execution_count": 30,
      "metadata": {},
      "outputs": [],
      "source": [
        "import seaborn as sns"
      ],
      "id": "af986aaa"
    },
    {
      "cell_type": "markdown",
      "metadata": {},
      "source": [
        "<span class=\"theorem-title\">**Exercise 17**</span> Create a `catplot` to\n",
        "visualize the distribution of `\"fare\"` across the different classes\n",
        "(`\"pclass\"`).\n",
        "\n",
        "*Solution.*"
      ],
      "id": "b520fe8f-0dfe-4a61-b907-0a963abc1885"
    },
    {
      "cell_type": "code",
      "execution_count": 32,
      "metadata": {},
      "outputs": [
        {
          "output_type": "display_data",
          "metadata": {},
          "data": {
            "image/png": "[encoded data removed]"
          }
        }
      ],
      "source": [
        "sns.catplot(data=df, x=\"pclass\", y=\"fare\")"
      ],
      "id": "74f200a9"
    },
    {
      "cell_type": "markdown",
      "metadata": {},
      "source": [
        "<span class=\"theorem-title\">**Exercise 18**</span> Create a bar plot for\n",
        "the same data by specifying `kind=\"bar\"`.\n",
        "\n",
        "*Solution.*"
      ],
      "id": "be539d7d-525a-4b93-a124-7b8980ac0e89"
    },
    {
      "cell_type": "code",
      "execution_count": 34,
      "metadata": {},
      "outputs": [
        {
          "output_type": "display_data",
          "metadata": {},
          "data": {
            "image/png": "[encoded data removed]"
          }
        }
      ],
      "source": [
        "sns.catplot(data=df, x=\"embark_town\", y=\"fare\", kind=\"bar\")"
      ],
      "id": "042c0419"
    },
    {
      "cell_type": "markdown",
      "metadata": {},
      "source": [
        "<span class=\"theorem-title\">**Exercise 19**</span> Add a color or `hue`\n",
        "to the bar plot to encode passenger `sex`.\n",
        "\n",
        "*Solution.*"
      ],
      "id": "07a8c376-a681-4de3-9bbf-737aac0b70e4"
    },
    {
      "cell_type": "code",
      "execution_count": 36,
      "metadata": {},
      "outputs": [
        {
          "output_type": "display_data",
          "metadata": {},
          "data": {
            "image/png": "[encoded data removed]"
          }
        }
      ],
      "source": [
        "sns.catplot(data=df, x=\"embark_town\", y=\"fare\", kind=\"bar\", hue=\"sex\")"
      ],
      "id": "1e7d97ac"
    },
    {
      "cell_type": "markdown",
      "metadata": {},
      "source": [
        "### Statistical Analysis with Pingouin\n",
        "\n",
        "| Code | Description |\n",
        "|------------------------------------|------------------------------------|\n",
        "| `import pingouin as pg` | Import the `pingouin` library under the alias `pg` |\n",
        "| `pg.anova(data=df, dv=\"var1\", between=\"var2\")` | Perfom an analysis of variance (ANOVA) to compare the difference in the dependent variable `\"var1\"` between groups in `\"var2\"` |\n",
        "\n",
        "<span class=\"theorem-title\">**Exercise 20**</span> Import the `pingouin`\n",
        "library under the alias `pg`.\n",
        "\n",
        "*Solution.*"
      ],
      "id": "b6fb64b3-86a8-4e09-89ef-2384992e9f1e"
    },
    {
      "cell_type": "code",
      "execution_count": 38,
      "metadata": {},
      "outputs": [],
      "source": [
        "import pingouin as pg"
      ],
      "id": "fad2acb3"
    },
    {
      "cell_type": "markdown",
      "metadata": {},
      "source": [
        "<span class=\"theorem-title\">**Exercise 21**</span> Perform an analysis\n",
        "of variance (ANOVA) to compare the difference in the dependent variable\n",
        "`\"fare\"` between `\"embark_town\"`s.\n",
        "\n",
        "*Solution.*"
      ],
      "id": "86be38b0-141e-4116-8f4e-543e7f0cb46a"
    },
    {
      "cell_type": "code",
      "execution_count": 40,
      "metadata": {},
      "outputs": [
        {
          "output_type": "display_data",
          "metadata": {},
          "data": {
            "text/html": [
              "\n",
              "</div>"
            ]
          }
        }
      ],
      "source": [
        "pg.anova(data=df, dv=\"fare\", between=\"embark_town\")"
      ],
      "id": "ce6fddfb"
    },
    {
      "cell_type": "markdown",
      "metadata": {},
      "source": [
        "<span class=\"theorem-title\">**Exercise 22**</span> Calculate the\n",
        "pairwise correlations for all columns in `df`. Assign the data frame\n",
        "returned by `pg.pariwise_corr` to a new variable called `df_corr` and\n",
        "print the columns `\"X\"`, `\"Y\"` and `\"r\"`\n",
        "\n",
        "*Solution.*"
      ],
      "id": "d4f5b665-705b-41de-b8f5-657c7d5a9730"
    },
    {
      "cell_type": "code",
      "execution_count": 42,
      "metadata": {},
      "outputs": [
        {
          "output_type": "display_data",
          "metadata": {},
          "data": {
            "text/html": [
              "\n",
              "</div>"
            ]
          }
        }
      ],
      "source": [
        "df_corr = pg.pairwise_corr(data=df)\n",
        "df_corr[[\"X\", \"Y\", \"r\"]]"
      ],
      "id": "e338bd3a"
    }
  ],
  "nbformat": 4,
  "nbformat_minor": 5,
  "metadata": {
    "kernelspec": {
      "name": "python3",
      "display_name": "Python 3 (ipykernel)",
      "language": "python",
      "path": "/home/obi/projects/courses/Intro-to-Scientific-Computing-with-Python/.venv/share/jupyter/kernels/python3"
    },
    "language_info": {
      "name": "python",
      "codemirror_mode": {
        "name": "ipython",
        "version": "3"
      },
      "file_extension": ".py",
      "mimetype": "text/x-python",
      "nbconvert_exporter": "python",
      "pygments_lexer": "ipython3",
      "version": "3.10.15"
    }
  }
}