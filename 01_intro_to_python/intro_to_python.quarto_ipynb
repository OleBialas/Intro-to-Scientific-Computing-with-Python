{
  "cells": [
    {
      "cell_type": "markdown",
      "metadata": {},
      "source": [
        "---\n",
        "title: \"Intro to Python\"\n",
        "engine: Jupyter\n",
        "filters:\n",
        "  - assign\n",
        "number-sections: true\n",
        "number-depth: 1\n",
        "---\n",
        "\n",
        "\n",
        "Welcome to the first notebook of this course!\n",
        "In this notebook, we are going to learn how to represent different kinds of data in Python.\n",
        "We are also taking our first look at creating arrays in Numpy and we are going to analyze some actual neuroscience data.Finally, we are going to explore the differences in performance between Numpy and builtin Python functions.\n",
        "\n",
        "## Storing Data in Variables\n",
        "\n",
        "In the first section, we are going to learn how to represent different kinds of data and store them in varibles.\n",
        "We are going to encounter four baisc data types: integers, floating-point numbers, boolean values and text strings.\n",
        "We are also going to use lists which are collections of data.\n",
        "Data can be assigned to a variable using the `=` operator which takes the value on the right and assigns it to the variable on the left.\n",
        "In this sense, a variable is simply a container that we can use to store and access data.\n",
        "\n",
        "| Code | Description |\n",
        "| ---  | ---|\n",
        "| `x = 3.14` | Assign the floatig-point number `3.14` to the variable `x` |\n",
        "| `x = True` | Assign the boolean value `True` to the variable `x` |\n",
        "| `x = \"hello\"` | Assign the string `\"hello\"` to the variable `x` |\n",
        "| `x = [1,2,3]` | Assign the list of integers `[1,2,3]` to the variable `x`|\n",
        "\n",
        "### Exercises\n",
        "\n",
        "Assign the floating value `0.001` to a variable called `small`\n",
        "\n",
        ":::{.sol}"
      ],
      "id": "6e3929b1"
    },
    {
      "cell_type": "code",
      "metadata": {},
      "source": [
        "small = 0.001"
      ],
      "id": "cb4c8284",
      "execution_count": null,
      "outputs": []
    },
    {
      "cell_type": "markdown",
      "metadata": {},
      "source": [
        ":::\n",
        "\n",
        ":::{.direction}"
      ],
      "id": "2706ba19"
    },
    {
      "cell_type": "code",
      "metadata": {},
      "source": [
        "#| echo: false\n",
        "print('\\u200b')"
      ],
      "id": "c15ee3cc",
      "execution_count": null,
      "outputs": []
    },
    {
      "cell_type": "markdown",
      "metadata": {},
      "source": [
        ":::\n",
        "\n",
        "Assign the boolean value `False` to a variable called `this_is_false`\n",
        "\n",
        ":::{.sol}"
      ],
      "id": "892bb397"
    },
    {
      "cell_type": "code",
      "metadata": {},
      "source": [
        "this_is_false = False"
      ],
      "id": "464d9e6c",
      "execution_count": null,
      "outputs": []
    },
    {
      "cell_type": "markdown",
      "metadata": {},
      "source": [
        ":::\n",
        "\n",
        ":::{.direction}"
      ],
      "id": "cb22d500"
    },
    {
      "cell_type": "code",
      "metadata": {},
      "source": [
        "#| echo: false\n",
        "print('\\u200b')"
      ],
      "id": "04872f58",
      "execution_count": null,
      "outputs": []
    },
    {
      "cell_type": "markdown",
      "metadata": {},
      "source": [
        ":::\n",
        "\n",
        "Assign the string value `\"goodbye\"` to a variable called `goodbye`\n",
        "\n",
        ":::{.sol}"
      ],
      "id": "8521baba"
    },
    {
      "cell_type": "code",
      "metadata": {},
      "source": [
        "goodbye = \"goodbye\""
      ],
      "id": "7d263d57",
      "execution_count": null,
      "outputs": []
    },
    {
      "cell_type": "markdown",
      "metadata": {},
      "source": [
        ":::\n",
        "\n",
        ":::{.direction}"
      ],
      "id": "f9f55568"
    },
    {
      "cell_type": "code",
      "metadata": {},
      "source": [
        "#| echo: false\n",
        "print('\\u200b')"
      ],
      "id": "abaaa35a",
      "execution_count": null,
      "outputs": []
    },
    {
      "cell_type": "markdown",
      "metadata": {},
      "source": [
        ":::\n",
        "\n",
        "Assign a list with the number 0 through 9 to a variable called `digits`\n",
        "\n",
        ":::{.sol}"
      ],
      "id": "69e0e230"
    },
    {
      "cell_type": "code",
      "metadata": {},
      "source": [
        "digits = [0,1,2,3,4,5,6,7,8,9]"
      ],
      "id": "bce98bfd",
      "execution_count": null,
      "outputs": []
    },
    {
      "cell_type": "markdown",
      "metadata": {},
      "source": [
        ":::\n",
        "\n",
        ":::{.direction}"
      ],
      "id": "8f08ce4e"
    },
    {
      "cell_type": "code",
      "metadata": {},
      "source": [
        "#| echo: false\n",
        "print('\\u200b')"
      ],
      "id": "269ddc9a",
      "execution_count": null,
      "outputs": []
    },
    {
      "cell_type": "markdown",
      "metadata": {},
      "source": [
        ":::\n",
        "\n",
        "Assign a list with the values `3`, `False` and `\"red\"` to a variable called `random`\n",
        "\n",
        ":::{.sol}"
      ],
      "id": "bb289779"
    },
    {
      "cell_type": "code",
      "metadata": {},
      "source": [
        "random = [3, False, \"red\"]"
      ],
      "id": "49c41bac",
      "execution_count": null,
      "outputs": []
    },
    {
      "cell_type": "markdown",
      "metadata": {},
      "source": [
        ":::\n",
        "\n",
        ":::{.direction}"
      ],
      "id": "19109bfd"
    },
    {
      "cell_type": "code",
      "metadata": {},
      "source": [
        "#| echo: false\n",
        "print('\\u200b')"
      ],
      "id": "9e0d51f8",
      "execution_count": null,
      "outputs": []
    },
    {
      "cell_type": "markdown",
      "metadata": {},
      "source": [
        ":::\n",
        "\n",
        "## Analyzing Neural Spiking Data\n",
        "\n",
        "Numpy offerst many useful functions for data analysis - let's test tem on some actual neuroscience data!\n",
        "In this section, we are going to load and analyze the spiking of a neuron in the primary visual cortex of a mouse.\n",
        "The spikes are represented as a sorted list of time points where spikes where observed.\n",
        "For example, `[0.05, 0.24, 1.5]` indicates that a spike was observed 50, 240 and 1500 milliseconds after the start of the recording.\n",
        "Using the functions below, we can answer some interesting questions about the firing behavior of a given neuron.\n",
        "\n",
        "| Code | Description |\n",
        "| ---  | ---|\n",
        "| `x = np.load(\"data.npy\")` | Load the file `\"data.npy\"` into an array and assign it to the variable `x` |\n",
        "| `np.size(x)` | Get the total number of element stored in the array `x` |\n",
        "| `np.min(x)` | Get the minimum value of the array `x` |\n",
        "| `np.max(x)` | Get the maximum value of the array `x` |\n",
        "| `np.mean(x)` | Compute the mean of all values in the array `x` |\n",
        "| `np.std(x)` | Compute the standard deviation of all values in the array `x` |\n",
        "| `np.diff(x)` | Compute the difference between the elements in the array `x` |\n",
        "\n",
        "### Exercises\n",
        "\n",
        "Execute the cell below to import the Numpy module under the name `np`\n"
      ],
      "id": "fc254fca"
    },
    {
      "cell_type": "code",
      "metadata": {},
      "source": [
        "import numpy as np"
      ],
      "id": "3f1d35e3",
      "execution_count": null,
      "outputs": []
    },
    {
      "cell_type": "markdown",
      "metadata": {},
      "source": [
        "Load the file `\"spikes.npy\"` into a numpy array\n",
        "\n",
        ":::{.sol}"
      ],
      "id": "22e63638"
    },
    {
      "cell_type": "code",
      "metadata": {},
      "source": [
        "spikes = np.load(\"spikes.npy\")"
      ],
      "id": "5203aed6",
      "execution_count": null,
      "outputs": []
    },
    {
      "cell_type": "markdown",
      "metadata": {},
      "source": [
        ":::\n",
        "\n",
        ":::{.direction}"
      ],
      "id": "f2006f62"
    },
    {
      "cell_type": "code",
      "metadata": {},
      "source": [
        "#| echo: false\n",
        "print('\\u200b')"
      ],
      "id": "00171e32",
      "execution_count": null,
      "outputs": []
    },
    {
      "cell_type": "markdown",
      "metadata": {},
      "source": [
        ":::\n",
        "\n",
        "What is the total number of spikes in this recording?\n",
        "\n",
        ":::{.sol}"
      ],
      "id": "637efa31"
    },
    {
      "cell_type": "code",
      "metadata": {},
      "source": [
        "np.size(spikes)"
      ],
      "id": "a2ec559f",
      "execution_count": null,
      "outputs": []
    },
    {
      "cell_type": "markdown",
      "metadata": {},
      "source": [
        ":::\n",
        "\n",
        ":::{.direction}"
      ],
      "id": "6e9272c2"
    },
    {
      "cell_type": "code",
      "metadata": {},
      "source": [
        "#| echo: false\n",
        "print('\\u200b')"
      ],
      "id": "a706b883",
      "execution_count": null,
      "outputs": []
    },
    {
      "cell_type": "markdown",
      "metadata": {},
      "source": [
        ":::\n",
        "\n",
        "What is the duration of the recording (assuming the recording stopped after the last spike was recorded)\n",
        "\n",
        ":::{.sol}"
      ],
      "id": "55ce603c"
    },
    {
      "cell_type": "code",
      "metadata": {},
      "source": [
        "np.max(spikes)"
      ],
      "id": "3443691e",
      "execution_count": null,
      "outputs": []
    },
    {
      "cell_type": "markdown",
      "metadata": {},
      "source": [
        ":::\n",
        "\n",
        ":::{.direction}"
      ],
      "id": "c7d9cee6"
    },
    {
      "cell_type": "code",
      "metadata": {},
      "source": [
        "#| echo: false\n",
        "print('\\u200b')"
      ],
      "id": "8cd55acb",
      "execution_count": null,
      "outputs": []
    },
    {
      "cell_type": "markdown",
      "metadata": {},
      "source": [
        ":::\n",
        "\n",
        "Compute the neuron's average firing rate (the number of spikes divided by the duration of the recording)\n",
        "\n",
        ":::{.sol}"
      ],
      "id": "6bbfebb8"
    },
    {
      "cell_type": "code",
      "metadata": {},
      "source": [
        "np.size(spikes)/np.max(spikes)"
      ],
      "id": "796420fb",
      "execution_count": null,
      "outputs": []
    },
    {
      "cell_type": "markdown",
      "metadata": {},
      "source": [
        ":::\n",
        "\n",
        ":::{.direction}"
      ],
      "id": "6ff4cfb6"
    },
    {
      "cell_type": "code",
      "metadata": {},
      "source": [
        "#| echo: false\n",
        "print('\\u200b')"
      ],
      "id": "48f70a03",
      "execution_count": null,
      "outputs": []
    },
    {
      "cell_type": "markdown",
      "metadata": {},
      "source": [
        ":::\n",
        "\n",
        "Compute the inter-spike intervals (i.e. the time differences between subsequent spikes)\n",
        "\n",
        ":::{.sol}"
      ],
      "id": "1b5032a8"
    },
    {
      "cell_type": "code",
      "metadata": {},
      "source": [
        "isi = np.diff(spikes)"
      ],
      "id": "5021df31",
      "execution_count": null,
      "outputs": []
    },
    {
      "cell_type": "markdown",
      "metadata": {},
      "source": [
        ":::\n",
        "\n",
        ":::{.direction}"
      ],
      "id": "f0fb0926"
    },
    {
      "cell_type": "code",
      "metadata": {},
      "source": [
        "#| echo: false\n",
        "print('\\u200b')"
      ],
      "id": "a70bf3fc",
      "execution_count": null,
      "outputs": []
    },
    {
      "cell_type": "markdown",
      "metadata": {},
      "source": [
        ":::\n",
        "\n",
        "\n",
        "What is the average inter-spike interval for this neuron?\n",
        "\n",
        ":::{.sol}"
      ],
      "id": "7ce8bf7b"
    },
    {
      "cell_type": "code",
      "metadata": {},
      "source": [
        "np.mean(isi)"
      ],
      "id": "f353c13b",
      "execution_count": null,
      "outputs": []
    },
    {
      "cell_type": "markdown",
      "metadata": {},
      "source": [
        ":::\n",
        "\n",
        ":::{.direction}"
      ],
      "id": "d4402d39"
    },
    {
      "cell_type": "code",
      "metadata": {},
      "source": [
        "#| echo: false\n",
        "print('\\u200b')"
      ],
      "id": "5b744094",
      "execution_count": null,
      "outputs": []
    },
    {
      "cell_type": "markdown",
      "metadata": {},
      "source": [
        ":::\n",
        "\n",
        "What is the standard deviation of inter-spike intervals for this neuron?\n",
        "\n",
        ":::{.sol}"
      ],
      "id": "8d1935b7"
    },
    {
      "cell_type": "code",
      "metadata": {},
      "source": [
        "np.std(isi)"
      ],
      "id": "aeca8bf0",
      "execution_count": null,
      "outputs": []
    },
    {
      "cell_type": "markdown",
      "metadata": {},
      "source": [
        ":::\n",
        "\n",
        ":::{.direction}"
      ],
      "id": "d1289a8a"
    },
    {
      "cell_type": "code",
      "metadata": {},
      "source": [
        "#| echo: false\n",
        "print('\\u200b')"
      ],
      "id": "f23d544e",
      "execution_count": null,
      "outputs": []
    },
    {
      "cell_type": "markdown",
      "metadata": {},
      "source": [
        ":::\n",
        "\n",
        "What is the shortest time between two spikes?\n",
        "\n",
        ":::{.sol}"
      ],
      "id": "34f139ca"
    },
    {
      "cell_type": "code",
      "metadata": {},
      "source": [
        "np.min(isi)"
      ],
      "id": "4c4431c2",
      "execution_count": null,
      "outputs": []
    },
    {
      "cell_type": "markdown",
      "metadata": {},
      "source": [
        ":::\n",
        "\n",
        ":::{.direction}"
      ],
      "id": "ff4e8497"
    },
    {
      "cell_type": "code",
      "metadata": {},
      "source": [
        "#| echo: false\n",
        "print('\\u200b')"
      ],
      "id": "e2641786",
      "execution_count": null,
      "outputs": []
    },
    {
      "cell_type": "markdown",
      "metadata": {},
      "source": [
        ":::\n",
        "\n",
        "## Creating Arrays in Numpy\n",
        "\n",
        "Numpy also offers many functions for generating arrays.\n",
        "The simplest way to create an array is to convert a list but there are other functions for specific purposes like generating arrays of random numbers or numbers within a certain range.\n",
        "In this section, we are going to create different kinds of arrays\n",
        "\n",
        "| Code | Description |\n",
        "| ---  | ---|\n",
        "| `x = np.array([2,5,3])` | Turn the list `[2,5,3]` into a numpy array and assign it to the variable `x`|\n",
        "| `x = np.random.randn(100)` | Create an array with 100 normally-distributed random numbers and assign it to the variable `x` |\n",
        "| `x = np.arange(2,7)` | Create an array with all integers between 2 and (not inculding) 7 and assign it to the variable `x` |\n",
        "| `x = np.arange(2,7,0.3)` | Create an array with evenly spaced values between 2 and 7 with a step size of 0.3 and assign it to the variable `x`|\n",
        "| `x = np.linspace(2,3,10)` | Create an array with 10 evenly spaced values between 2 and 3 and assign it to the variable `x` |\n",
        "\n",
        "### Exercises\n",
        "\n",
        "Turn the list `a` defined below into an array\n"
      ],
      "id": "1b961c4f"
    },
    {
      "cell_type": "code",
      "metadata": {},
      "source": [
        "a = [1, 2, 3]"
      ],
      "id": "d81c5a53",
      "execution_count": null,
      "outputs": []
    },
    {
      "cell_type": "markdown",
      "metadata": {},
      "source": [
        ":::{.sol}"
      ],
      "id": "dd5937f3"
    },
    {
      "cell_type": "code",
      "metadata": {},
      "source": [
        "np.array(a)"
      ],
      "id": "97f14bed",
      "execution_count": null,
      "outputs": []
    },
    {
      "cell_type": "markdown",
      "metadata": {},
      "source": [
        ":::\n",
        "\n",
        ":::{.direction}"
      ],
      "id": "c6e15d1e"
    },
    {
      "cell_type": "code",
      "metadata": {},
      "source": [
        "#| echo: false\n",
        "print('\\u200b')"
      ],
      "id": "e447d0a2",
      "execution_count": null,
      "outputs": []
    },
    {
      "cell_type": "markdown",
      "metadata": {},
      "source": [
        ":::\n",
        "\n",
        "\n",
        "Turn the list `b` defined below into an array\n"
      ],
      "id": "2c8c2282"
    },
    {
      "cell_type": "code",
      "metadata": {},
      "source": [
        "b = [1, True, \"a\"]"
      ],
      "id": "0c32334f",
      "execution_count": null,
      "outputs": []
    },
    {
      "cell_type": "markdown",
      "metadata": {},
      "source": [
        ":::{.sol}"
      ],
      "id": "07251946"
    },
    {
      "cell_type": "code",
      "metadata": {},
      "source": [
        "np.array(b)"
      ],
      "id": "62bf26b3",
      "execution_count": null,
      "outputs": []
    },
    {
      "cell_type": "markdown",
      "metadata": {},
      "source": [
        ":::\n",
        "\n",
        ":::{.direction}"
      ],
      "id": "e996bcfc"
    },
    {
      "cell_type": "code",
      "metadata": {},
      "source": [
        "#| echo: false\n",
        "print('\\u200b')"
      ],
      "id": "c0602283",
      "execution_count": null,
      "outputs": []
    },
    {
      "cell_type": "markdown",
      "metadata": {},
      "source": [
        ":::\n",
        "\n",
        "Make an array containing the integers from 1 to 15.\n",
        "\n",
        ":::{.sol}"
      ],
      "id": "ef86cee4"
    },
    {
      "cell_type": "code",
      "metadata": {},
      "source": [
        "np.arange(1, 15+1)"
      ],
      "id": "45d99136",
      "execution_count": null,
      "outputs": []
    },
    {
      "cell_type": "markdown",
      "metadata": {},
      "source": [
        ":::\n",
        "\n",
        ":::{.direction}"
      ],
      "id": "5c0c7708"
    },
    {
      "cell_type": "code",
      "metadata": {},
      "source": [
        "#| echo: false\n",
        "print('\\u200b')"
      ],
      "id": "c225d249",
      "execution_count": null,
      "outputs": []
    },
    {
      "cell_type": "markdown",
      "metadata": {},
      "source": [
        ":::\n",
        "\n",
        "Create an array that contains all even numbers up to and inculding 100\n",
        "\n",
        ":::{.sol}"
      ],
      "id": "cf63cd18"
    },
    {
      "cell_type": "code",
      "metadata": {},
      "source": [
        "np.sum(np.arange(0, 100+2, 2))"
      ],
      "id": "2a22a8b0",
      "execution_count": null,
      "outputs": []
    },
    {
      "cell_type": "markdown",
      "metadata": {},
      "source": [
        ":::\n",
        "\n",
        ":::{.direction}"
      ],
      "id": "50019380"
    },
    {
      "cell_type": "code",
      "metadata": {},
      "source": [
        "#| echo: false\n",
        "print('\\u200b')"
      ],
      "id": "e96e3214",
      "execution_count": null,
      "outputs": []
    },
    {
      "cell_type": "markdown",
      "metadata": {},
      "source": [
        ":::\n",
        "\n",
        "\n",
        "Make an array of only 6 evenly-spaced numbers between 1 and 10.\n",
        "\n",
        ":::{.sol}"
      ],
      "id": "5490db9c"
    },
    {
      "cell_type": "code",
      "metadata": {},
      "source": [
        "np.linspace(1, 10, 6)"
      ],
      "id": "7756f873",
      "execution_count": null,
      "outputs": []
    },
    {
      "cell_type": "markdown",
      "metadata": {},
      "source": [
        ":::\n",
        "\n",
        ":::{.direction}"
      ],
      "id": "45e0a727"
    },
    {
      "cell_type": "code",
      "metadata": {},
      "source": [
        "#| echo: false\n",
        "print('\\u200b')"
      ],
      "id": "550709b8",
      "execution_count": null,
      "outputs": []
    },
    {
      "cell_type": "markdown",
      "metadata": {},
      "source": [
        ":::\n",
        "\n",
        "Create an array of 10 normally-distributed random numbers and compute its mean and standard deviation\n",
        "\n",
        ":::{.sol}"
      ],
      "id": "92ef6ff2"
    },
    {
      "cell_type": "code",
      "metadata": {},
      "source": [
        "x = np.random.randn(10)\n",
        "print(np.mean(x))\n",
        "print(np.std(x))"
      ],
      "id": "0d1ca5c0",
      "execution_count": null,
      "outputs": []
    },
    {
      "cell_type": "markdown",
      "metadata": {},
      "source": [
        ":::\n",
        "\n",
        ":::{.direction}"
      ],
      "id": "c08523a0"
    },
    {
      "cell_type": "code",
      "metadata": {},
      "source": [
        "#| echo: false\n",
        "print('\\u200b')"
      ],
      "id": "e5ccaebb",
      "execution_count": null,
      "outputs": []
    },
    {
      "cell_type": "markdown",
      "metadata": {},
      "source": [
        ":::\n",
        "\n",
        "Now, create arrays with of 100 and 1000 normally-distributed random numbers and compute their means and standard deviations\n",
        "\n",
        ":::{.sol}"
      ],
      "id": "87b7b9e9"
    },
    {
      "cell_type": "code",
      "metadata": {},
      "source": [
        "x = np.random.randn(100)\n",
        "print(np.mean(x))\n",
        "print(np.std(x))\n",
        "\n",
        "x = np.random.randn(1000)\n",
        "print(np.mean(x))\n",
        "print(np.std(x))"
      ],
      "id": "b05ea924",
      "execution_count": null,
      "outputs": []
    },
    {
      "cell_type": "markdown",
      "metadata": {},
      "source": [
        ":::\n",
        "\n",
        ":::{.direction}"
      ],
      "id": "656e5a9b"
    },
    {
      "cell_type": "code",
      "metadata": {},
      "source": [
        "#| echo: false\n",
        "print('\\u200b')"
      ],
      "id": "7d6243bf",
      "execution_count": null,
      "outputs": []
    },
    {
      "cell_type": "markdown",
      "metadata": {},
      "source": [
        ":::\n",
        "\n",
        "Assume we recorded a signal with a duration of 20 seconds at a sampling rate of 100 Hz.\n",
        "Create an array of time points for this signal using both `np.arange()` and `np.linspace()`.\n",
        "The array should start at 0, end at 20 and contain 150 points for.\n",
        "Are the arrays generated with the two methods identical?\n",
        "\n",
        ":::{.sol}"
      ],
      "id": "796cb0c1"
    },
    {
      "cell_type": "code",
      "metadata": {},
      "source": [
        "t1 = np.linspace(0, 20, 100*20+1)\n",
        "t2 = np.arange(0, 20+1/100, 1/100)"
      ],
      "id": "274334ea",
      "execution_count": null,
      "outputs": []
    },
    {
      "cell_type": "markdown",
      "metadata": {},
      "source": [
        "The array created with `np.arange()` may be longer because of rounding errors.\n",
        ":::\n",
        "\n",
        "\n",
        "## Quatifying Numpy's Performance\n",
        "\n",
        "One of the key advantages of Numpy is that it is a lot faster than basic Python.\n",
        "How much faster?\n",
        "Let's find out!\n",
        "The code below creates an array of ten thousand random numbers as well as a list with exactly the same data.\n",
        "We can use these to test how Numpy compares to basic Python with respect to performance.\n"
      ],
      "id": "09583bea"
    },
    {
      "cell_type": "code",
      "metadata": {},
      "source": [
        "my_array = np.random.randn(10000)\n",
        "my_list = list(my_array)"
      ],
      "id": "de8fba32",
      "execution_count": null,
      "outputs": []
    },
    {
      "cell_type": "markdown",
      "metadata": {},
      "source": [
        "To time our code, we are going to use the `%%timeit` command.\n",
        "Adding `%%timeit` at the top of a cell makes it so that running that cell displays the time it took to run the code.\n",
        "The code below estimates the time for computing the sum of `my_list` using Python's builtin `sum()` method.\n"
      ],
      "id": "86a9e8fc"
    },
    {
      "cell_type": "code",
      "metadata": {},
      "source": [
        "%%timeit\n",
        "sum(my_list)"
      ],
      "id": "c6a984fd",
      "execution_count": null,
      "outputs": []
    },
    {
      "cell_type": "markdown",
      "metadata": {},
      "source": [
        "Per default, the code is executed ten times in a loop and the result is averaged over all loops.\n",
        "This procedure is repeated seven times so that we get one average duration for each run.\n",
        "The reported numbers are the average duration across the seven runs and its standard deviation.\n",
        "\n",
        "### Exercises\n",
        "\n",
        "Use `%%timeit` to estimate how long it takes to compute `np.sum()` of `my_array`\n",
        "\n",
        ":::{.sol}"
      ],
      "id": "d2f4ab6e"
    },
    {
      "cell_type": "code",
      "metadata": {},
      "source": [
        "%%timeit\n",
        "np.sum(my_array)"
      ],
      "id": "263ebc7a",
      "execution_count": null,
      "outputs": []
    },
    {
      "cell_type": "markdown",
      "metadata": {},
      "source": [
        ":::\n",
        "\n",
        "Use `%%timeit` to estimate how long it takes for Python's builtin `max()` function to find the maximum of `my_list`\n",
        "\n",
        ":::{.sol}"
      ],
      "id": "b2230b2e"
    },
    {
      "cell_type": "code",
      "metadata": {},
      "source": [
        "%%timeit\n",
        "max(my_list)"
      ],
      "id": "db9a9140",
      "execution_count": null,
      "outputs": []
    },
    {
      "cell_type": "markdown",
      "metadata": {},
      "source": [
        ":::\n",
        "\n",
        "\n",
        "Use `%%timeit` to estimate how long it takes for the `np.max()` function to find the maximum of `my_array`\n",
        "\n",
        ":::{.sol}"
      ],
      "id": "63b37ee8"
    },
    {
      "cell_type": "code",
      "metadata": {},
      "source": [
        "%%timeit\n",
        "np.max(my_array)"
      ],
      "id": "04d82e1d",
      "execution_count": null,
      "outputs": []
    },
    {
      "cell_type": "markdown",
      "metadata": {},
      "source": [
        ":::\n",
        "\n",
        "The code below estimates the time it takes to multiply every element of `my_list` by 2.\n",
        "Use `%%timeit` to test how long it takes to multiply `my_array` by 2 (hint: use the `*` operator)\n"
      ],
      "id": "8940115d"
    },
    {
      "cell_type": "code",
      "metadata": {},
      "source": [
        "%%timeit\n",
        "[item*2 for item in my_list]"
      ],
      "id": "1e19403d",
      "execution_count": null,
      "outputs": []
    },
    {
      "cell_type": "markdown",
      "metadata": {},
      "source": [
        ":::{.sol}"
      ],
      "id": "bfc38609"
    },
    {
      "cell_type": "code",
      "metadata": {},
      "source": [
        "%%timeit\n",
        "my_array*2"
      ],
      "id": "c447d2ef",
      "execution_count": null,
      "outputs": []
    },
    {
      "cell_type": "markdown",
      "metadata": {},
      "source": [
        ":::\n",
        "\n",
        "What is faster: multipying an array by 2 or adding the array to itself?\n",
        "\n",
        ":::{.sol{}}"
      ],
      "id": "ffa241e3"
    },
    {
      "cell_type": "code",
      "metadata": {},
      "source": [
        "%%timeit\n",
        "my_array + my_array"
      ],
      "id": "c22e6a7d",
      "execution_count": null,
      "outputs": []
    },
    {
      "cell_type": "markdown",
      "metadata": {},
      "source": [
        ":::"
      ],
      "id": "703e0350"
    }
  ],
  "metadata": {
    "kernelspec": {
      "name": "python3",
      "language": "python",
      "display_name": "Python 3 (ipykernel)",
      "path": "/home/obi/projects/courses/Intro-to-Scientific-Computing-with-Python/.venv/share/jupyter/kernels/python3"
    }
  },
  "nbformat": 4,
  "nbformat_minor": 5
}