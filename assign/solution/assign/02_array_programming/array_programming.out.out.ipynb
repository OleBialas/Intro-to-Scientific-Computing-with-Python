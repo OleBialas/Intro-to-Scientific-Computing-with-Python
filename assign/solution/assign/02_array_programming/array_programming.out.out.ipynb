{
  "cells": [
    {
      "cell_type": "markdown",
      "metadata": {},
      "source": [
        "# Array Programming in Numpy\n",
        "\n",
        "## 1 Indexing and Slicing\n",
        "\n",
        "Often, we want to access specific values stored inside an array. This\n",
        "can be done by slicing and indexing. Indexing simply means getting the\n",
        "element at a specific position. Python starts counting at 0, so `x[0]`\n",
        "will get the **1st** element of `x`. Slicing means getting all values\n",
        "within a certain range by providing a start and stop position. When we\n",
        "index and slice multi-dimensional arrays, we must provide multiple\n",
        "coordinates - one per dimension. We can also omitt a value to indicate\n",
        "that we want to get **all** values along that dimension\n",
        "\n",
        "Execute the cell below to install the packages required for this\n",
        "notebook."
      ],
      "id": "65b72ff1-7843-4371-9094-3283b74eb9bb"
    },
    {
      "cell_type": "code",
      "execution_count": 1,
      "metadata": {},
      "outputs": [],
      "source": [
        "%pip install numpy"
      ],
      "id": "63bf22cb"
    },
    {
      "cell_type": "markdown",
      "metadata": {},
      "source": [
        "| Code | Description |\n",
        "|------------------------------------|------------------------------------|\n",
        "| `import numpy as np` | Import the module `numpy` under the alias `np` |\n",
        "| `x = np.arange(2,7)` | Create an array with all integers between 2 and (not inculding) 7 and assign it to the variable `x` |\n",
        "| `x[0]` | Get the 1st element of `x` |\n",
        "| `x[-1]` | Get the last element of `x` |\n",
        "| `x[2:5]` | Get the 3rd 4th and 5th element of `x` |\n",
        "| `x[:5]` | Get everything up to and including the 5th element of `x` |\n",
        "| `x[2, 1]` | Get the element in the 3rd row and 2nd column of the 2-dimensional array `x` |\n",
        "| `x[0, :]` | Get the whole first row of `x` |\n",
        "| `x[1:5, 2]` | Get the values from rows 2 trough 5 in the 3rd column of `x` |\n",
        "\n",
        "------------------------------------------------------------------------\n",
        "\n",
        "<span class=\"theorem-title\">**Exercise 1**</span> Import the Numpy\n",
        "module under the alias `np`."
      ],
      "id": "b65e8477-9faf-40c0-9fd5-9087f8b440c9"
    },
    {
      "cell_type": "code",
      "execution_count": 3,
      "metadata": {},
      "outputs": [
        {
          "output_type": "stream",
          "name": "stdout",
          "text": [
            "​"
          ]
        }
      ],
      "source": [],
      "id": "5040b38a"
    },
    {
      "cell_type": "markdown",
      "metadata": {},
      "source": [
        "<span class=\"theorem-title\">**Exercise 2**</span> Create an array with\n",
        "the integers between 1 and 10 and assign it to a variable `x`."
      ],
      "id": "3bd10699-12f0-46b3-a096-145bc99ddb18"
    },
    {
      "cell_type": "code",
      "execution_count": 5,
      "metadata": {},
      "outputs": [
        {
          "output_type": "stream",
          "name": "stdout",
          "text": [
            "​"
          ]
        }
      ],
      "source": [],
      "id": "76dda68e"
    },
    {
      "cell_type": "markdown",
      "metadata": {},
      "source": [
        "<span class=\"theorem-title\">**Exercise 3**</span> Get the second element\n",
        "of `x`."
      ],
      "id": "8323867b-f1a8-46c5-82a2-66c89e3802ac"
    },
    {
      "cell_type": "code",
      "execution_count": 7,
      "metadata": {},
      "outputs": [
        {
          "output_type": "stream",
          "name": "stdout",
          "text": [
            "​"
          ]
        }
      ],
      "source": [],
      "id": "0628129c"
    },
    {
      "cell_type": "markdown",
      "metadata": {},
      "source": [
        "<span class=\"theorem-title\">**Exercise 4**</span> Get the second-to-last\n",
        "element of `x`."
      ],
      "id": "c9de5226-b0d9-404e-8e33-37360999b0cf"
    },
    {
      "cell_type": "code",
      "execution_count": 9,
      "metadata": {},
      "outputs": [
        {
          "output_type": "stream",
          "name": "stdout",
          "text": [
            "​"
          ]
        }
      ],
      "source": [],
      "id": "6c0d7475"
    },
    {
      "cell_type": "markdown",
      "metadata": {},
      "source": [
        "<span class=\"theorem-title\">**Exercise 5**</span> Get all the elements\n",
        "of `x` except for the first two."
      ],
      "id": "1472c797-af95-45f7-ba31-052dd8ac62c4"
    },
    {
      "cell_type": "code",
      "execution_count": 11,
      "metadata": {},
      "outputs": [
        {
          "output_type": "stream",
          "name": "stdout",
          "text": [
            "​"
          ]
        }
      ],
      "source": [],
      "id": "c627f782"
    },
    {
      "cell_type": "markdown",
      "metadata": {},
      "source": [
        "<span class=\"theorem-title\">**Exercise 6**</span> Get all elements of\n",
        "`x` except for the first and last."
      ],
      "id": "e94007a6-8ade-46a0-8f59-203f64c83954"
    },
    {
      "cell_type": "code",
      "execution_count": 13,
      "metadata": {},
      "outputs": [
        {
          "output_type": "stream",
          "name": "stdout",
          "text": [
            "​"
          ]
        }
      ],
      "source": [],
      "id": "9d4f9adb"
    },
    {
      "cell_type": "markdown",
      "metadata": {},
      "source": [
        "<span class=\"theorem-title\">**Exercise 7**</span> Execute the cell below\n",
        "to define the 2-dimensional array `x`."
      ],
      "id": "e101bb60-8f65-4c82-9d97-01bf5c0757ab"
    },
    {
      "cell_type": "code",
      "execution_count": 14,
      "metadata": {},
      "outputs": [],
      "source": [
        "x = np.array([\n",
        "    [1,2,3],\n",
        "    [4,5,6],\n",
        "    [7,8,9]\n",
        "])"
      ],
      "id": "78c9b0cd"
    },
    {
      "cell_type": "markdown",
      "metadata": {},
      "source": [
        "<span class=\"theorem-title\">**Exercise 8**</span> Get the first row of\n",
        "`x` with the values `[1, 2, 3]`."
      ],
      "id": "7048d3b6-a1da-4d96-bed8-f343a969235a"
    },
    {
      "cell_type": "code",
      "execution_count": 16,
      "metadata": {},
      "outputs": [
        {
          "output_type": "stream",
          "name": "stdout",
          "text": [
            "​"
          ]
        }
      ],
      "source": [],
      "id": "ab2a48f4"
    },
    {
      "cell_type": "markdown",
      "metadata": {},
      "source": [
        "<span class=\"theorem-title\">**Exercise 9**</span> Get the second column\n",
        "of `x` with the values `[2, 5, 8]`."
      ],
      "id": "860ad0ec-2208-4990-93a2-62ffb761060d"
    },
    {
      "cell_type": "code",
      "execution_count": 18,
      "metadata": {},
      "outputs": [
        {
          "output_type": "stream",
          "name": "stdout",
          "text": [
            "​"
          ]
        }
      ],
      "source": [],
      "id": "6bde29b5"
    },
    {
      "cell_type": "markdown",
      "metadata": {},
      "source": [
        "<span class=\"theorem-title\">**Exercise 10**</span> Get every value of\n",
        "`x` except for the bottom row."
      ],
      "id": "dce0c952-7cbf-4cc7-9add-c9eb72f934e4"
    },
    {
      "cell_type": "code",
      "execution_count": 20,
      "metadata": {},
      "outputs": [
        {
          "output_type": "stream",
          "name": "stdout",
          "text": [
            "​"
          ]
        }
      ],
      "source": [],
      "id": "b1034010"
    },
    {
      "cell_type": "markdown",
      "metadata": {},
      "source": [
        "<span class=\"theorem-title\">**Exercise 11**</span> Get every value of\n",
        "`x` except for the rightmost column."
      ],
      "id": "6cf52dd5-1fb4-47b6-b980-273fd7b89241"
    },
    {
      "cell_type": "code",
      "execution_count": 22,
      "metadata": {},
      "outputs": [
        {
          "output_type": "stream",
          "name": "stdout",
          "text": [
            "​"
          ]
        }
      ],
      "source": [],
      "id": "841e3838"
    },
    {
      "cell_type": "markdown",
      "metadata": {},
      "source": [
        "## 2 Filtering\n",
        "\n",
        "Another way to get specific values from arrays is by filtering. By\n",
        "filtering, we can extract values from an array based on a specific\n",
        "condition. For example, we can get all values that are greater than 0.\n",
        "Filtering can be divided into two steps: 1. Create a mask that specifies\n",
        "which elements meet the condition. 2. Apply the mask to the array to\n",
        "filter it. By creating different masks we can vary the criteria for\n",
        "selecting data from an array.\n",
        "\n",
        "| Code | Description |\n",
        "|------------------------------------|------------------------------------|\n",
        "| `mask = x>1` | Create a `mask` that is `True` where `x` is greater than `1` and `False` otherwise |\n",
        "| `mask = x==\"k\"` | Create a `mask` that is `True` where `x` is equal to `\"k\"` and `False` otherwise |\n",
        "| `mask = x<=1` | Create a `mask` that is `True` where `x` is smaller or equal to `1` and `False` otherwise |\n",
        "| `x[mask]` | Get all elements of `x` where the `mask` is `True` |\n",
        "| `np.sum(mask)` | Sum all elements of the `mask` (`True` counts as 1, `False` as 0) |\n",
        "| `np.size(mask)` | Get the number of elements in `x` |\n",
        "| `x = np.random.randint(5, size=20)` | Create an array with `20` random integers between 0 and `5` and assign it to the variable `x` |\n",
        "\n",
        "------------------------------------------------------------------------\n",
        "\n",
        "<span class=\"theorem-title\">**Exercise 12**</span> Create an array with\n",
        "100 random integers between 0 and 10 and assign it to the variable `x`."
      ],
      "id": "6588af80-63dc-4443-9d08-b36017c1d3d2"
    },
    {
      "cell_type": "code",
      "execution_count": 24,
      "metadata": {},
      "outputs": [
        {
          "output_type": "stream",
          "name": "stdout",
          "text": [
            "​"
          ]
        }
      ],
      "source": [],
      "id": "75a93d56"
    },
    {
      "cell_type": "markdown",
      "metadata": {},
      "source": [
        "<span class=\"theorem-title\">**Example 1**</span> Get all values of x\n",
        "that are smaller than 5."
      ],
      "id": "8c5f523f-828f-4837-96e4-e560fb9f8341"
    },
    {
      "cell_type": "code",
      "execution_count": 25,
      "metadata": {},
      "outputs": [
        {
          "output_type": "display_data",
          "metadata": {},
          "data": {
            "text/plain": [
              "array([3, 1, 4, 2, 1, 3, 1, 2, 1, 0, 4, 4, 2, 0, 4, 1, 4, 0, 0, 2, 0, 3,\n",
              "       2, 3, 2, 2, 3, 3, 1, 3, 0, 4, 2, 3, 4, 2, 3, 0, 2, 0, 4, 3, 0, 3,\n",
              "       0, 0, 1, 4, 2, 3, 1, 0, 1, 2, 0, 1, 4])"
            ]
          }
        }
      ],
      "source": [
        "mask = x<5\n",
        "x[mask]"
      ],
      "id": "0ce5096f"
    },
    {
      "cell_type": "markdown",
      "metadata": {},
      "source": [
        "<span class=\"theorem-title\">**Exercise 13**</span> Get all values of `x`\n",
        "that are greater than 3."
      ],
      "id": "3a5d449d-ffce-4dab-b3e4-72bd8d799dbb"
    },
    {
      "cell_type": "code",
      "execution_count": 27,
      "metadata": {},
      "outputs": [
        {
          "output_type": "stream",
          "name": "stdout",
          "text": [
            "​"
          ]
        }
      ],
      "source": [],
      "id": "194cf798"
    },
    {
      "cell_type": "markdown",
      "metadata": {},
      "source": [
        "<span class=\"theorem-title\">**Exercise 14**</span> Get all values of `x`\n",
        "that are smaller or equal to 2."
      ],
      "id": "3d7e9d77-f45c-4bd8-87a9-bb2128aa83b6"
    },
    {
      "cell_type": "code",
      "execution_count": 29,
      "metadata": {},
      "outputs": [
        {
          "output_type": "stream",
          "name": "stdout",
          "text": [
            "​"
          ]
        }
      ],
      "source": [],
      "id": "2e6db8a4"
    },
    {
      "cell_type": "markdown",
      "metadata": {},
      "source": [
        "<span class=\"theorem-title\">**Exercise 15**</span> Execute the cell\n",
        "below to define an array containing a gene sequence. Then, get all\n",
        "adenine (`\"A\"`) nucleotides from this array."
      ],
      "id": "9a5a8267-d723-4c9b-8973-769845e8210a"
    },
    {
      "cell_type": "code",
      "execution_count": 30,
      "metadata": {},
      "outputs": [],
      "source": [
        "seq = np.array([\"A\", \"T\", \"G\", \"C\", \"G\", \"T\", \"A\", \"C\", \"G\", \"T\", \"T\", \"A\", \"G\", \"C\", \"T\", \"A\", \"G\", \"G\", \"C\", \"T\", \"T\", \"A\", \"C\", \"G\", \"A\", \"T\", \"C\", \"G\", \"T\", \"A\"])"
      ],
      "id": "c3229042"
    },
    {
      "cell_type": "code",
      "execution_count": 32,
      "metadata": {},
      "outputs": [
        {
          "output_type": "stream",
          "name": "stdout",
          "text": [
            "​"
          ]
        }
      ],
      "source": [],
      "id": "2bd9eb14"
    },
    {
      "cell_type": "markdown",
      "metadata": {},
      "source": [
        "<span class=\"theorem-title\">**Exercise 16**</span> Is there more\n",
        "cytosine (`\"C\"`) or guanine (`\"G\"`) in the sequence?"
      ],
      "id": "ccdf7fcd-d5fb-4cb1-a6d0-ebf821117cba"
    },
    {
      "cell_type": "code",
      "execution_count": 34,
      "metadata": {},
      "outputs": [
        {
          "output_type": "stream",
          "name": "stdout",
          "text": [
            "​"
          ]
        }
      ],
      "source": [],
      "id": "14995b0e"
    },
    {
      "cell_type": "markdown",
      "metadata": {},
      "source": [
        "<span class=\"theorem-title\">**Exercise 17**</span> What fraction of the\n",
        "sequence is made up by thymine (`\"T\"`)?"
      ],
      "id": "b358b557-8450-4321-b29a-9b9edbb87c7e"
    },
    {
      "cell_type": "code",
      "execution_count": 36,
      "metadata": {},
      "outputs": [
        {
          "output_type": "stream",
          "name": "stdout",
          "text": [
            "​"
          ]
        }
      ],
      "source": [],
      "id": "0d1d18a0"
    },
    {
      "cell_type": "markdown",
      "metadata": {},
      "source": [
        "## 3 Analyzing Multi-Dimensional Data\n",
        "\n",
        "Now that we learned about indexing, slicing and filtering, we have the\n",
        "tools for analyzing multidimensional data! In this section we are going\n",
        "to analyze electroencephalography (EEG) recordings of brain responses to\n",
        "pure tones. The data are stored in a 3-dimensional array, where the\n",
        "dimensions represent: 1. The number of trials or epochs\n",
        "(i.e. repetitions of the same stimulus) 2. The number of EEG channels 3.\n",
        "The number of time points in the recording When we use Numpy functions\n",
        "to compute properties like mean or standard deviation on a\n",
        "multidimensional array, we can use the `axis` argument to select a\n",
        "specific dimension.\n",
        "\n",
        "| Code | Description |\n",
        "|------------------------------------|------------------------------------|\n",
        "| `x=np.load(\"myfile.npy\")` | Load the data stored in `\"myfile.npy\"` and assign the them to the variable `x` |\n",
        "| `np.save(\"newfile.npy\", x)` | Save the array `x` to a file called `\"newfile.npy\"` |\n",
        "| `np.shape(x)` | Get the shape of `x` (i.e. the size of all dimensions of `x`) |\n",
        "| `x[0, :, :]` | Select the 1st element along the 1st dimension of the 3D array `x` |\n",
        "| `x[:, 4:10, :]` | Select the elements 5 to 10 along the 2nd dimension of the 3D array `x` |\n",
        "| `x[1, :, :3]` | Select the 1st element along the 1st dimension and the first 3 elements along the 3rd dimension of the 3D array `x` |\n",
        "| `np.mean(x, axis=0)` | Compute the mean across the 1st dimension of `x` |\n",
        "| `np.std(x, axis=2)` | Compute the standard deviation across the 3rd dimension of `x` |\n",
        "| `np.max(x)` | Get the maximum value of `x` |\n",
        "\n",
        "------------------------------------------------------------------------\n",
        "\n",
        "<span class=\"theorem-title\">**Exercise 18**</span> Load the data stored\n",
        "in the file `eeg_epochs.npy` and assign it to a variable called `eeg`."
      ],
      "id": "51a1c4d0-e58a-4b81-bcac-e68bb30e5990"
    },
    {
      "cell_type": "code",
      "execution_count": 38,
      "metadata": {},
      "outputs": [
        {
          "output_type": "stream",
          "name": "stdout",
          "text": [
            "​"
          ]
        }
      ],
      "source": [],
      "id": "1110988d"
    },
    {
      "cell_type": "markdown",
      "metadata": {},
      "source": [
        "<span class=\"theorem-title\">**Exercise 19**</span> How many epochs,\n",
        "channels and time points are there in the `eeg` data?"
      ],
      "id": "f01ffa53-15ce-4eb9-a8d7-789e148d7290"
    },
    {
      "cell_type": "code",
      "execution_count": 40,
      "metadata": {},
      "outputs": [
        {
          "output_type": "stream",
          "name": "stdout",
          "text": [
            "​"
          ]
        }
      ],
      "source": [],
      "id": "177d9cde"
    },
    {
      "cell_type": "markdown",
      "metadata": {},
      "source": [
        "<span class=\"theorem-title\">**Exercise 20**</span> Select the data from\n",
        "the first EEG channel."
      ],
      "id": "c11804f6-36c8-4b7c-9a86-eb5cb82f3d62"
    },
    {
      "cell_type": "code",
      "execution_count": 42,
      "metadata": {},
      "outputs": [
        {
          "output_type": "stream",
          "name": "stdout",
          "text": [
            "​"
          ]
        }
      ],
      "source": [],
      "id": "5a66518e"
    },
    {
      "cell_type": "markdown",
      "metadata": {},
      "source": [
        "<span class=\"theorem-title\">**Exercise 21**</span> Select the data from\n",
        "the first 10 epochs for the 5th EEG channel."
      ],
      "id": "06246f77-1f47-40c5-8e18-274dff3b6591"
    },
    {
      "cell_type": "code",
      "execution_count": 44,
      "metadata": {},
      "outputs": [
        {
          "output_type": "stream",
          "name": "stdout",
          "text": [
            "​"
          ]
        }
      ],
      "source": [],
      "id": "63323cf9"
    },
    {
      "cell_type": "markdown",
      "metadata": {},
      "source": [
        "<span class=\"theorem-title\">**Exercise 22**</span> Select the from the\n",
        "first half of all time points for EEG channels 10 to 20."
      ],
      "id": "8ecb3682-a483-4987-9914-42a6419b5e2f"
    },
    {
      "cell_type": "code",
      "execution_count": 46,
      "metadata": {},
      "outputs": [
        {
          "output_type": "stream",
          "name": "stdout",
          "text": [
            "​"
          ]
        }
      ],
      "source": [],
      "id": "73166929"
    },
    {
      "cell_type": "markdown",
      "metadata": {},
      "source": [
        "<span class=\"theorem-title\">**Exercise 23**</span> Compute the standard\n",
        "deviation across all EEG channels which is called the global field\n",
        "potential (GFP) and assign it to a new variable called `gfp`. What is\n",
        "the shape of this array?"
      ],
      "id": "932ce1ef-19f2-460b-9540-29f78bbd4ed2"
    },
    {
      "cell_type": "code",
      "execution_count": 48,
      "metadata": {},
      "outputs": [
        {
          "output_type": "stream",
          "name": "stdout",
          "text": [
            "​"
          ]
        }
      ],
      "source": [],
      "id": "b7437ae7"
    },
    {
      "cell_type": "markdown",
      "metadata": {},
      "source": [
        "<span class=\"theorem-title\">**Exercise 24**</span> Save the GFP to a\n",
        "file called `\"gfp.npy\"`. Then load the file again to make sure it was\n",
        "stored."
      ],
      "id": "097df5a2-173c-4a5d-afa6-c2f59eec8bdd"
    },
    {
      "cell_type": "code",
      "execution_count": 50,
      "metadata": {},
      "outputs": [
        {
          "output_type": "stream",
          "name": "stdout",
          "text": [
            "​"
          ]
        }
      ],
      "source": [],
      "id": "191ab4c1"
    },
    {
      "cell_type": "markdown",
      "metadata": {},
      "source": [
        "<span class=\"theorem-title\">**Exercise 25**</span> Average the GFP\n",
        "across all epochs and find the peak value of this average GFP."
      ],
      "id": "74388e09-2cdd-486a-ba0d-d3d577d260b3"
    },
    {
      "cell_type": "code",
      "execution_count": 52,
      "metadata": {},
      "outputs": [
        {
          "output_type": "stream",
          "name": "stdout",
          "text": [
            "​"
          ]
        }
      ],
      "source": [],
      "id": "e0f430c7"
    },
    {
      "cell_type": "markdown",
      "metadata": {},
      "source": [
        "<span class=\"theorem-title\">**Exercise 26**</span> Average the GFP\n",
        "across time and epochs (so that the result is a single scalar value).\n",
        "Compute this value separately for the first and second half of epochs -\n",
        "which one is larger?"
      ],
      "id": "7e728fcb-b2a8-45c0-a22e-04e562bff383"
    },
    {
      "cell_type": "code",
      "execution_count": 54,
      "metadata": {},
      "outputs": [
        {
          "output_type": "stream",
          "name": "stdout",
          "text": [
            "​"
          ]
        }
      ],
      "source": [],
      "id": "99ae295d"
    },
    {
      "cell_type": "markdown",
      "metadata": {},
      "source": [
        "## 4 Linking Arrays with Filtering\n",
        "\n",
        "Filtering can also be used to used to link to different arrays. In this\n",
        "section we are going to load an array that contains the time points for\n",
        "the epochs from the previous array. We can use that array to define a\n",
        "mask and then apply that mask to the array of epoch. Numpy also allow us\n",
        "to combine multiple masks using the and/or operators `&` and `|`.\n",
        "Combining two Boolean arrays with `&` results in an array that is only\n",
        "`True` when both arrays are `True`. Combining them with `|` results in\n",
        "an array that is `True` when either array is `True`. In this section we\n",
        "are going to use filtering to link the EEG data with the array\n",
        "containing the time points at which the data were recorded (time point 0\n",
        "represents the stimulus onset).\n",
        "\n",
        "<span class=\"theorem-title\">**Exercise 27**</span> Load the data stored\n",
        "in the file `epoch_times.npy` and assign it to a variable called\n",
        "`times`."
      ],
      "id": "0464b453-ce4d-449e-a980-a2db2ff4cd3a"
    },
    {
      "cell_type": "code",
      "execution_count": 56,
      "metadata": {},
      "outputs": [
        {
          "output_type": "stream",
          "name": "stdout",
          "text": [
            "​"
          ]
        }
      ],
      "source": [],
      "id": "8f3f88a9"
    },
    {
      "cell_type": "markdown",
      "metadata": {},
      "source": [
        "<span class=\"theorem-title\">**Exercise 28**</span> How many time points\n",
        "are there? What’s the start and stop time?"
      ],
      "id": "b0de5f3d-4c75-4fe3-a155-4092e2031e5f"
    },
    {
      "cell_type": "code",
      "execution_count": 58,
      "metadata": {},
      "outputs": [
        {
          "output_type": "stream",
          "name": "stdout",
          "text": [
            "​"
          ]
        }
      ],
      "source": [],
      "id": "03420098"
    },
    {
      "cell_type": "markdown",
      "metadata": {},
      "source": [
        "<span class=\"theorem-title\">**Example 2**</span> Get all of the `eeg`\n",
        "data that was recorded in the first 0.2 seconds after stimulus onset and\n",
        "print the shape of the resulting array."
      ],
      "id": "8a92b09a-5139-43e4-b51a-99ff5e7800c0"
    },
    {
      "cell_type": "code",
      "execution_count": 59,
      "metadata": {},
      "outputs": [
        {
          "output_type": "display_data",
          "metadata": {},
          "data": {
            "text/plain": [
              "(70, 59, 31)"
            ]
          }
        }
      ],
      "source": [
        "mask = times < 0.2\n",
        "np.shape(eeg[:,:,mask])"
      ],
      "id": "cb5a0c3b"
    },
    {
      "cell_type": "markdown",
      "metadata": {},
      "source": [
        "<span class=\"theorem-title\">**Exercise 29**</span> Get all of the `eeg`\n",
        "data that was recorded in the first 0.05 seconds after stimulus onset\n",
        "and print the shape of the resulting array."
      ],
      "id": "6b097d0b-57c3-4feb-a623-aa08eb1caf3e"
    },
    {
      "cell_type": "code",
      "execution_count": 61,
      "metadata": {},
      "outputs": [
        {
          "output_type": "stream",
          "name": "stdout",
          "text": [
            "​"
          ]
        }
      ],
      "source": [],
      "id": "43eba6dc"
    },
    {
      "cell_type": "markdown",
      "metadata": {},
      "source": [
        "<span class=\"theorem-title\">**Example 3**</span> Get all of the `eeg`\n",
        "data that was recorded between 0.1 and 0.2 seconds after stimulus onset\n",
        "and print the shape of the resulting array."
      ],
      "id": "0cf90c69-61e5-4a97-8f09-2db32c2ba336"
    },
    {
      "cell_type": "code",
      "execution_count": 62,
      "metadata": {},
      "outputs": [
        {
          "output_type": "display_data",
          "metadata": {},
          "data": {
            "text/plain": [
              "(70, 59, 15)"
            ]
          }
        }
      ],
      "source": [
        "mask = (times>=0.1) & (times<=0.2)\n",
        "np.shape(eeg[:,:,mask])"
      ],
      "id": "4aaa7f12"
    },
    {
      "cell_type": "markdown",
      "metadata": {},
      "source": [
        "<span class=\"theorem-title\">**Exercise 30**</span> Get all of the `eeg`\n",
        "data that was recorded before 0.1 and after 0.2 seconds and print the\n",
        "shape of the resulting array."
      ],
      "id": "49c98648-bb8a-4462-9294-dc37e4d425af"
    },
    {
      "cell_type": "code",
      "execution_count": 64,
      "metadata": {},
      "outputs": [
        {
          "output_type": "stream",
          "name": "stdout",
          "text": [
            "​"
          ]
        }
      ],
      "source": [],
      "id": "ae233ad0"
    },
    {
      "cell_type": "markdown",
      "metadata": {},
      "source": [
        "<span class=\"theorem-title\">**Exercise 31**</span> Take the average GFP\n",
        "from <a href=\"#exr-avggfp\" class=\"quarto-xref\">Exercise 25</a>, get the\n",
        "values between 0.085 and 0.115 seconds after stimulus onset and average\n",
        "them. This is the amplitude of the so called N1 response."
      ],
      "id": "d447ee68-16d9-437d-a300-9779efcce25e"
    },
    {
      "cell_type": "code",
      "execution_count": 66,
      "metadata": {},
      "outputs": [
        {
          "output_type": "stream",
          "name": "stdout",
          "text": [
            "​"
          ]
        }
      ],
      "source": [],
      "id": "84b1b216"
    },
    {
      "cell_type": "markdown",
      "metadata": {},
      "source": [
        "<span class=\"theorem-title\">**Exercise 32**</span> What is the time\n",
        "point where the average GFP is the largest?"
      ],
      "id": "8789aece-40f3-4180-9ea9-1f1e7cf68622"
    },
    {
      "cell_type": "code",
      "execution_count": 68,
      "metadata": {},
      "outputs": [
        {
          "output_type": "stream",
          "name": "stdout",
          "text": [
            "​"
          ]
        }
      ],
      "source": [],
      "id": "2237f66e"
    }
  ],
  "nbformat": 4,
  "nbformat_minor": 5,
  "metadata": {
    "kernelspec": {
      "name": "python3",
      "display_name": "Python 3 (ipykernel)",
      "language": "python",
      "path": "/home/obi/projects/courses/Intro-to-Scientific-Computing-with-Python/.venv/share/jupyter/kernels/python3"
    },
    "language_info": {
      "name": "python",
      "codemirror_mode": {
        "name": "ipython",
        "version": "3"
      },
      "file_extension": ".py",
      "mimetype": "text/x-python",
      "nbconvert_exporter": "python",
      "pygments_lexer": "ipython3",
      "version": "3.10.15"
    }
  }
}