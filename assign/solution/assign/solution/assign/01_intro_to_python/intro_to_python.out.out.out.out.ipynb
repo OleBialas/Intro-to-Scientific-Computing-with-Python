{
  "cells": [
    {
      "cell_type": "markdown",
      "metadata": {},
      "source": [
        "# Intro to Python and Numpy\n",
        "\n",
        "Welcome to the first notebook of this course! In this notebook, we are\n",
        "going to learn how to represent different kinds of data in Python. We\n",
        "are also taking our first look at creating arrays in Numpy and we are\n",
        "going to analyze some actual neuroscience data.Finally, we are going to\n",
        "explore the differences in performance between Numpy and builtin Python\n",
        "functions.\n",
        "\n",
        "## Storing Data in Variables\n",
        "\n",
        "In the first section, we are going to learn how to represent different\n",
        "kinds of data and store them in varibles. We are going to encounter four\n",
        "baisc data types: integers, floating-point numbers, boolean values and\n",
        "text strings. We are also going to use lists which are collections of\n",
        "data. Data can be assigned to a variable using the `=` operator which\n",
        "takes the value on the right and assigns it to the variable on the left.\n",
        "In this sense, a variable is simply a container that we can use to store\n",
        "and access data.\n",
        "\n",
        "| Code          | Description                                                |\n",
        "|------------------------------------|------------------------------------|\n",
        "| `x = 3.14`    | Assign the floatig-point number `3.14` to the variable `x` |\n",
        "| `x = True`    | Assign the boolean value `True` to the variable `x`        |\n",
        "| `x = \"hello\"` | Assign the string `\"hello\"` to the variable `x`            |\n",
        "| `x = [1,2,3]` | Assign the list of integers `[1,2,3]` to the variable `x`  |\n",
        "\n",
        "------------------------------------------------------------------------\n",
        "\n",
        "<span class=\"theorem-title\">**Exercise 1**</span> Assign the floating\n",
        "value `0.001` to a variable called `small`"
      ],
      "id": "0d0df3fc-33c4-46ac-ac2a-14fd83dde2f3"
    },
    {
      "cell_type": "code",
      "execution_count": 2,
      "metadata": {},
      "outputs": [
        {
          "output_type": "stream",
          "name": "stdout",
          "text": [
            "​"
          ]
        }
      ],
      "source": [],
      "id": "e7034e45"
    },
    {
      "cell_type": "markdown",
      "metadata": {},
      "source": [
        "<span class=\"theorem-title\">**Exercise 2**</span> Assign the boolean\n",
        "value `False` to a variable called `this_is_false`"
      ],
      "id": "738adc12-3463-49fa-9b4d-b8cbc15b02b2"
    },
    {
      "cell_type": "code",
      "execution_count": 4,
      "metadata": {},
      "outputs": [
        {
          "output_type": "stream",
          "name": "stdout",
          "text": [
            "​"
          ]
        }
      ],
      "source": [],
      "id": "1459d2e3"
    },
    {
      "cell_type": "markdown",
      "metadata": {},
      "source": [
        "<span class=\"theorem-title\">**Exercise 3**</span> Assign the string\n",
        "value `\"goodbye\"` to a variable called `goodbye`"
      ],
      "id": "cf71890b-9067-4f43-bea2-f3ac94ef1969"
    },
    {
      "cell_type": "code",
      "execution_count": 6,
      "metadata": {},
      "outputs": [
        {
          "output_type": "stream",
          "name": "stdout",
          "text": [
            "​"
          ]
        }
      ],
      "source": [],
      "id": "561fb548"
    },
    {
      "cell_type": "markdown",
      "metadata": {},
      "source": [
        "<span class=\"theorem-title\">**Exercise 4**</span> Assign a list with the\n",
        "number 0 through 9 to a variable called `digits`"
      ],
      "id": "404aa8b0-9ad8-4c89-b440-418fcda22769"
    },
    {
      "cell_type": "code",
      "execution_count": 8,
      "metadata": {},
      "outputs": [
        {
          "output_type": "stream",
          "name": "stdout",
          "text": [
            "​"
          ]
        }
      ],
      "source": [],
      "id": "9b3eae80"
    },
    {
      "cell_type": "markdown",
      "metadata": {},
      "source": [
        "<span class=\"theorem-title\">**Exercise 5**</span> Assign a list with the\n",
        "values `3`, `False` and `\"red\"` to a variable called `random`"
      ],
      "id": "75e4953d-954e-4317-a49d-1449728d9d11"
    },
    {
      "cell_type": "code",
      "execution_count": 10,
      "metadata": {},
      "outputs": [
        {
          "output_type": "stream",
          "name": "stdout",
          "text": [
            "​"
          ]
        }
      ],
      "source": [],
      "id": "fd282789"
    },
    {
      "cell_type": "markdown",
      "metadata": {},
      "source": [
        "## Analyzing Neural Spiking Data with Numpy\n",
        "\n",
        "Numpy offerst many useful functions for data analysis - let’s test tem\n",
        "on some actual neuroscience data! In this section, we are going to load\n",
        "and analyze the spiking of a neuron in the primary visual cortex of a\n",
        "mouse. The spikes are represented as a sorted list of time points where\n",
        "spikes where observed. For example, `[0.05, 0.24, 1.5]` indicates that a\n",
        "spike was observed 50, 240 and 1500 milliseconds after the start of the\n",
        "recording. Using the functions below, we can answer some interesting\n",
        "questions about the firing behavior of a given neuron.\n",
        "\n",
        "| Code | Description |\n",
        "|------------------------------------|------------------------------------|\n",
        "| `import numpy as np` | Import the module `numpy` under the alias `np` |\n",
        "| `x = np.load(\"data.npy\")` | Load the file `\"data.npy\"` into an array and assign it to the variable `x` |\n",
        "| `np.size(x)` | Get the total number of element stored in the array `x` |\n",
        "| `np.min(x)` | Get the minimum value of the array `x` |\n",
        "| `np.max(x)` | Get the maximum value of the array `x` |\n",
        "| `np.mean(x)` | Compute the mean of all values in the array `x` |\n",
        "| `np.std(x)` | Compute the standard deviation of all values in the array `x` |\n",
        "| `np.diff(x)` | Compute the difference between the elements in the array `x` |\n",
        "\n",
        "------------------------------------------------------------------------\n",
        "\n",
        "<span class=\"theorem-title\">**Exercise 6**</span> Import the Numpy\n",
        "module under the alias `np`"
      ],
      "id": "f8e9b893-9a36-4069-bcd4-9d6da882635c"
    },
    {
      "cell_type": "code",
      "execution_count": 12,
      "metadata": {},
      "outputs": [
        {
          "output_type": "stream",
          "name": "stdout",
          "text": [
            "​"
          ]
        }
      ],
      "source": [],
      "id": "14b6d481"
    },
    {
      "cell_type": "markdown",
      "metadata": {},
      "source": [
        "<span class=\"theorem-title\">**Exercise 7**</span> Load the file\n",
        "`\"spikes.npy\"` into a numpy array"
      ],
      "id": "e3dbbfee-78ed-428c-a7d3-309579471e03"
    },
    {
      "cell_type": "code",
      "execution_count": 14,
      "metadata": {},
      "outputs": [
        {
          "output_type": "stream",
          "name": "stdout",
          "text": [
            "​"
          ]
        }
      ],
      "source": [],
      "id": "5b55a471"
    },
    {
      "cell_type": "markdown",
      "metadata": {},
      "source": [
        "<span class=\"theorem-title\">**Exercise 8**</span> What is the total\n",
        "number of spikes in this recording?"
      ],
      "id": "c56e3201-cfa1-49da-b13c-4c3c1de07652"
    },
    {
      "cell_type": "code",
      "execution_count": 16,
      "metadata": {},
      "outputs": [
        {
          "output_type": "stream",
          "name": "stdout",
          "text": [
            "​"
          ]
        }
      ],
      "source": [],
      "id": "09fec239"
    },
    {
      "cell_type": "markdown",
      "metadata": {},
      "source": [
        "<span class=\"theorem-title\">**Exercise 9**</span> What is the duration\n",
        "of the recording (assuming the recording stopped after the last spike\n",
        "was recorded)"
      ],
      "id": "8ab204fe-71c6-44e7-b654-e266d641c0b5"
    },
    {
      "cell_type": "code",
      "execution_count": 18,
      "metadata": {},
      "outputs": [
        {
          "output_type": "stream",
          "name": "stdout",
          "text": [
            "​"
          ]
        }
      ],
      "source": [],
      "id": "c6260907"
    },
    {
      "cell_type": "markdown",
      "metadata": {},
      "source": [
        "<span class=\"theorem-title\">**Exercise 10**</span> Compute the neuron’s\n",
        "average firing rate (the number of spikes divided by the duration of the\n",
        "recording)"
      ],
      "id": "0d821fc2-1aee-450d-bb75-ad2e9843b66e"
    },
    {
      "cell_type": "code",
      "execution_count": 20,
      "metadata": {},
      "outputs": [
        {
          "output_type": "stream",
          "name": "stdout",
          "text": [
            "​"
          ]
        }
      ],
      "source": [],
      "id": "c260c337"
    },
    {
      "cell_type": "markdown",
      "metadata": {},
      "source": [
        "<span class=\"theorem-title\">**Exercise 11**</span> Compute the\n",
        "inter-spike intervals (i.e. the time differences between subsequent\n",
        "spikes)"
      ],
      "id": "70f9b5ca-8a7b-44bb-b7c0-580f4a854ad2"
    },
    {
      "cell_type": "code",
      "execution_count": 22,
      "metadata": {},
      "outputs": [
        {
          "output_type": "stream",
          "name": "stdout",
          "text": [
            "​"
          ]
        }
      ],
      "source": [],
      "id": "f2ed5fe8"
    },
    {
      "cell_type": "markdown",
      "metadata": {},
      "source": [
        "<span class=\"theorem-title\">**Exercise 12**</span> What is the average\n",
        "inter-spike interval for this neuron?"
      ],
      "id": "38e60ec8-fd52-45c9-9aff-62044ff9f146"
    },
    {
      "cell_type": "code",
      "execution_count": 24,
      "metadata": {},
      "outputs": [
        {
          "output_type": "stream",
          "name": "stdout",
          "text": [
            "​"
          ]
        }
      ],
      "source": [],
      "id": "80100df4"
    },
    {
      "cell_type": "markdown",
      "metadata": {},
      "source": [
        "<span class=\"theorem-title\">**Exercise 13**</span> What is the standard\n",
        "deviation of inter-spike intervals for this neuron?"
      ],
      "id": "6a464213-5b6e-439c-ae16-434f68d06188"
    },
    {
      "cell_type": "code",
      "execution_count": 26,
      "metadata": {},
      "outputs": [
        {
          "output_type": "stream",
          "name": "stdout",
          "text": [
            "​"
          ]
        }
      ],
      "source": [],
      "id": "2da556c2"
    },
    {
      "cell_type": "markdown",
      "metadata": {},
      "source": [
        "<span class=\"theorem-title\">**Exercise 14**</span> What is the shortest\n",
        "time between two spikes?"
      ],
      "id": "7fb2e27d-0cd5-4ca6-9971-c43b43106227"
    },
    {
      "cell_type": "code",
      "execution_count": 28,
      "metadata": {},
      "outputs": [
        {
          "output_type": "stream",
          "name": "stdout",
          "text": [
            "​"
          ]
        }
      ],
      "source": [],
      "id": "8ba3266d"
    },
    {
      "cell_type": "markdown",
      "metadata": {},
      "source": [
        "## Creating Arrays in Numpy\n",
        "\n",
        "Numpy also offers many functions for generating arrays. The simplest way\n",
        "to create an array is to convert a list but there are other functions\n",
        "for specific purposes like generating arrays of random numbers or\n",
        "numbers within a certain range. In this section, we are going to create\n",
        "different kinds of arrays\n",
        "\n",
        "| Code | Description |\n",
        "|------------------------------------|------------------------------------|\n",
        "| `x = np.array([2,5,3])` | Turn the list `[2,5,3]` into a numpy array and assign it to the variable `x` |\n",
        "| `x = np.random.randn(100)` | Create an array with 100 normally-distributed random numbers and assign it to the variable `x` |\n",
        "| `x = np.arange(2,7)` | Create an array with all integers between 2 and (not inculding) 7 and assign it to the variable `x` |\n",
        "| `x = np.arange(2,7,0.3)` | Create an array with evenly spaced values between 2 and 7 with a step size of 0.3 and assign it to the variable `x` |\n",
        "| `x = np.linspace(2,3,10)` | Create an array with 10 evenly spaced values between 2 and 3 and assign it to the variable `x` |\n",
        "\n",
        "------------------------------------------------------------------------\n",
        "\n",
        "<span class=\"theorem-title\">**Exercise 15**</span> Turn the list `a`\n",
        "defined below into an array"
      ],
      "id": "7b77a571-e402-4f23-b936-9f07e5742224"
    },
    {
      "cell_type": "code",
      "execution_count": 29,
      "metadata": {},
      "outputs": [],
      "source": [
        "a = [1, 2, 3]"
      ],
      "id": "915a33d5"
    },
    {
      "cell_type": "code",
      "execution_count": 31,
      "metadata": {},
      "outputs": [
        {
          "output_type": "stream",
          "name": "stdout",
          "text": [
            "​"
          ]
        }
      ],
      "source": [],
      "id": "a4fe2fa5"
    },
    {
      "cell_type": "markdown",
      "metadata": {},
      "source": [
        "<span class=\"theorem-title\">**Exercise 16**</span> Turn the list `b`\n",
        "defined below into an array"
      ],
      "id": "cc70429b-9771-426c-b250-c4112e5c5138"
    },
    {
      "cell_type": "code",
      "execution_count": 32,
      "metadata": {},
      "outputs": [],
      "source": [
        "b = [1, True, \"a\"]"
      ],
      "id": "bc491d4c"
    },
    {
      "cell_type": "code",
      "execution_count": 34,
      "metadata": {},
      "outputs": [
        {
          "output_type": "stream",
          "name": "stdout",
          "text": [
            "​"
          ]
        }
      ],
      "source": [],
      "id": "af489177"
    },
    {
      "cell_type": "markdown",
      "metadata": {},
      "source": [
        "<span class=\"theorem-title\">**Exercise 17**</span> Make an array\n",
        "containing the integers from 1 to 15."
      ],
      "id": "4a1bb613-f99c-4b74-a5f9-bca56af19ec3"
    },
    {
      "cell_type": "code",
      "execution_count": 36,
      "metadata": {},
      "outputs": [
        {
          "output_type": "stream",
          "name": "stdout",
          "text": [
            "​"
          ]
        }
      ],
      "source": [],
      "id": "bd67d080"
    },
    {
      "cell_type": "markdown",
      "metadata": {},
      "source": [
        "<span class=\"theorem-title\">**Exercise 18**</span> Create an array that\n",
        "contains all even numbers up to and inculding 100"
      ],
      "id": "6ea3958c-e7e7-46c2-b029-a42e516d9e00"
    },
    {
      "cell_type": "code",
      "execution_count": 38,
      "metadata": {},
      "outputs": [
        {
          "output_type": "stream",
          "name": "stdout",
          "text": [
            "​"
          ]
        }
      ],
      "source": [],
      "id": "5fb1d9d6"
    },
    {
      "cell_type": "markdown",
      "metadata": {},
      "source": [
        "<span class=\"theorem-title\">**Exercise 19**</span> Make an array of only\n",
        "6 evenly-spaced numbers between 1 and 10."
      ],
      "id": "a5afcd8a-cfbd-4496-be78-a2ef2335a9cf"
    },
    {
      "cell_type": "code",
      "execution_count": 40,
      "metadata": {},
      "outputs": [
        {
          "output_type": "stream",
          "name": "stdout",
          "text": [
            "​"
          ]
        }
      ],
      "source": [],
      "id": "d7fdfa95"
    },
    {
      "cell_type": "markdown",
      "metadata": {},
      "source": [
        "<span class=\"theorem-title\">**Exercise 20**</span> Create an array of 10\n",
        "normally-distributed random numbers and compute its mean and standard\n",
        "deviation"
      ],
      "id": "8cd008af-7225-41c7-9cf1-8abedd39dc8c"
    },
    {
      "cell_type": "code",
      "execution_count": 42,
      "metadata": {},
      "outputs": [
        {
          "output_type": "stream",
          "name": "stdout",
          "text": [
            "​"
          ]
        }
      ],
      "source": [],
      "id": "c3b77e28"
    },
    {
      "cell_type": "markdown",
      "metadata": {},
      "source": [
        "<span class=\"theorem-title\">**Exercise 21**</span> Now, create arrays\n",
        "with of 100 and 1000 normally-distributed random numbers and compute\n",
        "their means and standard deviations"
      ],
      "id": "1f5a0072-0fb0-4f48-be10-09d97974e128"
    },
    {
      "cell_type": "code",
      "execution_count": 44,
      "metadata": {},
      "outputs": [
        {
          "output_type": "stream",
          "name": "stdout",
          "text": [
            "​"
          ]
        }
      ],
      "source": [],
      "id": "e0bcfb51"
    },
    {
      "cell_type": "markdown",
      "metadata": {},
      "source": [
        "<span class=\"theorem-title\">**Exercise 22**</span> Assume we recorded a\n",
        "signal with a duration of 20 seconds at a sampling rate of 100 Hz.\n",
        "Create an array of time points for this signal using both `np.arange()`\n",
        "and `np.linspace()`. The array should start at 0, end at 20 and contain\n",
        "150 points for. Are the arrays generated with the two methods identical?"
      ],
      "id": "8b14a9d5-bcc3-4374-ad78-5417eeb49836"
    },
    {
      "cell_type": "code",
      "execution_count": 46,
      "metadata": {},
      "outputs": [
        {
          "output_type": "stream",
          "name": "stdout",
          "text": [
            "​"
          ]
        }
      ],
      "source": [],
      "id": "4acaed92"
    },
    {
      "cell_type": "markdown",
      "metadata": {},
      "source": [
        "## Quatifying Numpy’s Performance\n",
        "\n",
        "One of the key advantages of Numpy is that it is a lot faster than basic\n",
        "Python. How much faster? Let’s find out! The code below creates an array\n",
        "of ten thousand random numbers as well as a list with exactly the same\n",
        "data. We can use these to test how Numpy compares to basic Python with\n",
        "respect to performance."
      ],
      "id": "0a85498a-70f1-4025-9b2a-493ba73da4dc"
    },
    {
      "cell_type": "code",
      "execution_count": 47,
      "metadata": {},
      "outputs": [],
      "source": [
        "my_array = np.random.randn(10000)\n",
        "my_list = list(my_array)"
      ],
      "id": "ab4188d6"
    },
    {
      "cell_type": "markdown",
      "metadata": {},
      "source": [
        "To time our code, we are going to use the `%%timeit` command. Adding\n",
        "`%%timeit` at the top of a cell makes it so that running that cell\n",
        "displays the time it took to run the code.\n",
        "\n",
        "------------------------------------------------------------------------\n",
        "\n",
        "<span class=\"theorem-title\">**Example 1**</span> Estimate the time for\n",
        "computing the sum of `my_list` using Python’s builtin `sum()` method\n",
        "with `%%timeit`.\n",
        "\n",
        "``` python\n",
        "%%timeit\n",
        "sum(my_list)\n",
        "```\n",
        "\n",
        "    738 μs ± 8.51 μs per loop (mean ± std. dev. of 7 runs, 1,000 loops each)\n",
        "\n",
        "Per default, the code is executed ten times in a loop and the result is\n",
        "averaged over all loops. This procedure is repeated seven times so that\n",
        "we get one average duration for each run. The reported numbers are the\n",
        "average duration across the seven runs and its standard deviation.\n",
        "\n",
        "------------------------------------------------------------------------\n",
        "\n",
        "<span class=\"theorem-title\">**Exercise 23**</span> Use `%%timeit` to\n",
        "estimate how long it takes to compute `np.sum()` of `my_array`"
      ],
      "id": "df6ecaa6-bfa9-48f2-bd55-d95b7f40fed7"
    },
    {
      "cell_type": "code",
      "execution_count": 50,
      "metadata": {},
      "outputs": [
        {
          "output_type": "stream",
          "name": "stdout",
          "text": [
            "​"
          ]
        }
      ],
      "source": [],
      "id": "1cb6ebd2"
    },
    {
      "cell_type": "markdown",
      "metadata": {},
      "source": [
        "<span class=\"theorem-title\">**Exercise 24**</span> Use `%%timeit` to\n",
        "estimate how long it takes for Python’s builtin `max()` function to find\n",
        "the maximum of `my_list`"
      ],
      "id": "fb69fc70-0227-43ac-a342-2cdabd089f6d"
    },
    {
      "cell_type": "code",
      "execution_count": 52,
      "metadata": {},
      "outputs": [
        {
          "output_type": "stream",
          "name": "stdout",
          "text": [
            "​"
          ]
        }
      ],
      "source": [],
      "id": "74888fc5"
    },
    {
      "cell_type": "markdown",
      "metadata": {},
      "source": [
        "<span class=\"theorem-title\">**Exercise 25**</span> Use `%%timeit` to\n",
        "estimate how long it takes for the `np.max()` function to find the\n",
        "maximum of `my_array`"
      ],
      "id": "6b6c7d10-d7d7-4148-a5bc-e123377c1942"
    },
    {
      "cell_type": "code",
      "execution_count": 54,
      "metadata": {},
      "outputs": [
        {
          "output_type": "stream",
          "name": "stdout",
          "text": [
            "​"
          ]
        }
      ],
      "source": [],
      "id": "a5ff3dbd"
    },
    {
      "cell_type": "markdown",
      "metadata": {},
      "source": [
        "<span class=\"theorem-title\">**Exercise 26**</span> The code below\n",
        "estimates the time it takes to multiply every element of `my_list` by 2.\n",
        "Use `%%timeit` to test how long it takes to multiply `my_array` by 2\n",
        "(hint: use the `*` operator)"
      ],
      "id": "c9ee2e71-e94f-4449-a2ec-4e07a25bc631"
    },
    {
      "cell_type": "code",
      "execution_count": 55,
      "metadata": {},
      "outputs": [
        {
          "output_type": "stream",
          "name": "stdout",
          "text": [
            "1.41 ms ± 5.97 μs per loop (mean ± std. dev. of 7 runs, 1,000 loops each)"
          ]
        }
      ],
      "source": [
        "%%timeit\n",
        "[item*2 for item in my_list]"
      ],
      "id": "399e71ae"
    },
    {
      "cell_type": "code",
      "execution_count": 57,
      "metadata": {},
      "outputs": [
        {
          "output_type": "stream",
          "name": "stdout",
          "text": [
            "​"
          ]
        }
      ],
      "source": [],
      "id": "e6bea182"
    },
    {
      "cell_type": "markdown",
      "metadata": {},
      "source": [
        "<span class=\"theorem-title\">**Exercise 27**</span> What is faster:\n",
        "multipying an array by 2 or adding the array to itself?"
      ],
      "id": "d3bc0549-7ad9-458e-9a5f-f9d1e1e4dcc5"
    },
    {
      "cell_type": "code",
      "execution_count": 60,
      "metadata": {},
      "outputs": [
        {
          "output_type": "stream",
          "name": "stdout",
          "text": [
            "​"
          ]
        }
      ],
      "source": [],
      "id": "46e1934d"
    }
  ],
  "nbformat": 4,
  "nbformat_minor": 5,
  "metadata": {
    "kernelspec": {
      "name": "python3",
      "display_name": "Python 3 (ipykernel)",
      "language": "python",
      "path": "/home/obi/projects/courses/Intro-to-Scientific-Computing-with-Python/.venv/share/jupyter/kernels/python3"
    },
    "language_info": {
      "name": "python",
      "codemirror_mode": {
        "name": "ipython",
        "version": "3"
      },
      "file_extension": ".py",
      "mimetype": "text/x-python",
      "nbconvert_exporter": "python",
      "pygments_lexer": "ipython3",
      "version": "3.10.15"
    }
  }
}