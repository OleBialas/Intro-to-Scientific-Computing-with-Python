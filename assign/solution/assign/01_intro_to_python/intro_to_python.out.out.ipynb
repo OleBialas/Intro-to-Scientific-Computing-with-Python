{
  "cells": [
    {
      "cell_type": "markdown",
      "metadata": {},
      "source": [
        "# Intro to Python and Numpy\n",
        "\n",
        "Welcome to the first notebook of this course! In this notebook, we are\n",
        "going to learn how to represent different kinds of data in Python. We\n",
        "are also taking our first look at creating arrays in Numpy and we are\n",
        "going to analyze some actual neuroscience data.Finally, we are going to\n",
        "explore the differences in performance between Numpy and builtin Python\n",
        "functions.\n",
        "\n",
        "Execute the cell below to install the packages required for this\n",
        "notebook."
      ],
      "id": "5aefe1b7-bbba-45f1-a9bc-95742cb83e9d"
    },
    {
      "cell_type": "code",
      "execution_count": 1,
      "metadata": {},
      "outputs": [],
      "source": [
        "%pip install numpy"
      ],
      "id": "62fdcb4d"
    },
    {
      "cell_type": "markdown",
      "metadata": {},
      "source": [
        "## 1 Storing Data in Variables\n",
        "\n",
        "In the first section, we are going to learn how to represent different\n",
        "kinds of data and store them in varibles. We are going to encounter four\n",
        "baisc data types: integers, floating-point numbers, boolean values and\n",
        "text strings. We are also going to use lists which are collections of\n",
        "data. Data can be assigned to a variable using the `=` operator which\n",
        "takes the value on the right and assigns it to the variable on the left.\n",
        "In this sense, a variable is simply a container that we can use to store\n",
        "and access data. The data type of a variable can be determined with the\n",
        "`type()` function. We can also convert varibles from one type to\n",
        "another - for example, the `int()` function will try to convert a\n",
        "variable to an integer. Finally, Python provides operators for teh\n",
        "arithemitc operations like addition `+`, subtraction `-`, multiplication\n",
        "`*` and division `/`. Let’s test how this works!\n",
        "\n",
        "| Code | Description |\n",
        "|------------------------------------|------------------------------------|\n",
        "| `x = 3.14` | Assign the floatig-point number `3.14` to the variable `x` |\n",
        "| `x = True` | Assign the boolean value `True` to the variable `x` |\n",
        "| `x = \"hello\"` | Assign the string `\"hello\"` to the variable `x` |\n",
        "| `x = [1,2,3]` | Assign the list of integers `[1,2,3]` to the variable `x` |\n",
        "| `type(x)` | Get the data type of `x` |\n",
        "| `int(x)` | Convert the variable `x` to an integer |\n",
        "| `+`, `-`, `*`, `/` | Add, subtract, multipt, divide values |\n",
        "\n",
        "------------------------------------------------------------------------\n",
        "\n",
        "<span class=\"theorem-title\">**Example 1**</span> Assign the integer\n",
        "value `1` to a variable called `one` and print its `type()`."
      ],
      "id": "35546709-669e-420f-bd8d-5e9bd870c642"
    },
    {
      "cell_type": "code",
      "execution_count": 2,
      "metadata": {},
      "outputs": [
        {
          "output_type": "display_data",
          "metadata": {},
          "data": {
            "text/plain": [
              "int"
            ]
          }
        }
      ],
      "source": [
        "one = 1\n",
        "type(one)"
      ],
      "id": "0d8234f8"
    },
    {
      "cell_type": "markdown",
      "metadata": {},
      "source": [
        "<span class=\"theorem-title\">**Exercise 1**</span> Subtract 0.5 from the\n",
        "variable `one`"
      ],
      "id": "b7f64bed-cbbd-4bf9-922b-2a38e8b186c9"
    },
    {
      "cell_type": "code",
      "execution_count": 4,
      "metadata": {},
      "outputs": [
        {
          "output_type": "stream",
          "name": "stdout",
          "text": [
            "​"
          ]
        }
      ],
      "source": [],
      "id": "174473b6"
    },
    {
      "cell_type": "markdown",
      "metadata": {},
      "source": [
        "<span class=\"theorem-title\">**Exercise 2**</span> Assign the floating\n",
        "value `0.001` to a variable called `small` and print its type."
      ],
      "id": "c897c5a9-884c-47de-b9e8-49ae53320c6e"
    },
    {
      "cell_type": "code",
      "execution_count": 6,
      "metadata": {},
      "outputs": [
        {
          "output_type": "stream",
          "name": "stdout",
          "text": [
            "​"
          ]
        }
      ],
      "source": [],
      "id": "c8a605cf"
    },
    {
      "cell_type": "markdown",
      "metadata": {},
      "source": [
        "<span class=\"theorem-title\">**Exercise 3**</span> Assign the boolean\n",
        "value `False` to a variable called `this_is_false` and convert it to an\n",
        "integer."
      ],
      "id": "5b982396-42f2-4c9b-a662-02973ca954b1"
    },
    {
      "cell_type": "code",
      "execution_count": 8,
      "metadata": {},
      "outputs": [
        {
          "output_type": "stream",
          "name": "stdout",
          "text": [
            "​"
          ]
        }
      ],
      "source": [],
      "id": "f41cac2b"
    },
    {
      "cell_type": "markdown",
      "metadata": {},
      "source": [
        "<span class=\"theorem-title\">**Exercise 4**</span> Assign the boolean\n",
        "value `True` to a variable called `this_is_true` and convert it to an\n",
        "integer."
      ],
      "id": "cd0efc48-0aa0-4b7d-9113-7e8ec8944ad9"
    },
    {
      "cell_type": "code",
      "execution_count": 10,
      "metadata": {},
      "outputs": [
        {
          "output_type": "stream",
          "name": "stdout",
          "text": [
            "​"
          ]
        }
      ],
      "source": [],
      "id": "ca48a811"
    },
    {
      "cell_type": "markdown",
      "metadata": {},
      "source": [
        "<span class=\"theorem-title\">**Exercise 5**</span> Assign the string\n",
        "value `\"goodbye\"` to a variable called `goodbye` and print its type"
      ],
      "id": "3396288d-0308-4c10-890b-cac1a9591262"
    },
    {
      "cell_type": "code",
      "execution_count": 12,
      "metadata": {},
      "outputs": [
        {
          "output_type": "stream",
          "name": "stdout",
          "text": [
            "​"
          ]
        }
      ],
      "source": [],
      "id": "f342dbd5"
    },
    {
      "cell_type": "markdown",
      "metadata": {},
      "source": [
        "<span class=\"theorem-title\">**Exercise 6**</span> Add the string\n",
        "`\"hello\"` to the varianle `goodbye`"
      ],
      "id": "6df99a1e-15a2-4fe4-bc1a-53128328a533"
    },
    {
      "cell_type": "code",
      "execution_count": 14,
      "metadata": {},
      "outputs": [
        {
          "output_type": "stream",
          "name": "stdout",
          "text": [
            "​"
          ]
        }
      ],
      "source": [],
      "id": "70156c59"
    },
    {
      "cell_type": "markdown",
      "metadata": {},
      "source": [
        "<span class=\"theorem-title\">**Exercise 7**</span> Assign a list with the\n",
        "number 0 through 6 to a variable called `dice` and print its type"
      ],
      "id": "05d94012-8fd9-44a5-933d-7f3fa8d13e19"
    },
    {
      "cell_type": "code",
      "execution_count": 16,
      "metadata": {},
      "outputs": [
        {
          "output_type": "stream",
          "name": "stdout",
          "text": [
            "​"
          ]
        }
      ],
      "source": [],
      "id": "60bcc0a0"
    },
    {
      "cell_type": "markdown",
      "metadata": {},
      "source": [
        "<span class=\"theorem-title\">**Exercise 8**</span> Multiply the list\n",
        "`dice` by 2. Try to add 1 to it.\n",
        "\n",
        "## 2 Analyzing Neural Spiking Data with Numpy\n",
        "\n",
        "Numpy offerst many useful functions for data analysis - let’s test tem\n",
        "on some actual neuroscience data! In this section, we are going to load\n",
        "and analyze the spiking of a neuron in the primary visual cortex of a\n",
        "mouse. The spikes are represented as a sorted list of time points where\n",
        "spikes where observed. For example, `[0.05, 0.24, 1.5]` indicates that a\n",
        "spike was observed 50, 240 and 1500 milliseconds after the start of the\n",
        "recording. Using the functions below, we can answer some interesting\n",
        "questions about the firing behavior of a given neuron.\n",
        "\n",
        "| Code | Description |\n",
        "|------------------------------------|------------------------------------|\n",
        "| `import numpy as np` | Import the module `numpy` under the alias `np` |\n",
        "| `x = np.load(\"data.npy\")` | Load the file `\"data.npy\"` into an array and assign it to the variable `x` |\n",
        "| `np.size(x)` | Get the total number of element stored in the array `x` |\n",
        "| `np.min(x)` | Get the minimum value of the array `x` |\n",
        "| `np.max(x)` | Get the maximum value of the array `x` |\n",
        "| `np.mean(x)` | Compute the mean of all values in the array `x` |\n",
        "| `np.std(x)` | Compute the standard deviation of all values in the array `x` |\n",
        "| `np.diff(x)` | Compute the difference between the elements in the array `x` |\n",
        "\n",
        "------------------------------------------------------------------------\n",
        "\n",
        "<span class=\"theorem-title\">**Exercise 9**</span> Import the Numpy\n",
        "module under the alias `np`."
      ],
      "id": "40e40398-bef1-4b6b-97b4-0cfb71c7e93e"
    },
    {
      "cell_type": "code",
      "execution_count": 19,
      "metadata": {},
      "outputs": [
        {
          "output_type": "stream",
          "name": "stdout",
          "text": [
            "​"
          ]
        }
      ],
      "source": [],
      "id": "f829503a"
    },
    {
      "cell_type": "markdown",
      "metadata": {},
      "source": [
        "<span class=\"theorem-title\">**Exercise 10**</span> Load the file\n",
        "`\"spikes.npy\"` into a numpy array."
      ],
      "id": "9710f206-5e0d-451b-9b0d-d7ae191b4a9b"
    },
    {
      "cell_type": "code",
      "execution_count": 21,
      "metadata": {},
      "outputs": [
        {
          "output_type": "stream",
          "name": "stdout",
          "text": [
            "​"
          ]
        }
      ],
      "source": [],
      "id": "f416868b"
    },
    {
      "cell_type": "markdown",
      "metadata": {},
      "source": [
        "<span class=\"theorem-title\">**Exercise 11**</span> What is the total\n",
        "number of spikes in this recording?"
      ],
      "id": "f9c5d760-d46c-4892-824c-d47fc0a7a914"
    },
    {
      "cell_type": "code",
      "execution_count": 23,
      "metadata": {},
      "outputs": [
        {
          "output_type": "stream",
          "name": "stdout",
          "text": [
            "​"
          ]
        }
      ],
      "source": [],
      "id": "22a4d0eb"
    },
    {
      "cell_type": "markdown",
      "metadata": {},
      "source": [
        "<span class=\"theorem-title\">**Exercise 12**</span> What is the duration\n",
        "of the recording (assuming the recording stopped after the last spike\n",
        "was recorded)?"
      ],
      "id": "bf648204-c1a4-4928-afb9-068d63fb6eb6"
    },
    {
      "cell_type": "code",
      "execution_count": 25,
      "metadata": {},
      "outputs": [
        {
          "output_type": "stream",
          "name": "stdout",
          "text": [
            "​"
          ]
        }
      ],
      "source": [],
      "id": "786fbbf3"
    },
    {
      "cell_type": "markdown",
      "metadata": {},
      "source": [
        "<span class=\"theorem-title\">**Exercise 13**</span> Compute the neuron’s\n",
        "average firing rate (the number of spikes divided by the duration of the\n",
        "recording)."
      ],
      "id": "9e021b4a-e5e3-45b2-a45c-7222dd87663e"
    },
    {
      "cell_type": "code",
      "execution_count": 27,
      "metadata": {},
      "outputs": [
        {
          "output_type": "stream",
          "name": "stdout",
          "text": [
            "​"
          ]
        }
      ],
      "source": [],
      "id": "792c1b31"
    },
    {
      "cell_type": "markdown",
      "metadata": {},
      "source": [
        "<span class=\"theorem-title\">**Exercise 14**</span> Compute the\n",
        "inter-spike intervals (i.e. the time differences between subsequent\n",
        "spikes)."
      ],
      "id": "5ee0d76a-e31e-4d96-8b6f-162206eba5d6"
    },
    {
      "cell_type": "code",
      "execution_count": 29,
      "metadata": {},
      "outputs": [
        {
          "output_type": "stream",
          "name": "stdout",
          "text": [
            "​"
          ]
        }
      ],
      "source": [],
      "id": "386204cf"
    },
    {
      "cell_type": "markdown",
      "metadata": {},
      "source": [
        "<span class=\"theorem-title\">**Exercise 15**</span> What is the average\n",
        "inter-spike interval for this neuron?"
      ],
      "id": "d98cee2c-ee74-44c6-b471-c80ff8e23a72"
    },
    {
      "cell_type": "code",
      "execution_count": 31,
      "metadata": {},
      "outputs": [
        {
          "output_type": "stream",
          "name": "stdout",
          "text": [
            "​"
          ]
        }
      ],
      "source": [],
      "id": "5fc57fd4"
    },
    {
      "cell_type": "markdown",
      "metadata": {},
      "source": [
        "<span class=\"theorem-title\">**Exercise 16**</span> What is the standard\n",
        "deviation of inter-spike intervals for this neuron?"
      ],
      "id": "b5467fdf-bbc8-4818-98b0-46cadbd5b3a8"
    },
    {
      "cell_type": "code",
      "execution_count": 33,
      "metadata": {},
      "outputs": [
        {
          "output_type": "stream",
          "name": "stdout",
          "text": [
            "​"
          ]
        }
      ],
      "source": [],
      "id": "5ce2a2e9"
    },
    {
      "cell_type": "markdown",
      "metadata": {},
      "source": [
        "<span class=\"theorem-title\">**Exercise 17**</span> What is the shortest\n",
        "time between two spikes?"
      ],
      "id": "1c94aa2f-53c2-473c-99eb-957231f45d9e"
    },
    {
      "cell_type": "code",
      "execution_count": 35,
      "metadata": {},
      "outputs": [
        {
          "output_type": "stream",
          "name": "stdout",
          "text": [
            "​"
          ]
        }
      ],
      "source": [],
      "id": "64a404ec"
    },
    {
      "cell_type": "markdown",
      "metadata": {},
      "source": [
        "## 3 Creating Arrays in Numpy\n",
        "\n",
        "Numpy also offers many functions for generating arrays. The simplest way\n",
        "to create an array is to convert a list but there are other functions\n",
        "for specific purposes like generating arrays of random numbers or\n",
        "numbers within a certain range. Like variables, numpy arrays can have\n",
        "different data types. The type of an array is stored in the `.dtype`\n",
        "attribute. In this section, we are going to create and explore different\n",
        "kinds of arrays.\n",
        "\n",
        "| Code | Description |\n",
        "|------------------------------------|------------------------------------|\n",
        "| `x = np.array([2,5,3])` | Create an array from the list `[2,5,3]` and assign it to the variable `x` |\n",
        "| `x = np.random.randn(100)` | Create an array with 100 normally-distributed random numbers and assign it to the variable `x` |\n",
        "| `x = np.arange(2,7)` | Create an array with all integers between 2 and (not inculding) 7 and assign it to the variable `x` |\n",
        "| `x = np.arange(2,7,0.3)` | Create an array with evenly spaced values between 2 and 7 with a step size of 0.3 and assign it to the variable `x` |\n",
        "| `x = np.linspace(2,3,10)` | Create an array with 10 evenly spaced values between 2 and 3 and assign it to the variable `x` |\n",
        "| `x.dtype` | Get the data type of the numpy array `x` |\n",
        "\n",
        "------------------------------------------------------------------------\n",
        "\n",
        "<span class=\"theorem-title\">**Example 2**</span> Create an array with\n",
        "from the list `[1, 2, 3]`, assign it to the variable `a` and print it’s\n",
        "type."
      ],
      "id": "2c40d9b3-2e75-4243-ae13-acff21df6fd8"
    },
    {
      "cell_type": "code",
      "execution_count": 36,
      "metadata": {},
      "outputs": [
        {
          "output_type": "display_data",
          "metadata": {},
          "data": {
            "text/plain": [
              "dtype('int64')"
            ]
          }
        }
      ],
      "source": [
        "a = np.array([1,2,3])\n",
        "a.dtype"
      ],
      "id": "0f049a01"
    },
    {
      "cell_type": "markdown",
      "metadata": {},
      "source": [
        "<span class=\"theorem-title\">**Exercise 18**</span> Multiply the array\n",
        "`a` by 2 and add 1 to it"
      ],
      "id": "0a2b75a1-654e-4116-b8ee-2e2cb39a8ec2"
    },
    {
      "cell_type": "code",
      "execution_count": 38,
      "metadata": {},
      "outputs": [
        {
          "output_type": "stream",
          "name": "stdout",
          "text": [
            "​"
          ]
        }
      ],
      "source": [],
      "id": "0ff342fb"
    },
    {
      "cell_type": "markdown",
      "metadata": {},
      "source": [
        "<span class=\"theorem-title\">**Exercise 19**</span> Create an array with\n",
        "from the list `[0.1, 0.2, 0.3]`, assign it to the variable `b` and print\n",
        "it’s type."
      ],
      "id": "677927d5-4173-4898-a785-54eaa776ce16"
    },
    {
      "cell_type": "code",
      "execution_count": 40,
      "metadata": {},
      "outputs": [
        {
          "output_type": "stream",
          "name": "stdout",
          "text": [
            "​"
          ]
        }
      ],
      "source": [],
      "id": "8ec580cd"
    },
    {
      "cell_type": "markdown",
      "metadata": {},
      "source": [
        "<span class=\"theorem-title\">**Exercise 20**</span> Create an array with\n",
        "from the list `[1, True, \"a\"]`, assign it to the variable `c` and print\n",
        "it’s type."
      ],
      "id": "30361f97-a5d2-4982-a0c3-cab7f7ae3bc8"
    },
    {
      "cell_type": "code",
      "execution_count": 42,
      "metadata": {},
      "outputs": [
        {
          "output_type": "stream",
          "name": "stdout",
          "text": [
            "​"
          ]
        }
      ],
      "source": [],
      "id": "a7765687"
    },
    {
      "cell_type": "markdown",
      "metadata": {},
      "source": [
        "<span class=\"theorem-title\">**Exercise 21**</span> Make an array\n",
        "containing the integers from 1 to 15."
      ],
      "id": "19710f1f-dc93-47e2-9603-fde5744e4419"
    },
    {
      "cell_type": "code",
      "execution_count": 44,
      "metadata": {},
      "outputs": [
        {
          "output_type": "stream",
          "name": "stdout",
          "text": [
            "​"
          ]
        }
      ],
      "source": [],
      "id": "380752d0"
    },
    {
      "cell_type": "markdown",
      "metadata": {},
      "source": [
        "<span class=\"theorem-title\">**Exercise 22**</span> Create an array that\n",
        "contains all even numbers up to and inculding 100."
      ],
      "id": "66e4164d-84fe-4b75-9cd1-4a293cabface"
    },
    {
      "cell_type": "code",
      "execution_count": 46,
      "metadata": {},
      "outputs": [
        {
          "output_type": "stream",
          "name": "stdout",
          "text": [
            "​"
          ]
        }
      ],
      "source": [],
      "id": "4fa37939"
    },
    {
      "cell_type": "markdown",
      "metadata": {},
      "source": [
        "<span class=\"theorem-title\">**Exercise 23**</span> Make an array of only\n",
        "6 evenly-spaced numbers between 1 and 10."
      ],
      "id": "739bd2db-8c70-4c36-b1f0-a34cb3230553"
    },
    {
      "cell_type": "code",
      "execution_count": 48,
      "metadata": {},
      "outputs": [
        {
          "output_type": "stream",
          "name": "stdout",
          "text": [
            "​"
          ]
        }
      ],
      "source": [],
      "id": "85071b69"
    },
    {
      "cell_type": "markdown",
      "metadata": {},
      "source": [
        "<span class=\"theorem-title\">**Exercise 24**</span> Create an array of 10\n",
        "normally-distributed random numbers and compute its mean and standard\n",
        "deviation."
      ],
      "id": "921fa266-68dc-4566-92a8-fb7c8f93e24a"
    },
    {
      "cell_type": "code",
      "execution_count": 50,
      "metadata": {},
      "outputs": [
        {
          "output_type": "stream",
          "name": "stdout",
          "text": [
            "​"
          ]
        }
      ],
      "source": [],
      "id": "cf413645"
    },
    {
      "cell_type": "markdown",
      "metadata": {},
      "source": [
        "<span class=\"theorem-title\">**Exercise 25**</span> Now, create arrays\n",
        "with of 100 and 1000 normally-distributed random numbers and compute\n",
        "their means and standard deviations."
      ],
      "id": "2a829bae-c393-4764-902a-0778d860c401"
    },
    {
      "cell_type": "code",
      "execution_count": 52,
      "metadata": {},
      "outputs": [
        {
          "output_type": "stream",
          "name": "stdout",
          "text": [
            "​"
          ]
        }
      ],
      "source": [],
      "id": "663d8fef"
    },
    {
      "cell_type": "markdown",
      "metadata": {},
      "source": [
        "<span class=\"theorem-title\">**Exercise 26**</span> Assume we recorded a\n",
        "signal with a duration of 20 seconds at a sampling rate of 100 Hz.\n",
        "Create an array of time points for this signal using both `np.arange()`\n",
        "and `np.linspace()`. The array should start at 0, end at 20 and contain\n",
        "150 points per second. Are the arrays generated with the two methods\n",
        "identical?"
      ],
      "id": "023e555b-68c3-416d-b880-9278dc63d1a1"
    },
    {
      "cell_type": "code",
      "execution_count": 54,
      "metadata": {},
      "outputs": [
        {
          "output_type": "stream",
          "name": "stdout",
          "text": [
            "​"
          ]
        }
      ],
      "source": [],
      "id": "92765d99"
    },
    {
      "cell_type": "markdown",
      "metadata": {},
      "source": [
        "## 4 Quatifying Numpy’s Performance\n",
        "\n",
        "One of the key advantages of Numpy is that it is a lot faster than basic\n",
        "Python. How much faster? Let’s find out! The code below creates an array\n",
        "of ten thousand random numbers as well as a list with exactly the same\n",
        "data. We can use these to test how Numpy compares to basic Python with\n",
        "respect to performance."
      ],
      "id": "07ee13d0-8067-46c3-bf8a-31b6cb7fab99"
    },
    {
      "cell_type": "code",
      "execution_count": 55,
      "metadata": {},
      "outputs": [],
      "source": [
        "my_array = np.random.randn(10000)\n",
        "my_list = list(my_array)"
      ],
      "id": "52976b4b"
    },
    {
      "cell_type": "markdown",
      "metadata": {},
      "source": [
        "To time our code, we are going to use the `%%timeit` command. Adding\n",
        "`%%timeit` at the top of a cell makes it so that running that cell\n",
        "displays the time it took to run the code. Per default, the code is\n",
        "executed ten times in a loop and the result is averaged over all loops.\n",
        "This procedure is repeated seven times so that we get one average\n",
        "duration for each run. The reported numbers are the average duration\n",
        "across the seven runs and its standard deviation.\n",
        "\n",
        "------------------------------------------------------------------------\n",
        "\n",
        "<span class=\"theorem-title\">**Example 3**</span> Estimate the time for\n",
        "computing the sum of `my_list` using Python’s builtin `sum()` method\n",
        "with `%%timeit`."
      ],
      "id": "81cabaf0-f37a-402f-9f11-ae51b8466b9b"
    },
    {
      "cell_type": "code",
      "execution_count": 56,
      "metadata": {},
      "outputs": [
        {
          "output_type": "stream",
          "name": "stdout",
          "text": [
            "497 μs ± 114 μs per loop (mean ± std. dev. of 7 runs, 1,000 loops each)"
          ]
        }
      ],
      "source": [
        "%%timeit\n",
        "sum(my_list)"
      ],
      "id": "64d823e3"
    },
    {
      "cell_type": "markdown",
      "metadata": {},
      "source": [
        "<span class=\"theorem-title\">**Exercise 27**</span> Use `%%timeit` to\n",
        "estimate how long it takes to compute `np.sum()` of `my_array`."
      ],
      "id": "fa057d78-f977-4bf0-8b58-1c2ea6a0a1c1"
    },
    {
      "cell_type": "code",
      "execution_count": 58,
      "metadata": {},
      "outputs": [
        {
          "output_type": "stream",
          "name": "stdout",
          "text": [
            "​"
          ]
        }
      ],
      "source": [],
      "id": "41e9f636"
    },
    {
      "cell_type": "markdown",
      "metadata": {},
      "source": [
        "<span class=\"theorem-title\">**Exercise 28**</span> Use `%%timeit` to\n",
        "estimate how long it takes for Python’s builtin `max()` function to find\n",
        "the maximum of `my_list`."
      ],
      "id": "233d144a-bf02-4951-a372-a4a23af0b033"
    },
    {
      "cell_type": "code",
      "execution_count": 60,
      "metadata": {},
      "outputs": [
        {
          "output_type": "stream",
          "name": "stdout",
          "text": [
            "​"
          ]
        }
      ],
      "source": [],
      "id": "ea9d9c17"
    },
    {
      "cell_type": "markdown",
      "metadata": {},
      "source": [
        "<span class=\"theorem-title\">**Exercise 29**</span> Use `%%timeit` to\n",
        "estimate how long it takes for the `np.max()` function to find the\n",
        "maximum of `my_array`."
      ],
      "id": "11af4b22-4009-4b3e-8415-76b7e045a73c"
    },
    {
      "cell_type": "code",
      "execution_count": 62,
      "metadata": {},
      "outputs": [
        {
          "output_type": "stream",
          "name": "stdout",
          "text": [
            "​"
          ]
        }
      ],
      "source": [],
      "id": "addd6885"
    },
    {
      "cell_type": "markdown",
      "metadata": {},
      "source": [
        "<span class=\"theorem-title\">**Exercise 30**</span> The code below\n",
        "estimates the time it takes to multiply every element of `my_list` by 2.\n",
        "Use `%%timeit` to test how long it takes to multiply `my_array` by 2\n",
        "(hint: use the `*` operator)."
      ],
      "id": "f698fdf6-18f4-4256-8aa6-2a7254307e5c"
    },
    {
      "cell_type": "code",
      "execution_count": 63,
      "metadata": {},
      "outputs": [
        {
          "output_type": "stream",
          "name": "stdout",
          "text": [
            "869 μs ± 11.3 μs per loop (mean ± std. dev. of 7 runs, 1,000 loops each)"
          ]
        }
      ],
      "source": [
        "%%timeit\n",
        "[item*2 for item in my_list]"
      ],
      "id": "3643d0f1"
    },
    {
      "cell_type": "code",
      "execution_count": 65,
      "metadata": {},
      "outputs": [
        {
          "output_type": "stream",
          "name": "stdout",
          "text": [
            "​"
          ]
        }
      ],
      "source": [],
      "id": "9530caab"
    },
    {
      "cell_type": "markdown",
      "metadata": {},
      "source": [
        "<span class=\"theorem-title\">**Exercise 31**</span> What is faster:\n",
        "multipying an array by 2 or adding the array to itself?"
      ],
      "id": "d04a60f0-408c-417a-85f7-5bffa68ed87e"
    },
    {
      "cell_type": "code",
      "execution_count": 68,
      "metadata": {},
      "outputs": [
        {
          "output_type": "stream",
          "name": "stdout",
          "text": [
            "​"
          ]
        }
      ],
      "source": [],
      "id": "a90d8754"
    }
  ],
  "nbformat": 4,
  "nbformat_minor": 5,
  "metadata": {
    "kernelspec": {
      "name": "python3",
      "display_name": "Python 3 (ipykernel)",
      "language": "python",
      "path": "/home/obi/projects/courses/Intro-to-Scientific-Computing-with-Python/.venv/share/jupyter/kernels/python3"
    },
    "language_info": {
      "name": "python",
      "codemirror_mode": {
        "name": "ipython",
        "version": "3"
      },
      "file_extension": ".py",
      "mimetype": "text/x-python",
      "nbconvert_exporter": "python",
      "pygments_lexer": "ipython3",
      "version": "3.10.15"
    }
  }
}