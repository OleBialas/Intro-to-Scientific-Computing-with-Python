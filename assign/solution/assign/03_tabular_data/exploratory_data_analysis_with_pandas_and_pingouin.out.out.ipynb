{
  "cells": [
    {
      "cell_type": "markdown",
      "metadata": {},
      "source": [
        "# Analyzing Tabular Data with Pandas\n",
        "\n",
        "In many analyses, it is useful to organize data in a tabular format.\n",
        "Tables are great because they allow us to store heterogeneous data and\n",
        "assign names to columns which makes exploration more intuitive. The most\n",
        "popular library for working with tabular data in Python is called\n",
        "`pandas` which derives from **pan**el **da**ta. In this section we are\n",
        "going to learn how to use `pandas` and how it interfaces with other\n",
        "tools to create a powerful ecosystem for data analysis. At the core of\n",
        "pandas is the `DataFrame` - an object that stores two-dimensional\n",
        "tabular data. Variables that store data frames are commonly called `df`.\n",
        "Most of pandas functionalities come as so called methods of the data\n",
        "frame object. Methods are called by typing the variable name and the\n",
        "method name separated by a dot. For example: `df.head()` will call the\n",
        "`.head()` method of the data frame `df`. If you are not used to this\n",
        "syntax, don’t worry - all sections contain examples for how the\n",
        "respective methods are used.\n",
        "\n",
        "To install the packages required for this session, execute the cell\n",
        "below."
      ],
      "id": "c44fd98b-8ef0-4b4c-817e-efd1b5e31a5d"
    },
    {
      "cell_type": "code",
      "execution_count": 1,
      "metadata": {},
      "outputs": [
        {
          "output_type": "stream",
          "name": "stdout",
          "text": [
            "error: externally-managed-environment\n",
            "\n",
            "× This environment is externally managed\n",
            "╰─> To install Python packages system-wide, try apt install\n",
            "    python3-xyz, where xyz is the package you are trying to\n",
            "    install.\n",
            "    \n",
            "    If you wish to install a non-Debian-packaged Python package,\n",
            "    create a virtual environment using python3 -m venv path/to/venv.\n",
            "    Then use path/to/venv/bin/python and path/to/venv/bin/pip. Make\n",
            "    sure you have python3-full installed.\n",
            "    \n",
            "    If you wish to install a non-Debian packaged Python application,\n",
            "    it may be easiest to use pipx install xyz, which will manage a\n",
            "    virtual environment for you. Make sure you have pipx installed.\n",
            "    \n",
            "    See /usr/share/doc/python3.11/README.venv for more information.\n",
            "\n",
            "note: If you believe this is a mistake, please contact your Python installation or OS distribution provider. You can override this, at the risk of breaking your Python installation or OS, by passing --break-system-packages.\n",
            "hint: See PEP 668 for the detailed specification."
          ]
        }
      ],
      "source": [
        "!pip install pandas seaborn pingouin"
      ],
      "id": "40c4a7e4"
    },
    {
      "cell_type": "markdown",
      "metadata": {},
      "source": [
        "## Reading and Writing Tabular Data\n",
        "\n",
        "There are many different file formats for tabular data that pandas\n",
        "supports (for a full list, see [this\n",
        "website](https://pandas.pydata.org/docs/user_guide/io.html)). One of the\n",
        "most commonly used formats is CSV which stands for comma-separated\n",
        "values. A CSV file contains plain text where items are separated by\n",
        "commas. Because it is plain text, CSV is independent of the programming\n",
        "language which makes it a useful interoperable standard. In this\n",
        "section, we are going to learn how to read data from a CSV file into\n",
        "`pandas` and how to write it back to the CSV format.\n",
        "\n",
        "| Code | Description |\n",
        "|------------------------------------|------------------------------------|\n",
        "| `import pandas as pd` | Import the `pandas` module under the alias `pd` |\n",
        "| `df = pd.read_csv(\"mydata.csv\")` | Read the file `\"mydata.csv\"` into a pandas data frame and assign it to the variable `df` |\n",
        "| `df.head(5)` | Print the first 5 rows of `df` |\n",
        "| `df.to_csv(\"mydata.csv\")` | Read the file `\"mydata.csv\"` into a pandas data frame and assign it to the variable `df` |\n",
        "\n",
        "<span class=\"theorem-title\">**Exercise 1**</span> Import the `pandas`\n",
        "library under the alias `pd`."
      ],
      "id": "b4720be0-857a-41e9-be60-45eac74ad7e1"
    },
    {
      "cell_type": "code",
      "execution_count": 3,
      "metadata": {},
      "outputs": [
        {
          "output_type": "stream",
          "name": "stdout",
          "text": [
            "​"
          ]
        }
      ],
      "source": [],
      "id": "432dd77c"
    },
    {
      "cell_type": "markdown",
      "metadata": {},
      "source": [
        "<span class=\"theorem-title\">**Exercise 2**</span> Read the file\n",
        "`salaries.csv` into a data frame and assign it to a variable called\n",
        "`df`."
      ],
      "id": "c4d12b2c-d1d3-4a87-b750-0ccb46cfc3e8"
    },
    {
      "cell_type": "code",
      "execution_count": 5,
      "metadata": {},
      "outputs": [
        {
          "output_type": "stream",
          "name": "stdout",
          "text": [
            "​"
          ]
        }
      ],
      "source": [],
      "id": "91fe4e61"
    },
    {
      "cell_type": "markdown",
      "metadata": {},
      "source": [
        "<span class=\"theorem-title\">**Exercise 3**</span> Print the first 3 rows\n",
        "of the data frame `df`."
      ],
      "id": "93c18640-c1b2-413d-b5cb-4a462a098750"
    },
    {
      "cell_type": "code",
      "execution_count": 7,
      "metadata": {},
      "outputs": [
        {
          "output_type": "stream",
          "name": "stdout",
          "text": [
            "​"
          ]
        }
      ],
      "source": [],
      "id": "ea962d2c"
    },
    {
      "cell_type": "markdown",
      "metadata": {},
      "source": [
        "<span class=\"theorem-title\">**Exercise 4**</span> Get the first 3 rows\n",
        "of `df` and assign them to another variable called `new_df`. Write\n",
        "`new_df` to a file called `new_salaries.csv`.\n",
        "\n",
        "<span class=\"theorem-title\">**Exercise 5**</span> Open\n",
        "`new_salaries.csv` in your editor (simply click on it in the file\n",
        "explorer) and manually edit the file to append a new individual with\n",
        "name `Jim` age `32` city `Kansas`, salary `72000` and Department `HR`.\n",
        "Save the edited file, then load `new_salaries.csv` and print it to make\n",
        "sure your edit was stored.\n",
        "\n",
        "## Exploring a Data Set in Pandas\n",
        "\n",
        "Now that we know how to read CSV files, we can start working with some\n",
        "actual data! In this section, we are going to analyze demographic data\n",
        "from passengers of the Titanic which are stored in the file\n",
        "`titanic.csv`. Once we loaded the data into a data frame, we can access\n",
        "a given column by providing its name as a string inside square brackets.\n",
        "For example, `df[\"age\"]` will return the column `\"age\"` in the data\n",
        "frame `df`. By extracting individual columns and using methods like\n",
        "`.max()` or `.mean()`, one can quickly get an overview of the data\n",
        "stored in a table.\n",
        "\n",
        "| Code | Description |\n",
        "|------------------------------------|------------------------------------|\n",
        "| `df[\"var1\"]` | Access the column with the name `\"var1\"` in `df` |\n",
        "| `df[\"var1\"].min()` | Get the minimum value of column `\"var1\"` |\n",
        "| `df[\"var1\"].max()` | Get the maximum value of column `\"var1\"` |\n",
        "| `df[\"var1\"].mean()` | Compute the mean value of column `\"var1\"` |\n",
        "| `df[\"var1\"].unique()` | Get all unique values of column `\"var1\"` |\n",
        "| `df[\"var1\"].value_counts()` | Get all unique values of column `\"var1\"` |\n",
        "\n",
        "------------------------------------------------------------------------\n",
        "\n",
        "<span class=\"theorem-title\">**Exercise 6**</span> Read the file\n",
        "`titanic.csv` into a pandas data frame and assign it to the variable\n",
        "`df`."
      ],
      "id": "36d60da0-70af-4229-a256-cb778c0bf006"
    },
    {
      "cell_type": "code",
      "execution_count": 11,
      "metadata": {},
      "outputs": [
        {
          "output_type": "stream",
          "name": "stdout",
          "text": [
            "​"
          ]
        }
      ],
      "source": [],
      "id": "d63d0389"
    },
    {
      "cell_type": "markdown",
      "metadata": {},
      "source": [
        "<span class=\"theorem-title\">**Exercise 7**</span> Get the column\n",
        "`\"survived\"` from `df`."
      ],
      "id": "683a4a0c-f343-4f44-920f-4949f140490e"
    },
    {
      "cell_type": "code",
      "execution_count": 13,
      "metadata": {},
      "outputs": [
        {
          "output_type": "stream",
          "name": "stdout",
          "text": [
            "​"
          ]
        }
      ],
      "source": [],
      "id": "d8d8f8fa"
    },
    {
      "cell_type": "markdown",
      "metadata": {},
      "source": [
        "<span class=\"theorem-title\">**Exercise 8**</span> What is the mean fare\n",
        "that passengers on the Titanic paid?"
      ],
      "id": "37ecdae5-73cf-4e62-b65e-2c017ed5b9a3"
    },
    {
      "cell_type": "code",
      "execution_count": 15,
      "metadata": {},
      "outputs": [
        {
          "output_type": "stream",
          "name": "stdout",
          "text": [
            "​"
          ]
        }
      ],
      "source": [],
      "id": "66a00f11"
    },
    {
      "cell_type": "markdown",
      "metadata": {},
      "source": [
        "<span class=\"theorem-title\">**Exercise 9**</span> What is the minimum\n",
        "and maximum `\"age\"` of the Titanic’s passengers?"
      ],
      "id": "7a45a1d9-3172-4423-86a8-a7efed8d64f9"
    },
    {
      "cell_type": "code",
      "execution_count": 17,
      "metadata": {},
      "outputs": [
        {
          "output_type": "stream",
          "name": "stdout",
          "text": [
            "​"
          ]
        }
      ],
      "source": [],
      "id": "676cf349"
    },
    {
      "cell_type": "markdown",
      "metadata": {},
      "source": [
        "<span class=\"theorem-title\">**Exercise 10**</span> What are the\n",
        "different `\"deck\"`s on the Titanic?"
      ],
      "id": "ef54af35-a4a8-49c2-a9fa-c754bbe11649"
    },
    {
      "cell_type": "code",
      "execution_count": 19,
      "metadata": {},
      "outputs": [
        {
          "output_type": "stream",
          "name": "stdout",
          "text": [
            "​"
          ]
        }
      ],
      "source": [],
      "id": "f95782c5"
    },
    {
      "cell_type": "markdown",
      "metadata": {},
      "source": [
        "<span class=\"theorem-title\">**Exercise 11**</span> What is the most\n",
        "common `\"embark_town\"` for passengers of the Titanic?"
      ],
      "id": "aa3707ce-cafc-425d-aec5-ab0e7addb660"
    },
    {
      "cell_type": "code",
      "execution_count": 21,
      "metadata": {},
      "outputs": [
        {
          "output_type": "stream",
          "name": "stdout",
          "text": [
            "​"
          ]
        }
      ],
      "source": [],
      "id": "41a6a67e"
    },
    {
      "cell_type": "markdown",
      "metadata": {},
      "source": [
        "## Filtering a Data Frame\n",
        "\n",
        "Just like arrays, a data frame can be filtered using Boolean masks. The\n",
        "process is exactly the same: you create a mask of `True` and `False`\n",
        "values by applying a logical condition to a data frame. Then, you apply\n",
        "it to the data frame to extract the values where the mask equals `True`.\n",
        "This is very useful for statistical analysis. For example, we could\n",
        "check whether the average age of passengers differs between sexes by\n",
        "extracting the values where `df[\"sex\"]==\"male\"` and\n",
        "`df[\"sex\"]==\"female\"` and computing their respective means.\n",
        "\n",
        "| Code | Description |\n",
        "|------------------------------------|------------------------------------|\n",
        "| `mask = df[\"var2\"]==\"a\"` | Create a `mask` of Boolean values that is `True` where the value of column `\"var1\"` is `\"a\"` and `False` otherwise |\n",
        "| `mask = df[\"var1\"]>=0` | \\<;Create a `mask` of Boolean values that is `True` where the value of column `\"var1\"` is greater or equal to `0` and `False` otherwise |\n",
        "| `mask = df[\"var1\"].isin([1,2,3])` | Create a `mask` of Boolean values that is `True` where the value of column `\"var1\"` is contained in the list `[1,2,3]` and `False` otherwise |\n",
        "| `df_filtered = df[mask]` | Get the rows of `df` where the `mask` is `True` and assign this new, filtered, data frame to a variable `df_filtered` |\n",
        "\n",
        "<span class=\"theorem-title\">**Exercise 12**</span> Get the data from all\n",
        "passengers on `deck` E."
      ],
      "id": "c6c6b211-dc9a-49d3-887d-e078e800489d"
    },
    {
      "cell_type": "code",
      "execution_count": 23,
      "metadata": {},
      "outputs": [
        {
          "output_type": "stream",
          "name": "stdout",
          "text": [
            "​"
          ]
        }
      ],
      "source": [],
      "id": "8dd74ac6"
    },
    {
      "cell_type": "markdown",
      "metadata": {},
      "source": [
        "<span class=\"theorem-title\">**Exercise 13**</span> Is the survival rate\n",
        "higher for male or female passengers?"
      ],
      "id": "b5940144-890f-4513-8f8c-cf97c380dae7"
    },
    {
      "cell_type": "code",
      "execution_count": 25,
      "metadata": {},
      "outputs": [
        {
          "output_type": "stream",
          "name": "stdout",
          "text": [
            "​"
          ]
        }
      ],
      "source": [],
      "id": "9cbeaaf7"
    },
    {
      "cell_type": "markdown",
      "metadata": {},
      "source": [
        "<span class=\"theorem-title\">**Exercise 14**</span> What was the average\n",
        "`fare` paid by passengers that survived and those that didn’t?"
      ],
      "id": "28838090-5dd1-44cf-b15c-94d1f4156f3d"
    },
    {
      "cell_type": "code",
      "execution_count": 27,
      "metadata": {},
      "outputs": [
        {
          "output_type": "stream",
          "name": "stdout",
          "text": [
            "​"
          ]
        }
      ],
      "source": [],
      "id": "c5db5019"
    },
    {
      "cell_type": "markdown",
      "metadata": {},
      "source": [
        "<span class=\"theorem-title\">**Exercise 15**</span> How are the\n",
        "passengers in `\"pclass\"` 1 distributed across the `\"embark_town\"`s\n",
        "compared to those in `\"pclass\"` 3?"
      ],
      "id": "d85a5178-9b44-409b-b694-765ed0e40513"
    },
    {
      "cell_type": "code",
      "execution_count": 29,
      "metadata": {},
      "outputs": [
        {
          "output_type": "stream",
          "name": "stdout",
          "text": [
            "​"
          ]
        }
      ],
      "source": [],
      "id": "d354cff7"
    },
    {
      "cell_type": "markdown",
      "metadata": {},
      "source": [
        "## The Pandas Ecosystem\n",
        "\n",
        "Another advantage of `pandas` is its integration with other software\n",
        "which creates a powerful ecosystem for data analysis. In this section we\n",
        "are going to explore two such libraries: `seaborn`, a tool for\n",
        "visualizations and `pingouin`, a package for statistical analysis. Both\n",
        "libraries provide a similar interface where you pass a data frame as\n",
        "`data` and specify variables based on their column name. This\n",
        "homogeneous interface makes data analysis within the pandas framework\n",
        "very convenient.\n",
        "\n",
        "### Visualization with Seaborn\n",
        "\n",
        "| Code | Description |\n",
        "|------------------------------------|------------------------------------|\n",
        "| `import seaborn as sns` | Import the seaborn library under the alias `sns` |\n",
        "| `sns.catplot(data=df, x='var1', y='var2')` | Create a `cat`egorical plot for the data frame `df` with `\"var1\"` on the x-axis and `\"var2\"` on the y-axis |\n",
        "| `sns.catplot(data=df, x='var1', y='var2', kind=\"violin\")` | Plot the same data but as a violin plot |\n",
        "| `sns.catplot(data=df, x='var1', y='var2', hue=\"var3\")` | Plot the same data but add color or `hue` to encode `\"var3\"` |\n",
        "\n",
        "<span class=\"theorem-title\">**Exercise 16**</span> Import the `seaborn`\n",
        "library under the alias `sns`."
      ],
      "id": "ff5d31e7-0f0e-4aed-b261-59cc9418db19"
    },
    {
      "cell_type": "code",
      "execution_count": 31,
      "metadata": {},
      "outputs": [
        {
          "output_type": "stream",
          "name": "stdout",
          "text": [
            "​"
          ]
        }
      ],
      "source": [],
      "id": "07720890"
    },
    {
      "cell_type": "markdown",
      "metadata": {},
      "source": [
        "<span class=\"theorem-title\">**Exercise 17**</span> Create a `catplot` to\n",
        "visualize the distribution of `\"fare\"` across the different classes\n",
        "(`\"pclass\"`)."
      ],
      "id": "afb73eb8-f560-49c5-bb42-32e93585cf2e"
    },
    {
      "cell_type": "code",
      "execution_count": 33,
      "metadata": {},
      "outputs": [
        {
          "output_type": "stream",
          "name": "stdout",
          "text": [
            "​"
          ]
        }
      ],
      "source": [],
      "id": "927fd3b1"
    },
    {
      "cell_type": "markdown",
      "metadata": {},
      "source": [
        "<span class=\"theorem-title\">**Exercise 18**</span> Create a bar plot for\n",
        "the same data by specifying `kind=\"bar\"`."
      ],
      "id": "78b5cc8a-9cd1-47de-a031-a30da82282c8"
    },
    {
      "cell_type": "code",
      "execution_count": 35,
      "metadata": {},
      "outputs": [
        {
          "output_type": "stream",
          "name": "stdout",
          "text": [
            "​"
          ]
        }
      ],
      "source": [],
      "id": "5d59c4c8"
    },
    {
      "cell_type": "markdown",
      "metadata": {},
      "source": [
        "<span class=\"theorem-title\">**Exercise 19**</span> Add a color or `hue`\n",
        "to the bar plot to encode passenger `sex`."
      ],
      "id": "33573bc1-b6c2-47a4-bf44-2b430a1e90a6"
    },
    {
      "cell_type": "code",
      "execution_count": 37,
      "metadata": {},
      "outputs": [
        {
          "output_type": "stream",
          "name": "stdout",
          "text": [
            "​"
          ]
        }
      ],
      "source": [],
      "id": "6025861c"
    },
    {
      "cell_type": "markdown",
      "metadata": {},
      "source": [
        "### Statistical Analysis with Pingouin\n",
        "\n",
        "| Code | Description |\n",
        "|------------------------------------|------------------------------------|\n",
        "| `import pingouin as pg` | Import the `pingouin` library under the alias `pg` |\n",
        "| `pg.anova(data=df, dv=\"var1\", between=\"var2\")` | Perfom an analysis of variance (ANOVA) to compare the difference in the dependent variable `\"var1\"` between groups in `\"var2\"` |\n",
        "\n",
        "<span class=\"theorem-title\">**Exercise 20**</span> Import the `pingouin`\n",
        "library under the alias `pg`."
      ],
      "id": "1b267dde-8d0c-4719-adca-5453687e42d6"
    },
    {
      "cell_type": "code",
      "execution_count": 39,
      "metadata": {},
      "outputs": [
        {
          "output_type": "stream",
          "name": "stdout",
          "text": [
            "​"
          ]
        }
      ],
      "source": [],
      "id": "b71d742e"
    },
    {
      "cell_type": "markdown",
      "metadata": {},
      "source": [
        "<span class=\"theorem-title\">**Exercise 21**</span> Perform an analysis\n",
        "of variance (ANOVA) to compare the difference in the dependent variable\n",
        "`\"fare\"` between `\"embark_town\"`s."
      ],
      "id": "dded16e2-d5f8-4f65-95b6-f65694a8d125"
    },
    {
      "cell_type": "code",
      "execution_count": 41,
      "metadata": {},
      "outputs": [
        {
          "output_type": "stream",
          "name": "stdout",
          "text": [
            "​"
          ]
        }
      ],
      "source": [],
      "id": "386149fd"
    },
    {
      "cell_type": "markdown",
      "metadata": {},
      "source": [
        "<span class=\"theorem-title\">**Exercise 22**</span> Calculate the\n",
        "pairwise correlations for all columns in `df`. Assign the data frame\n",
        "returned by `pg.pariwise_corr` to a new variable called `df_corr` and\n",
        "print the columns `\"X\"`, `\"Y\"` and `\"r\"`"
      ],
      "id": "01579ac0-783f-46eb-aebb-b944cb80d221"
    },
    {
      "cell_type": "code",
      "execution_count": 43,
      "metadata": {},
      "outputs": [
        {
          "output_type": "stream",
          "name": "stdout",
          "text": [
            "​"
          ]
        }
      ],
      "source": [],
      "id": "6c172239"
    }
  ],
  "nbformat": 4,
  "nbformat_minor": 5,
  "metadata": {
    "kernelspec": {
      "name": "python3",
      "display_name": "Python 3 (ipykernel)",
      "language": "python",
      "path": "/home/obi/projects/courses/Intro-to-Scientific-Computing-with-Python/.venv/share/jupyter/kernels/python3"
    },
    "language_info": {
      "name": "python",
      "codemirror_mode": {
        "name": "ipython",
        "version": "3"
      },
      "file_extension": ".py",
      "mimetype": "text/x-python",
      "nbconvert_exporter": "python",
      "pygments_lexer": "ipython3",
      "version": "3.10.15"
    }
  }
}