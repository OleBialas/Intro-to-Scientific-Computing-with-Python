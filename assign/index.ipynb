{
  "cells": [
    {
      "cell_type": "markdown",
      "metadata": {},
      "source": [
        "# Introduction to Scientific Computing with Python\n",
        "\n",
        "## Notebooks\n",
        "\n",
        "-   Session 1: [Introduction to\n",
        "    Python](./01_intro_to_python/intro_to_python.html)\n",
        "-   Session 2: [Array programming with\n",
        "    Numpy](./02_working_with_matrices/)\n",
        "-   Session 3: [Exploratory Data Analysis with Pandas and\n",
        "    Pingouin](./03_analyzing_tabular_data/exploratory_data_analysis_with_pandas_and_pingouin.html)\n",
        "-   Session 4: [Data Visualization with Seaborn and\n",
        "    Matplotlib](./04_data_visualization/data_visualization.html)"
      ],
      "id": "6ff9fce2-0ff5-4050-87b1-ffe85b99a679"
    }
  ],
  "nbformat": 4,
  "nbformat_minor": 5,
  "metadata": {
    "kernelspec": {
      "display_name": "Python 3",
      "language": "python",
      "name": "python3"
    }
  }
}