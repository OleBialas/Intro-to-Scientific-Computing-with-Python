{
  "cells": [
    {
      "cell_type": "markdown",
      "metadata": {},
      "source": [
        "# Exploratory Data Analysis with Pandas and Pingouin"
      ],
      "id": "cb34497b-93d4-4fa2-a869-c7faa6b164b9"
    },
    {
      "cell_type": "code",
      "execution_count": 1,
      "metadata": {},
      "outputs": [],
      "source": [
        "import pandas as pd\n",
        "import pingouin as pg"
      ],
      "id": "e0eb6fe7"
    },
    {
      "cell_type": "markdown",
      "metadata": {},
      "source": [
        "TODO: - Add section of bootstrapping - Move pingouin to visualization\n",
        "section and just do linrear regression with visualizations (linear model\n",
        "is the basis of a lot)\n",
        "\n",
        "## 1. Exploring a Data Set in Pandas\n",
        "\n",
        "| Code | Description |\n",
        "|------------------------------------|------------------------------------|\n",
        "| `df = pd.read_csv(\"mydata.csv\")` | Read the file `\"mydata.csv\"` into a pandas data frame and assign it to the variable `df` |\n",
        "| `df.head(5)` | Print the first 5 rows of in `df` |\n",
        "| `df[\"var1\"]` | Access the column with the name `\"var1\"` in `df` |\n",
        "| `df[\"var1\"].min()` | Get the minimum value of column `\"var1\"` |\n",
        "| `df[\"var1\"].max()` | Get the maximum value of column `\"var1\"` |\n",
        "| `df[\"var1\"].mean()` | Compute the mean value of column `\"var1\"` |\n",
        "| `df[\"var1\"].unique()` | Get all unique values of column `\"var1\"` |"
      ],
      "id": "e76070b2-316e-4bea-b361-06b2f26b196f"
    },
    {
      "cell_type": "markdown",
      "metadata": {},
      "source": [
        "### Exercises"
      ],
      "id": "5102a53b-f651-4606-970a-8f9f5206dee1"
    },
    {
      "cell_type": "markdown",
      "metadata": {},
      "source": [
        "Read the file `titanic.csv` into a pandas data frame\n",
        "\n",
        "``` python\n",
        "df = pd.read_csv(\"titanic.csv\")\n",
        "```\n",
        "\n",
        "## 2. Filtering a Data Frame\n",
        "\n",
        "| Code | Description |\n",
        "|------------------------------------|------------------------------------|\n",
        "| `mask = df[\"var2\"]==\"a\"` | Create a `mask` of boolean values that is `True` where the value of column `\"var1\"` is `\"a\"` and `False` otherwise |\n",
        "| `mask = df[\"var1\"]>=0` | Create a `mask` of boolean values that is `True` where the value of column `\"var1\"` is greater or equal to `0` and `False` otherwise |\n",
        "| `mask = df[\"var1\"].isin([1,2,3])` | Create a `mask` of boolean values that is `True` where the value of column `\"var1\"` is contained in the list `[1,2,3]` and `False` otherwise |\n",
        "| `df_filtered = df[mask]` | Get the rows of `df` where the `mask` is `True` and assign this new, filtered, data frame to a variable `df_filtered` |\n",
        "| `df_filtered.to_csv(\"mydata_filt.csv\")` | Write the filtered data frame to a file called `\"mydata_filt.csv\"` |\n",
        "\n",
        "## 3. Running Statistical Tests with Pingouin\n",
        "\n",
        "| Code | Description |\n",
        "|------------------------------------|------------------------------------|\n",
        "| `pg.ttest(x, y)` | Run a T-test to find whether there is a significant difference in the mean of the distributions between the variables `x` and `y` |\n",
        "| `pg.corr(x,y)` | Compute pearson’s correlation between the variables `x` and `y` |\n",
        "| `pg.anova(df, dv=\"score\", between=\"class\")` | Run a one-way anova on the data frame `df` to test if there is a signifcant difference in `\"score\"` between the different groups in the column `\"class\"` |\n",
        "| `pg.linear_regression(x, y)` | Linear regression between variables `x` and `y` |"
      ],
      "id": "4d18f6c2-0ae5-464e-aa83-d34f34bf351c"
    }
  ],
  "nbformat": 4,
  "nbformat_minor": 5,
  "metadata": {
    "kernelspec": {
      "name": "python3",
      "display_name": "Python 3 (ipykernel)",
      "language": "python",
      "path": "/home/obi/projects/courses/Intro-to-Scientific-Computing-with-Python/.venv/share/jupyter/kernels/python3"
    },
    "language_info": {
      "name": "python",
      "codemirror_mode": {
        "name": "ipython",
        "version": "3"
      },
      "file_extension": ".py",
      "mimetype": "text/x-python",
      "nbconvert_exporter": "python",
      "pygments_lexer": "ipython3",
      "version": "3.10.15"
    }
  }
}