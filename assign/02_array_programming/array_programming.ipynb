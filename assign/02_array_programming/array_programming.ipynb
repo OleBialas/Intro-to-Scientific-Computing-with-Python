{
  "cells": [
    {
      "cell_type": "markdown",
      "metadata": {},
      "source": [
        "# Array Programming in Numpy\n",
        "\n",
        "## Indexing and Slicing\n",
        "\n",
        "Often, we want to access specific values stored inside an array. This\n",
        "can be done by slicing and indexing. Indexing simply means getting the\n",
        "element at a specific position. Python starts counting at 0, so `x[0]`\n",
        "will get the **1st** element of `x`. Slicing means getting all values\n",
        "within a certain range by providing a start and stop position. When we\n",
        "index and slice multi-dimensional arrays, we must provide multiple\n",
        "coordinates - one per dimension. We can also omitt a value to indicate\n",
        "that we want to get **all** values along that dimension\n",
        "\n",
        "| Code | Description |\n",
        "|------------------------------------|------------------------------------|\n",
        "| `x[0]` | Get the 1st element of `x` |\n",
        "| `x[-1]` | Get the last element of `x` |\n",
        "| `x[2:5]` | Get the 3rd 4th and 5th element of `x` |\n",
        "| `x[:5]` | Get everything up to and including the 5th element of `x` |\n",
        "| `x[2, 1]` | Get the element in the 3rd row and 2nd column of the 2-dimensional array `x` |\n",
        "| `x[0, :]` | Get the whole first row of `x` |\n",
        "| `x[1:5, 2]` | Get the values from rows 2 trough 5 in the 3rd column of `x` |\n",
        "\n",
        "### Exercises"
      ],
      "id": "d405acee-10c5-485b-8862-17f41fc15297"
    },
    {
      "cell_type": "code",
      "execution_count": 1,
      "metadata": {},
      "outputs": [],
      "source": [
        "import numpy as np"
      ],
      "id": "e4223f9d"
    },
    {
      "cell_type": "markdown",
      "metadata": {},
      "source": [
        "Execute the cell below to define the array `x`."
      ],
      "id": "ae17ee2f-4a0f-4cfb-90e5-547f02ecf6fe"
    },
    {
      "cell_type": "code",
      "execution_count": 2,
      "metadata": {},
      "outputs": [],
      "source": [
        "x = np.array([1,2,3,4,5,6,7,8,9])"
      ],
      "id": "8268b568"
    },
    {
      "cell_type": "markdown",
      "metadata": {},
      "source": [
        "Get the second element of `x`"
      ],
      "id": "c118c6af-c74e-47df-ae7d-e53e2ce12350"
    },
    {
      "cell_type": "code",
      "execution_count": 4,
      "metadata": {},
      "outputs": [
        {
          "output_type": "stream",
          "name": "stdout",
          "text": [
            "​"
          ]
        }
      ],
      "source": [],
      "id": "62e45637"
    },
    {
      "cell_type": "markdown",
      "metadata": {},
      "source": [
        "Get the element with the value `5` from x"
      ],
      "id": "72e74c5d-8de0-4ca0-a9d9-733be1278cef"
    },
    {
      "cell_type": "code",
      "execution_count": 6,
      "metadata": {},
      "outputs": [
        {
          "output_type": "stream",
          "name": "stdout",
          "text": [
            "​"
          ]
        }
      ],
      "source": [],
      "id": "08d5546e"
    },
    {
      "cell_type": "markdown",
      "metadata": {},
      "source": [
        "Get all the elements of `x` except for the first two"
      ],
      "id": "bf2d6589-e45c-4590-b619-b171d541c247"
    },
    {
      "cell_type": "code",
      "execution_count": 8,
      "metadata": {},
      "outputs": [
        {
          "output_type": "stream",
          "name": "stdout",
          "text": [
            "​"
          ]
        }
      ],
      "source": [],
      "id": "69ffb797"
    },
    {
      "cell_type": "markdown",
      "metadata": {},
      "source": [
        "Get all elements of `x` except for the first and last"
      ],
      "id": "b229ce2b-46c7-4387-bb5f-c9813759738c"
    },
    {
      "cell_type": "code",
      "execution_count": 10,
      "metadata": {},
      "outputs": [
        {
          "output_type": "stream",
          "name": "stdout",
          "text": [
            "​"
          ]
        }
      ],
      "source": [],
      "id": "42d03ced"
    },
    {
      "cell_type": "markdown",
      "metadata": {},
      "source": [
        "Execute the cell below to define the 2-dimensional array `x`"
      ],
      "id": "87a53e88-689e-4577-ba5b-b104b1841397"
    },
    {
      "cell_type": "code",
      "execution_count": 11,
      "metadata": {},
      "outputs": [],
      "source": [
        "x = np.array([\n",
        "    [1,2,3],\n",
        "    [4,5,6],\n",
        "    [7,8,9]\n",
        "])"
      ],
      "id": "a63d8c74"
    },
    {
      "cell_type": "markdown",
      "metadata": {},
      "source": [
        "Get the first row of `x` with the values `[1, 2, 3]`"
      ],
      "id": "9db7f4a4-2fcf-4c92-b0c6-5d57f0b6b50e"
    },
    {
      "cell_type": "code",
      "execution_count": 13,
      "metadata": {},
      "outputs": [
        {
          "output_type": "stream",
          "name": "stdout",
          "text": [
            "​"
          ]
        }
      ],
      "source": [],
      "id": "79558555"
    },
    {
      "cell_type": "markdown",
      "metadata": {},
      "source": [
        "Get the second column of `x` with the values `[2, 5, 8]`"
      ],
      "id": "621acdca-da0e-46bb-a9a7-b2c902961176"
    },
    {
      "cell_type": "code",
      "execution_count": 15,
      "metadata": {},
      "outputs": [
        {
          "output_type": "stream",
          "name": "stdout",
          "text": [
            "​"
          ]
        }
      ],
      "source": [],
      "id": "27a03bc9"
    },
    {
      "cell_type": "markdown",
      "metadata": {},
      "source": [
        "Get every value of `x` except for the bottom row"
      ],
      "id": "464c3556-64e0-4579-a90e-d0090043ce92"
    },
    {
      "cell_type": "code",
      "execution_count": 17,
      "metadata": {},
      "outputs": [
        {
          "output_type": "stream",
          "name": "stdout",
          "text": [
            "​"
          ]
        }
      ],
      "source": [],
      "id": "336f7da5"
    },
    {
      "cell_type": "markdown",
      "metadata": {},
      "source": [
        "Get every value of `x` except for the rightmost column"
      ],
      "id": "44794631-5bcf-427c-97e3-0b15f5f753e8"
    },
    {
      "cell_type": "code",
      "execution_count": 19,
      "metadata": {},
      "outputs": [
        {
          "output_type": "stream",
          "name": "stdout",
          "text": [
            "​"
          ]
        }
      ],
      "source": [],
      "id": "494df120"
    },
    {
      "cell_type": "markdown",
      "metadata": {},
      "source": [
        "## Filtering\n",
        "\n",
        "Another way to get specific values from arrays is by filtering. This\n",
        "works in two steps: First, we create a mask of boolean values. This can\n",
        "be done with logical comparisons, for example by checking which elements\n",
        "of an array are greater than 0. Then, we use this mask to index the\n",
        "array and obtain a filtered version that only contains the elements for\n",
        "which the mask was `True`. This allows us to define precise conditions\n",
        "for the values we want to get from an array.\n",
        "\n",
        "### Exercises\n",
        "\n",
        "Execut the cell below to create an array with 100 random integers\n",
        "between 0 and (not inculding) 10."
      ],
      "id": "4f2626e4-dcd8-4b94-bef6-07bf0fb8c94f"
    },
    {
      "cell_type": "code",
      "execution_count": 20,
      "metadata": {},
      "outputs": [],
      "source": [
        "x = np.random.randint(10, size=100)"
      ],
      "id": "dc3dfa0d"
    },
    {
      "cell_type": "markdown",
      "metadata": {},
      "source": [
        "Get all values of `x` that are greater than 1"
      ],
      "id": "51dae37c-19d4-48cd-9e29-29a5ed891a32"
    },
    {
      "cell_type": "code",
      "execution_count": 22,
      "metadata": {},
      "outputs": [
        {
          "output_type": "stream",
          "name": "stdout",
          "text": [
            "​"
          ]
        }
      ],
      "source": [],
      "id": "de0b8016"
    },
    {
      "cell_type": "markdown",
      "metadata": {},
      "source": [
        "Get all values of `x` that are smaller or equal to 3"
      ],
      "id": "6df691ad-4718-484a-ac4d-2402f58d11be"
    },
    {
      "cell_type": "code",
      "execution_count": 24,
      "metadata": {},
      "outputs": [
        {
          "output_type": "stream",
          "name": "stdout",
          "text": [
            "​"
          ]
        }
      ],
      "source": [],
      "id": "c410b07d"
    },
    {
      "cell_type": "markdown",
      "metadata": {},
      "source": [
        "How many values of `x` are 0 ?"
      ],
      "id": "2053ea05-2301-4450-b84a-431e178b39e2"
    },
    {
      "cell_type": "code",
      "execution_count": 26,
      "metadata": {},
      "outputs": [
        {
          "output_type": "stream",
          "name": "stdout",
          "text": [
            "​"
          ]
        }
      ],
      "source": [],
      "id": "b3a8f36e"
    },
    {
      "cell_type": "markdown",
      "metadata": {},
      "source": [
        "Does `x` contain more values above or below 5 ?"
      ],
      "id": "5ccde79a-b3c3-4081-83a8-c5c66f8685df"
    },
    {
      "cell_type": "code",
      "execution_count": 28,
      "metadata": {},
      "outputs": [
        {
          "output_type": "stream",
          "name": "stdout",
          "text": [
            "​"
          ]
        }
      ],
      "source": [],
      "id": "f94792f5"
    },
    {
      "cell_type": "markdown",
      "metadata": {},
      "source": [
        "## Analyzing Multi-Dimensional Data\n",
        "\n",
        "Now that we learned about indexing, slicing and filtering, we have the\n",
        "tools for analyzing mutli-dimensional data! In this section we are going\n",
        "to analyze electroencephalography (EEG) recordings of brain responses to\n",
        "pure tones. The data are stored in a 3-dimensional array. The first\n",
        "dimension represents the number of trials or epochs (the tone was\n",
        "repeated multiple times), the second dimension represents the number of\n",
        "EEG channels and the third dimension repesents the number of time\n",
        "points.\n",
        "\n",
        "### Exercises"
      ],
      "id": "b14326be-e2d7-45d7-ad1e-f25c55f9774e"
    },
    {
      "cell_type": "code",
      "execution_count": 29,
      "metadata": {},
      "outputs": [],
      "source": [
        "eeg = np.load(\"eeg_epochs.npy\")"
      ],
      "id": "4c36d277"
    },
    {
      "cell_type": "markdown",
      "metadata": {},
      "source": [
        "How many epochs, channels and time points are there in the `eeg` data?\n",
        "\n",
        "Calculate the average evoked response potential (ERP) by averaging `eeg`\n",
        "across epochs.\n",
        "\n",
        "Find the channel with the largest peak-to-peak amplitude.\n",
        "\n",
        "Get all channels where the peak-to-peak amplitude is at least half as\n",
        "big as the maximum.\n",
        "\n",
        "Calculate the `eeg`’s standard deviation across channels, which is known\n",
        "as global field power (GFP).\n",
        "\n",
        "On average, was GFP larger in the first or second half of epochs?\n",
        "\n",
        "## Linking Arrays with Filtering\n",
        "\n",
        "### Exercises"
      ],
      "id": "4bccc163-fa7a-4fc3-9e48-2f8e7789d785"
    },
    {
      "cell_type": "code",
      "execution_count": 30,
      "metadata": {},
      "outputs": [],
      "source": [
        "times = np.load(\"epoch_times.npy\")"
      ],
      "id": "c4234dfd"
    }
  ],
  "nbformat": 4,
  "nbformat_minor": 5,
  "metadata": {
    "kernelspec": {
      "name": "python3",
      "display_name": "Python 3 (ipykernel)",
      "language": "python",
      "path": "/home/obi/projects/courses/Intro-to-Scientific-Computing-with-Python/.venv/share/jupyter/kernels/python3"
    },
    "language_info": {
      "name": "python",
      "codemirror_mode": {
        "name": "ipython",
        "version": "3"
      },
      "file_extension": ".py",
      "mimetype": "text/x-python",
      "nbconvert_exporter": "python",
      "pygments_lexer": "ipython3",
      "version": "3.10.15"
    }
  }
}