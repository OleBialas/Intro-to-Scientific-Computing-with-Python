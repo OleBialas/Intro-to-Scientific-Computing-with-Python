{
  "cells": [
    {
      "cell_type": "markdown",
      "metadata": {},
      "source": [
        "# Exploratory Data Analysis with Pandas and Pingouin"
      ],
      "id": "fe3d2252-8b8f-4d04-894a-dbf1072423cf"
    },
    {
      "cell_type": "code",
      "execution_count": 1,
      "metadata": {},
      "outputs": [],
      "source": [
        "import pandas as pd\n",
        "import pingouin as pg"
      ],
      "id": "02fe48f0"
    },
    {
      "cell_type": "markdown",
      "metadata": {},
      "source": [
        "## 1. Exploring a Data Set in Pandas\n",
        "\n",
        "| Code | Description |\n",
        "|------------------------------------|------------------------------------|\n",
        "| `df = pd.read_csv(\"mydata.csv\")` | Read the file `\"mydata.csv\"` into a pandas data frame and assign it to the variable `df` |\n",
        "| `df.head(5)` | Print the first 5 rows of in `df` |\n",
        "| `df[\"var1\"]` | Access the column with the name `\"var1\"` in `df` |\n",
        "| `df[\"var1\"].min()` | Get the minimum value of column `\"var1\"` |\n",
        "| `df[\"var1\"].max()` | Get the maximum value of column `\"var1\"` |\n",
        "| `df[\"var1\"].mean()` | Compute the mean value of column `\"var1\"` |\n",
        "| `df[\"var1\"].unique()` | Get all unique values of column `\"var1\"` |"
      ],
      "id": "f51d653e-8c40-49de-a5f6-09dd1654c751"
    },
    {
      "cell_type": "markdown",
      "metadata": {},
      "source": [
        "### Exercises"
      ],
      "id": "76543149-00df-4b65-ba5e-d8a287cccf07"
    },
    {
      "cell_type": "markdown",
      "metadata": {},
      "source": [
        "Read the file `titanic.csv` into a pandas data frame\n",
        "\n",
        "``` python\n",
        "df = pd.read_csv(\"titanic.csv\")\n",
        "```\n",
        "\n",
        "## 2. Filtering a Data Frame\n",
        "\n",
        "| Code | Description |\n",
        "|------------------------------------|------------------------------------|\n",
        "| `mask = df[\"var2\"]==\"a\"` | Create a `mask` of boolean values that is `True` where the value of column `\"var1\"` is `\"a\"` and `False` otherwise |\n",
        "| `mask = df[\"var1\"]>=0` | Create a `mask` of boolean values that is `True` where the value of column `\"var1\"` is greater or equal to `0` and `False` otherwise |\n",
        "| `mask = df[\"var1\"].isin([1,2,3])` | Create a `mask` of boolean values that is `True` where the value of column `\"var1\"` is contained in the list `[1,2,3]` and `False` otherwise |\n",
        "| `df_filtered = df[mask]` | Get the rows of `df` where the `mask` is `True` and assign this new, filtered, data frame to a variable `df_filtered` |\n",
        "| `df_filtered.to_csv(\"mydata_filt.csv\")` | Write the filtered data frame to a file called `\"mydata_filt.csv\"` |\n",
        "\n",
        "## 3. Running Statistical Tests with Pingouin\n",
        "\n",
        "| Code | Description |\n",
        "|------------------------------------|------------------------------------|\n",
        "| `pg.ttest(x, y)` | Run a T-test to find whether there is a significant difference in the mean of the distributions between the variables `x` and `y` |\n",
        "| `pg.corr(x,y)` | Compute pearson’s correlation between the variables `x` and `y` |\n",
        "| `pg.anova(df, dv=\"score\", between=\"class\")` | Run a one-way anova on the data frame `df` to test if there is a signifcant difference in `\"score\"` between the different groups in the column `\"class\"` |\n",
        "| `pg.linear_regression(x, y)` | Linear regression between variables `x` and `y` |"
      ],
      "id": "4177b4cb-f627-49d1-91c7-2c1c93e31e0a"
    }
  ],
  "nbformat": 4,
  "nbformat_minor": 5,
  "metadata": {
    "kernelspec": {
      "name": "python3",
      "display_name": "Python 3 (ipykernel)",
      "language": "python",
      "path": "/home/obi/projects/courses/Intro-to-Scientific-Computing-with-Python/.venv/share/jupyter/kernels/python3"
    },
    "language_info": {
      "name": "python",
      "codemirror_mode": {
        "name": "ipython",
        "version": "3"
      },
      "file_extension": ".py",
      "mimetype": "text/x-python",
      "nbconvert_exporter": "python",
      "pygments_lexer": "ipython3",
      "version": "3.10.15"
    }
  }
}