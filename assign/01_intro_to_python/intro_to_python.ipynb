{
  "cells": [
    {
      "cell_type": "markdown",
      "metadata": {},
      "source": [
        "# Intro to Python and Numpy\n",
        "\n",
        "Welcome to the first notebook of this course! In this notebook, we are\n",
        "going to learn how to represent different kinds of data in Python. We\n",
        "are also taking our first look at creating arrays in Numpy and we are\n",
        "going to analyze some actual neuroscience data.Finally, we are going to\n",
        "explore the differences in performance between Numpy and builtin Python\n",
        "functions.\n",
        "\n",
        "## Storing Data in Variables\n",
        "\n",
        "In the first section, we are going to learn how to represent different\n",
        "kinds of data and store them in varibles. We are going to encounter four\n",
        "baisc data types: integers, floating-point numbers, boolean values and\n",
        "text strings. We are also going to use lists which are collections of\n",
        "data. Data can be assigned to a variable using the `=` operator which\n",
        "takes the value on the right and assigns it to the variable on the left.\n",
        "In this sense, a variable is simply a container that we can use to store\n",
        "and access data.\n",
        "\n",
        "| Code          | Description                                                |\n",
        "|------------------------------------|------------------------------------|\n",
        "| `x = 3.14`    | Assign the floatig-point number `3.14` to the variable `x` |\n",
        "| `x = True`    | Assign the boolean value `True` to the variable `x`        |\n",
        "| `x = \"hello\"` | Assign the string `\"hello\"` to the variable `x`            |\n",
        "| `x = [1,2,3]` | Assign the list of integers `[1,2,3]` to the variable `x`  |\n",
        "\n",
        "------------------------------------------------------------------------\n",
        "\n",
        "<span class=\"theorem-title\">**Exercise 1**</span> Assign the floating\n",
        "value `0.001` to a variable called `small`"
      ],
      "id": "e1391119-79ab-4bec-b465-226d546e7163"
    },
    {
      "cell_type": "code",
      "execution_count": 2,
      "metadata": {},
      "outputs": [
        {
          "output_type": "stream",
          "name": "stdout",
          "text": [
            "​"
          ]
        }
      ],
      "source": [],
      "id": "43ca395d"
    },
    {
      "cell_type": "markdown",
      "metadata": {},
      "source": [
        "<span class=\"theorem-title\">**Exercise 2**</span> Assign the boolean\n",
        "value `False` to a variable called `this_is_false`"
      ],
      "id": "e0a2f578-c6c7-4175-90e1-3269977743bd"
    },
    {
      "cell_type": "code",
      "execution_count": 4,
      "metadata": {},
      "outputs": [
        {
          "output_type": "stream",
          "name": "stdout",
          "text": [
            "​"
          ]
        }
      ],
      "source": [],
      "id": "7ce4f91d"
    },
    {
      "cell_type": "markdown",
      "metadata": {},
      "source": [
        "<span class=\"theorem-title\">**Exercise 3**</span> Assign the string\n",
        "value `\"goodbye\"` to a variable called `goodbye`"
      ],
      "id": "b79c9a7c-000b-4670-bf43-b93f4c00f905"
    },
    {
      "cell_type": "code",
      "execution_count": 6,
      "metadata": {},
      "outputs": [
        {
          "output_type": "stream",
          "name": "stdout",
          "text": [
            "​"
          ]
        }
      ],
      "source": [],
      "id": "7cf944dc"
    },
    {
      "cell_type": "markdown",
      "metadata": {},
      "source": [
        "<span class=\"theorem-title\">**Exercise 4**</span> Assign a list with the\n",
        "number 0 through 9 to a variable called `digits`"
      ],
      "id": "769f3bba-70de-433f-85e5-02e556b6917a"
    },
    {
      "cell_type": "code",
      "execution_count": 8,
      "metadata": {},
      "outputs": [
        {
          "output_type": "stream",
          "name": "stdout",
          "text": [
            "​"
          ]
        }
      ],
      "source": [],
      "id": "a0483d37"
    },
    {
      "cell_type": "markdown",
      "metadata": {},
      "source": [
        "<span class=\"theorem-title\">**Exercise 5**</span> Assign a list with the\n",
        "values `3`, `False` and `\"red\"` to a variable called `random`"
      ],
      "id": "ef608d63-cff3-4d01-82b5-a8522e8a0386"
    },
    {
      "cell_type": "code",
      "execution_count": 10,
      "metadata": {},
      "outputs": [
        {
          "output_type": "stream",
          "name": "stdout",
          "text": [
            "​"
          ]
        }
      ],
      "source": [],
      "id": "cee22a2d"
    },
    {
      "cell_type": "markdown",
      "metadata": {},
      "source": [
        "## Analyzing Neural Spiking Data with Numpy\n",
        "\n",
        "Numpy offerst many useful functions for data analysis - let’s test tem\n",
        "on some actual neuroscience data! In this section, we are going to load\n",
        "and analyze the spiking of a neuron in the primary visual cortex of a\n",
        "mouse. The spikes are represented as a sorted list of time points where\n",
        "spikes where observed. For example, `[0.05, 0.24, 1.5]` indicates that a\n",
        "spike was observed 50, 240 and 1500 milliseconds after the start of the\n",
        "recording. Using the functions below, we can answer some interesting\n",
        "questions about the firing behavior of a given neuron.\n",
        "\n",
        "| Code | Description |\n",
        "|------------------------------------|------------------------------------|\n",
        "| `import numpy as np` | Import the module `numpy` under the alias `np` |\n",
        "| `x = np.load(\"data.npy\")` | Load the file `\"data.npy\"` into an array and assign it to the variable `x` |\n",
        "| `np.size(x)` | Get the total number of element stored in the array `x` |\n",
        "| `np.min(x)` | Get the minimum value of the array `x` |\n",
        "| `np.max(x)` | Get the maximum value of the array `x` |\n",
        "| `np.mean(x)` | Compute the mean of all values in the array `x` |\n",
        "| `np.std(x)` | Compute the standard deviation of all values in the array `x` |\n",
        "| `np.diff(x)` | Compute the difference between the elements in the array `x` |\n",
        "\n",
        "------------------------------------------------------------------------\n",
        "\n",
        "<span class=\"theorem-title\">**Exercise 6**</span> Import the Numpy\n",
        "module under the alias `np`"
      ],
      "id": "5c678ae9-48de-4f2f-b731-98c7c72805b3"
    },
    {
      "cell_type": "code",
      "execution_count": 12,
      "metadata": {},
      "outputs": [
        {
          "output_type": "stream",
          "name": "stdout",
          "text": [
            "​"
          ]
        }
      ],
      "source": [],
      "id": "e169c2df"
    },
    {
      "cell_type": "markdown",
      "metadata": {},
      "source": [
        "<span class=\"theorem-title\">**Exercise 7**</span> Load the file\n",
        "`\"spikes.npy\"` into a numpy array"
      ],
      "id": "8e1a11ea-b44a-49a4-8eb5-024bfe8a0085"
    },
    {
      "cell_type": "code",
      "execution_count": 14,
      "metadata": {},
      "outputs": [
        {
          "output_type": "stream",
          "name": "stdout",
          "text": [
            "​"
          ]
        }
      ],
      "source": [],
      "id": "25f7d8b7"
    },
    {
      "cell_type": "markdown",
      "metadata": {},
      "source": [
        "<span class=\"theorem-title\">**Exercise 8**</span> What is the total\n",
        "number of spikes in this recording?"
      ],
      "id": "28a4cfb5-6d0c-4ec6-b39a-6e2c8657b36e"
    },
    {
      "cell_type": "code",
      "execution_count": 16,
      "metadata": {},
      "outputs": [
        {
          "output_type": "stream",
          "name": "stdout",
          "text": [
            "​"
          ]
        }
      ],
      "source": [],
      "id": "0157b7d4"
    },
    {
      "cell_type": "markdown",
      "metadata": {},
      "source": [
        "<span class=\"theorem-title\">**Exercise 9**</span> What is the duration\n",
        "of the recording (assuming the recording stopped after the last spike\n",
        "was recorded)"
      ],
      "id": "c5d72a1c-7667-4718-9f86-4226f771a172"
    },
    {
      "cell_type": "code",
      "execution_count": 18,
      "metadata": {},
      "outputs": [
        {
          "output_type": "stream",
          "name": "stdout",
          "text": [
            "​"
          ]
        }
      ],
      "source": [],
      "id": "a7165808"
    },
    {
      "cell_type": "markdown",
      "metadata": {},
      "source": [
        "<span class=\"theorem-title\">**Exercise 10**</span> Compute the neuron’s\n",
        "average firing rate (the number of spikes divided by the duration of the\n",
        "recording)"
      ],
      "id": "cf107d4d-085e-46c4-ac8e-fae22b60825e"
    },
    {
      "cell_type": "code",
      "execution_count": 20,
      "metadata": {},
      "outputs": [
        {
          "output_type": "stream",
          "name": "stdout",
          "text": [
            "​"
          ]
        }
      ],
      "source": [],
      "id": "440c2f43"
    },
    {
      "cell_type": "markdown",
      "metadata": {},
      "source": [
        "<span class=\"theorem-title\">**Exercise 11**</span> Compute the\n",
        "inter-spike intervals (i.e. the time differences between subsequent\n",
        "spikes)"
      ],
      "id": "bd92cce9-c37c-4bee-87cb-afd58132ebcf"
    },
    {
      "cell_type": "code",
      "execution_count": 22,
      "metadata": {},
      "outputs": [
        {
          "output_type": "stream",
          "name": "stdout",
          "text": [
            "​"
          ]
        }
      ],
      "source": [],
      "id": "82404ab3"
    },
    {
      "cell_type": "markdown",
      "metadata": {},
      "source": [
        "<span class=\"theorem-title\">**Exercise 12**</span> What is the average\n",
        "inter-spike interval for this neuron?"
      ],
      "id": "fe2b172f-7e8a-4274-9a31-b40765dc8288"
    },
    {
      "cell_type": "code",
      "execution_count": 24,
      "metadata": {},
      "outputs": [
        {
          "output_type": "stream",
          "name": "stdout",
          "text": [
            "​"
          ]
        }
      ],
      "source": [],
      "id": "f4927a76"
    },
    {
      "cell_type": "markdown",
      "metadata": {},
      "source": [
        "<span class=\"theorem-title\">**Exercise 13**</span> What is the standard\n",
        "deviation of inter-spike intervals for this neuron?"
      ],
      "id": "b48f47a3-4e3c-4cd3-a415-4e23c262c831"
    },
    {
      "cell_type": "code",
      "execution_count": 26,
      "metadata": {},
      "outputs": [
        {
          "output_type": "stream",
          "name": "stdout",
          "text": [
            "​"
          ]
        }
      ],
      "source": [],
      "id": "faae9928"
    },
    {
      "cell_type": "markdown",
      "metadata": {},
      "source": [
        "<span class=\"theorem-title\">**Exercise 14**</span> What is the shortest\n",
        "time between two spikes?"
      ],
      "id": "b68caae4-32c1-43cd-90c4-65d5d9a16ad1"
    },
    {
      "cell_type": "code",
      "execution_count": 28,
      "metadata": {},
      "outputs": [
        {
          "output_type": "stream",
          "name": "stdout",
          "text": [
            "​"
          ]
        }
      ],
      "source": [],
      "id": "b4d211cb"
    },
    {
      "cell_type": "markdown",
      "metadata": {},
      "source": [
        "## Creating Arrays in Numpy\n",
        "\n",
        "Numpy also offers many functions for generating arrays. The simplest way\n",
        "to create an array is to convert a list but there are other functions\n",
        "for specific purposes like generating arrays of random numbers or\n",
        "numbers within a certain range. In this section, we are going to create\n",
        "different kinds of arrays\n",
        "\n",
        "| Code | Description |\n",
        "|------------------------------------|------------------------------------|\n",
        "| `x = np.array([2,5,3])` | Turn the list `[2,5,3]` into a numpy array and assign it to the variable `x` |\n",
        "| `x = np.random.randn(100)` | Create an array with 100 normally-distributed random numbers and assign it to the variable `x` |\n",
        "| `x = np.arange(2,7)` | Create an array with all integers between 2 and (not inculding) 7 and assign it to the variable `x` |\n",
        "| `x = np.arange(2,7,0.3)` | Create an array with evenly spaced values between 2 and 7 with a step size of 0.3 and assign it to the variable `x` |\n",
        "| `x = np.linspace(2,3,10)` | Create an array with 10 evenly spaced values between 2 and 3 and assign it to the variable `x` |\n",
        "\n",
        "------------------------------------------------------------------------\n",
        "\n",
        "<span class=\"theorem-title\">**Exercise 15**</span> Turn the list `a`\n",
        "defined below into an array"
      ],
      "id": "2c41fb61-50bf-40c9-90dd-1d2e7cb374e3"
    },
    {
      "cell_type": "code",
      "execution_count": 29,
      "metadata": {},
      "outputs": [],
      "source": [
        "a = [1, 2, 3]"
      ],
      "id": "c108f13e"
    },
    {
      "cell_type": "code",
      "execution_count": 31,
      "metadata": {},
      "outputs": [
        {
          "output_type": "stream",
          "name": "stdout",
          "text": [
            "​"
          ]
        }
      ],
      "source": [],
      "id": "8756a3e3"
    },
    {
      "cell_type": "markdown",
      "metadata": {},
      "source": [
        "<span class=\"theorem-title\">**Exercise 16**</span> Turn the list `b`\n",
        "defined below into an array"
      ],
      "id": "96abd106-d594-47ad-a0cf-9431acdf28ce"
    },
    {
      "cell_type": "code",
      "execution_count": 32,
      "metadata": {},
      "outputs": [],
      "source": [
        "b = [1, True, \"a\"]"
      ],
      "id": "d4d79ec9"
    },
    {
      "cell_type": "code",
      "execution_count": 34,
      "metadata": {},
      "outputs": [
        {
          "output_type": "stream",
          "name": "stdout",
          "text": [
            "​"
          ]
        }
      ],
      "source": [],
      "id": "63f0bb21"
    },
    {
      "cell_type": "markdown",
      "metadata": {},
      "source": [
        "<span class=\"theorem-title\">**Exercise 17**</span> Make an array\n",
        "containing the integers from 1 to 15."
      ],
      "id": "377f7ee6-0061-401e-bf65-61fac9e48a3a"
    },
    {
      "cell_type": "code",
      "execution_count": 36,
      "metadata": {},
      "outputs": [
        {
          "output_type": "stream",
          "name": "stdout",
          "text": [
            "​"
          ]
        }
      ],
      "source": [],
      "id": "a6872592"
    },
    {
      "cell_type": "markdown",
      "metadata": {},
      "source": [
        "<span class=\"theorem-title\">**Exercise 18**</span> Create an array that\n",
        "contains all even numbers up to and inculding 100"
      ],
      "id": "7dfa762d-322a-4155-95d2-a562a372ad35"
    },
    {
      "cell_type": "code",
      "execution_count": 38,
      "metadata": {},
      "outputs": [
        {
          "output_type": "stream",
          "name": "stdout",
          "text": [
            "​"
          ]
        }
      ],
      "source": [],
      "id": "2e33a391"
    },
    {
      "cell_type": "markdown",
      "metadata": {},
      "source": [
        "<span class=\"theorem-title\">**Exercise 19**</span> Make an array of only\n",
        "6 evenly-spaced numbers between 1 and 10."
      ],
      "id": "829c906b-f848-465f-a63c-79f7847a8a4d"
    },
    {
      "cell_type": "code",
      "execution_count": 40,
      "metadata": {},
      "outputs": [
        {
          "output_type": "stream",
          "name": "stdout",
          "text": [
            "​"
          ]
        }
      ],
      "source": [],
      "id": "0d4e46c0"
    },
    {
      "cell_type": "markdown",
      "metadata": {},
      "source": [
        "<span class=\"theorem-title\">**Exercise 20**</span> Create an array of 10\n",
        "normally-distributed random numbers and compute its mean and standard\n",
        "deviation"
      ],
      "id": "907d48cb-39c4-4055-9fc6-bc13f550cbdc"
    },
    {
      "cell_type": "code",
      "execution_count": 42,
      "metadata": {},
      "outputs": [
        {
          "output_type": "stream",
          "name": "stdout",
          "text": [
            "​"
          ]
        }
      ],
      "source": [],
      "id": "44953dd6"
    },
    {
      "cell_type": "markdown",
      "metadata": {},
      "source": [
        "<span class=\"theorem-title\">**Exercise 21**</span> Now, create arrays\n",
        "with of 100 and 1000 normally-distributed random numbers and compute\n",
        "their means and standard deviations"
      ],
      "id": "89a76acb-a630-4a50-bbcf-2de520287248"
    },
    {
      "cell_type": "code",
      "execution_count": 44,
      "metadata": {},
      "outputs": [
        {
          "output_type": "stream",
          "name": "stdout",
          "text": [
            "​"
          ]
        }
      ],
      "source": [],
      "id": "044516ef"
    },
    {
      "cell_type": "markdown",
      "metadata": {},
      "source": [
        "<span class=\"theorem-title\">**Exercise 22**</span> Assume we recorded a\n",
        "signal with a duration of 20 seconds at a sampling rate of 100 Hz.\n",
        "Create an array of time points for this signal using both `np.arange()`\n",
        "and `np.linspace()`. The array should start at 0, end at 20 and contain\n",
        "150 points for. Are the arrays generated with the two methods identical?"
      ],
      "id": "794e7812-4dc4-47e1-ab70-18217c640ac7"
    },
    {
      "cell_type": "code",
      "execution_count": 46,
      "metadata": {},
      "outputs": [
        {
          "output_type": "stream",
          "name": "stdout",
          "text": [
            "​"
          ]
        }
      ],
      "source": [],
      "id": "c0e607d6"
    },
    {
      "cell_type": "markdown",
      "metadata": {},
      "source": [
        "## Quatifying Numpy’s Performance\n",
        "\n",
        "One of the key advantages of Numpy is that it is a lot faster than basic\n",
        "Python. How much faster? Let’s find out! The code below creates an array\n",
        "of ten thousand random numbers as well as a list with exactly the same\n",
        "data. We can use these to test how Numpy compares to basic Python with\n",
        "respect to performance."
      ],
      "id": "8caa6fa4-49fe-4ff4-ad45-0c22a05b40bc"
    },
    {
      "cell_type": "code",
      "execution_count": 47,
      "metadata": {},
      "outputs": [],
      "source": [
        "my_array = np.random.randn(10000)\n",
        "my_list = list(my_array)"
      ],
      "id": "9cea0a8b"
    },
    {
      "cell_type": "markdown",
      "metadata": {},
      "source": [
        "To time our code, we are going to use the `%%timeit` command. Adding\n",
        "`%%timeit` at the top of a cell makes it so that running that cell\n",
        "displays the time it took to run the code.\n",
        "\n",
        "------------------------------------------------------------------------\n",
        "\n",
        "<span class=\"theorem-title\">**Example 1**</span> Estimate the time for\n",
        "computing the sum of `my_list` using Python’s builtin `sum()` method\n",
        "with `%%timeit`.\n",
        "\n",
        "``` python\n",
        "%%timeit\n",
        "sum(my_list)\n",
        "```\n",
        "\n",
        "    715 μs ± 10.7 μs per loop (mean ± std. dev. of 7 runs, 1,000 loops each)\n",
        "\n",
        "Per default, the code is executed ten times in a loop and the result is\n",
        "averaged over all loops. This procedure is repeated seven times so that\n",
        "we get one average duration for each run. The reported numbers are the\n",
        "average duration across the seven runs and its standard deviation.\n",
        "\n",
        "------------------------------------------------------------------------\n",
        "\n",
        "<span class=\"theorem-title\">**Exercise 23**</span> Use `%%timeit` to\n",
        "estimate how long it takes to compute `np.sum()` of `my_array`"
      ],
      "id": "9bd312dd-c6f6-4a03-aa34-56650ce8b856"
    },
    {
      "cell_type": "code",
      "execution_count": 50,
      "metadata": {},
      "outputs": [
        {
          "output_type": "stream",
          "name": "stdout",
          "text": [
            "​"
          ]
        }
      ],
      "source": [],
      "id": "4e3868dd"
    },
    {
      "cell_type": "markdown",
      "metadata": {},
      "source": [
        "<span class=\"theorem-title\">**Exercise 24**</span> Use `%%timeit` to\n",
        "estimate how long it takes for Python’s builtin `max()` function to find\n",
        "the maximum of `my_list`"
      ],
      "id": "292e7272-55c4-40c7-8466-acea840e8233"
    },
    {
      "cell_type": "code",
      "execution_count": 52,
      "metadata": {},
      "outputs": [
        {
          "output_type": "stream",
          "name": "stdout",
          "text": [
            "​"
          ]
        }
      ],
      "source": [],
      "id": "bac47855"
    },
    {
      "cell_type": "markdown",
      "metadata": {},
      "source": [
        "<span class=\"theorem-title\">**Exercise 25**</span> Use `%%timeit` to\n",
        "estimate how long it takes for the `np.max()` function to find the\n",
        "maximum of `my_array`"
      ],
      "id": "176a0ae8-68d9-47bf-b5cb-fbc94c39dc95"
    },
    {
      "cell_type": "code",
      "execution_count": 54,
      "metadata": {},
      "outputs": [
        {
          "output_type": "stream",
          "name": "stdout",
          "text": [
            "​"
          ]
        }
      ],
      "source": [],
      "id": "f294f855"
    },
    {
      "cell_type": "markdown",
      "metadata": {},
      "source": [
        "<span class=\"theorem-title\">**Exercise 26**</span> The code below\n",
        "estimates the time it takes to multiply every element of `my_list` by 2.\n",
        "Use `%%timeit` to test how long it takes to multiply `my_array` by 2\n",
        "(hint: use the `*` operator)"
      ],
      "id": "e61b8b41-229f-4622-b600-f4ff9b19aff1"
    },
    {
      "cell_type": "code",
      "execution_count": 55,
      "metadata": {},
      "outputs": [
        {
          "output_type": "stream",
          "name": "stdout",
          "text": [
            "1.45 ms ± 6.09 μs per loop (mean ± std. dev. of 7 runs, 1,000 loops each)"
          ]
        }
      ],
      "source": [
        "%%timeit\n",
        "[item*2 for item in my_list]"
      ],
      "id": "d355aaab"
    },
    {
      "cell_type": "code",
      "execution_count": 57,
      "metadata": {},
      "outputs": [
        {
          "output_type": "stream",
          "name": "stdout",
          "text": [
            "​"
          ]
        }
      ],
      "source": [],
      "id": "a91332c5"
    },
    {
      "cell_type": "markdown",
      "metadata": {},
      "source": [
        "<span class=\"theorem-title\">**Exercise 27**</span> What is faster:\n",
        "multipying an array by 2 or adding the array to itself?"
      ],
      "id": "5fd20063-49fb-4374-b400-29b7eab47347"
    },
    {
      "cell_type": "code",
      "execution_count": 60,
      "metadata": {},
      "outputs": [
        {
          "output_type": "stream",
          "name": "stdout",
          "text": [
            "​"
          ]
        }
      ],
      "source": [],
      "id": "31fb2d85"
    }
  ],
  "nbformat": 4,
  "nbformat_minor": 5,
  "metadata": {
    "kernelspec": {
      "name": "python3",
      "display_name": "Python 3 (ipykernel)",
      "language": "python",
      "path": "/home/obi/projects/courses/Intro-to-Scientific-Computing-with-Python/.venv/share/jupyter/kernels/python3"
    },
    "language_info": {
      "name": "python",
      "codemirror_mode": {
        "name": "ipython",
        "version": "3"
      },
      "file_extension": ".py",
      "mimetype": "text/x-python",
      "nbconvert_exporter": "python",
      "pygments_lexer": "ipython3",
      "version": "3.10.15"
    }
  }
}