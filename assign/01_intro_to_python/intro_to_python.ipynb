{
  "cells": [
    {
      "cell_type": "markdown",
      "metadata": {},
      "source": [
        "# Intro to Python"
      ],
      "id": "76219aba-12f7-43e7-8a32-bb68ddd3ff36"
    },
    {
      "cell_type": "code",
      "execution_count": 1,
      "metadata": {},
      "outputs": [],
      "source": [
        "import numpy as np"
      ],
      "id": "6a173454"
    },
    {
      "cell_type": "markdown",
      "metadata": {},
      "source": [
        "## 1. Storing Data in Variables\n",
        "\n",
        "| Code          | Description                                                |\n",
        "|------------------------------------|------------------------------------|\n",
        "| `x = 3.14`    | Assign the floatig-point number `3.14` to the variable `x` |\n",
        "| `x = True`    | Assign the boolean value `True` to the variable `x`        |\n",
        "| `x = \"hello\"` | Assign the string `\"hello\"` to the variable `x`            |\n",
        "| `x = [1,2,3]` | Assign the list of integers `[1,2,3]` to the variable `x`  |\n",
        "\n",
        "## 2. Creating Arrays in Numpy\n",
        "\n",
        "| Code | Description |\n",
        "|------------------------------------|------------------------------------|\n",
        "| `x = np.array([2,5,3])` | Turn the list `[2,5,3]` into a numpy array and assign it to the variable `x` |\n",
        "| `x = np.arange(2,7)` | Create an array with all integers between 2 and (not inculding) 7 and assign it to the variable `x` |\n",
        "| `x = np.arange(2,7,0.3)` | Create an array with evenly spaced values between 2 and 7 with a step size of 0.3 and assign it to the variable `x` |\n",
        "| `x = np.linspace(2,3,10)` | Create an array with 10 evenly spaced values between 2 and 3 and assign it to the variable `x` |\n",
        "| `x = np.zeros(5)` | Create an array with 5 elements that are 0 and assign it to the variable `x` |\n",
        "| `x = np.ones(5)` | Create an array with 5 elements that are 1 and assign it to the variable `x` |\n",
        "| `x = np.random.randn(100)` | Create an array with 100 normally-distributed random numbers and assign it to the variable `x` |\n",
        "\n",
        "## 3. Analyzing Neural Spiking Data\n",
        "\n",
        "Now that we familiarized ourselves with Numpy arrays, we can start to\n",
        "work with some actual scientific data! In this section, we are going to\n",
        "load and analyze the spiking of a neuron in the primary visual cortex of\n",
        "a mouse. The spikes are represented as a sorted list of time points\n",
        "where spikes where observed. For example, `[0.05, 0.24, 1.5]` indicates\n",
        "that a spike was observed 50, 240 and 1500 milliseconds after the start\n",
        "of the recroding. Numpy offers a lot of convenient analysis functions\n",
        "which allow us to answer some interesting questions about the firing\n",
        "behavior of this neuron\n",
        "\n",
        "| Code | Description |\n",
        "|------------------------------------|------------------------------------|\n",
        "| `x = np.load(\"data.npy\")` | Load the file `\"data.npy\"` into an array and assign it to the variable `x` |\n",
        "| `np.size(x)` | Get the total number of element stored in the array `x` |\n",
        "| `np.min(x)` | Get the minimum value of the array `x` |\n",
        "| `np.max(x)` | Get the maximum value of the array `x` |\n",
        "| `np.mean(x)` | Compute the mean of all values in the array `x` |\n",
        "| `np.diff(x)` | Compute the difference between the elements in the array `x` |"
      ],
      "id": "4715a5c0-99c2-4798-892d-7ee8583ac8e3"
    },
    {
      "cell_type": "markdown",
      "metadata": {},
      "source": [
        "### Exercises"
      ],
      "id": "4fb27ee9-d354-4ff4-a464-6baddb2ed611"
    },
    {
      "cell_type": "markdown",
      "metadata": {},
      "source": [
        "Load the file `\"spikes.npy\"` into a numpy array"
      ],
      "id": "1d2213f1-4cce-4d56-8da2-6bf592b6542f"
    },
    {
      "cell_type": "code",
      "execution_count": 3,
      "metadata": {},
      "outputs": [
        {
          "output_type": "stream",
          "name": "stdout",
          "text": [
            "​"
          ]
        }
      ],
      "source": [],
      "id": "7bdf656f"
    },
    {
      "cell_type": "markdown",
      "metadata": {},
      "source": [
        "What is the total number of spikes in this recording?\n",
        "\n",
        "What is the duration of the recording (assuming the recording stopped\n",
        "after the last spike was recorded)\n",
        "\n",
        "Compute the neuron’s average firing rate (the number of spikes divided\n",
        "by the duration of the recording)\n",
        "\n",
        "Compute the inter-spike intervals (i.e. the time differences between\n",
        "subsequent spikes)\n",
        "\n",
        "What is the average inter-spike interval for this neuron?\n",
        "\n",
        "What is the shortest time between two spikes?\n",
        "\n",
        "## 4. Quatifying Numpy’s Performance\n",
        "\n",
        "One of the key advantages of Numpy is that it is a lot faster than basic\n",
        "Python. How much faster? Let’s find out!"
      ],
      "id": "fb140ab4-efd0-4bb2-9f4d-905abfad2431"
    },
    {
      "cell_type": "code",
      "execution_count": 10,
      "metadata": {},
      "outputs": [],
      "source": [
        "my_array = np.random.randn(1000000)\n",
        "my_list = list(my_array)"
      ],
      "id": "61ca4cca"
    },
    {
      "cell_type": "code",
      "execution_count": 11,
      "metadata": {},
      "outputs": [
        {
          "output_type": "stream",
          "name": "stdout",
          "text": [
            "46.1 ms ± 2.2 ms per loop (mean ± std. dev. of 7 runs, 10 loops each)"
          ]
        }
      ],
      "source": [
        "%%timeit\n",
        "sum(my_list)"
      ],
      "id": "2bc97d2e"
    },
    {
      "cell_type": "code",
      "execution_count": 12,
      "metadata": {},
      "outputs": [
        {
          "output_type": "stream",
          "name": "stdout",
          "text": [
            "616 μs ± 18.9 μs per loop (mean ± std. dev. of 7 runs, 1,000 loops each)"
          ]
        }
      ],
      "source": [
        "%%timeit\n",
        "np.sum(my_array)"
      ],
      "id": "28e7aa34"
    },
    {
      "cell_type": "code",
      "execution_count": 13,
      "metadata": {},
      "outputs": [
        {
          "output_type": "stream",
          "name": "stdout",
          "text": [
            "14.2 ms ± 275 μs per loop (mean ± std. dev. of 7 runs, 100 loops each)"
          ]
        }
      ],
      "source": [
        "%%timeit\n",
        "max(my_list)"
      ],
      "id": "2c5f54d2"
    },
    {
      "cell_type": "code",
      "execution_count": 14,
      "metadata": {},
      "outputs": [
        {
          "output_type": "stream",
          "name": "stdout",
          "text": [
            "649 μs ± 31.4 μs per loop (mean ± std. dev. of 7 runs, 1,000 loops each)"
          ]
        }
      ],
      "source": [
        "%%timeit\n",
        "np.max(my_array)"
      ],
      "id": "795c664c"
    }
  ],
  "nbformat": 4,
  "nbformat_minor": 5,
  "metadata": {
    "kernelspec": {
      "name": "python3",
      "display_name": "Python 3 (ipykernel)",
      "language": "python",
      "path": "/home/obi/projects/courses/Intro-to-Scientific-Computing-with-Python/.venv/share/jupyter/kernels/python3"
    },
    "language_info": {
      "name": "python",
      "codemirror_mode": {
        "name": "ipython",
        "version": "3"
      },
      "file_extension": ".py",
      "mimetype": "text/x-python",
      "nbconvert_exporter": "python",
      "pygments_lexer": "ipython3",
      "version": "3.10.15"
    }
  }
}